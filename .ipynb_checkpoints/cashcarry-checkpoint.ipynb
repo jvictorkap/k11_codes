{
 "cells": [
  {
   "cell_type": "code",
   "execution_count": 23,
   "id": "4e8f089e",
   "metadata": {},
   "outputs": [
    {
     "data": {
      "text/html": [
       "<div>\n",
       "<style scoped>\n",
       "    .dataframe tbody tr th:only-of-type {\n",
       "        vertical-align: middle;\n",
       "    }\n",
       "\n",
       "    .dataframe tbody tr th {\n",
       "        vertical-align: top;\n",
       "    }\n",
       "\n",
       "    .dataframe thead th {\n",
       "        text-align: right;\n",
       "    }\n",
       "</style>\n",
       "<table border=\"1\" class=\"dataframe\">\n",
       "  <thead>\n",
       "    <tr style=\"text-align: right;\">\n",
       "      <th></th>\n",
       "      <th>dte_data</th>\n",
       "      <th>str_mercado</th>\n",
       "      <th>str_codigo</th>\n",
       "      <th>str_serie</th>\n",
       "      <th>dbl_lote</th>\n",
       "      <th>str_estrategia</th>\n",
       "    </tr>\n",
       "  </thead>\n",
       "  <tbody>\n",
       "    <tr>\n",
       "      <th>92</th>\n",
       "      <td>2022-08-25</td>\n",
       "      <td>Futuro</td>\n",
       "      <td>IND</td>\n",
       "      <td>V22</td>\n",
       "      <td>518.0</td>\n",
       "      <td>CashCarry</td>\n",
       "    </tr>\n",
       "    <tr>\n",
       "      <th>93</th>\n",
       "      <td>2022-08-25</td>\n",
       "      <td>Futuro</td>\n",
       "      <td>WIN</td>\n",
       "      <td>V22</td>\n",
       "      <td>1932.0</td>\n",
       "      <td>CashCarry</td>\n",
       "    </tr>\n",
       "    <tr>\n",
       "      <th>96</th>\n",
       "      <td>2022-08-25</td>\n",
       "      <td>Futuro</td>\n",
       "      <td>IND</td>\n",
       "      <td>V22</td>\n",
       "      <td>-1360.0</td>\n",
       "      <td>CashCarry5</td>\n",
       "    </tr>\n",
       "    <tr>\n",
       "      <th>97</th>\n",
       "      <td>2022-08-25</td>\n",
       "      <td>Futuro</td>\n",
       "      <td>WIN</td>\n",
       "      <td>V22</td>\n",
       "      <td>-3964.0</td>\n",
       "      <td>CashCarry5</td>\n",
       "    </tr>\n",
       "  </tbody>\n",
       "</table>\n",
       "</div>"
      ],
      "text/plain": [
       "      dte_data str_mercado str_codigo str_serie  dbl_lote str_estrategia\n",
       "92  2022-08-25      Futuro        IND       V22     518.0      CashCarry\n",
       "93  2022-08-25      Futuro        WIN       V22    1932.0      CashCarry\n",
       "96  2022-08-25      Futuro        IND       V22   -1360.0     CashCarry5\n",
       "97  2022-08-25      Futuro        WIN       V22   -3964.0     CashCarry5"
      ]
     },
     "metadata": {},
     "output_type": "display_data"
    },
    {
     "data": {
      "text/html": [
       "<div>\n",
       "<style scoped>\n",
       "    .dataframe tbody tr th:only-of-type {\n",
       "        vertical-align: middle;\n",
       "    }\n",
       "\n",
       "    .dataframe tbody tr th {\n",
       "        vertical-align: top;\n",
       "    }\n",
       "\n",
       "    .dataframe thead th {\n",
       "        text-align: right;\n",
       "    }\n",
       "</style>\n",
       "<table border=\"1\" class=\"dataframe\">\n",
       "  <thead>\n",
       "    <tr style=\"text-align: right;\">\n",
       "      <th></th>\n",
       "      <th>str_estrategia</th>\n",
       "      <th>str_codigo</th>\n",
       "      <th>dbl_lote</th>\n",
       "    </tr>\n",
       "  </thead>\n",
       "  <tbody>\n",
       "    <tr>\n",
       "      <th>0</th>\n",
       "      <td>CashCarry</td>\n",
       "      <td>IND</td>\n",
       "      <td>904.4</td>\n",
       "    </tr>\n",
       "    <tr>\n",
       "      <th>1</th>\n",
       "      <td>CashCarry5</td>\n",
       "      <td>IND</td>\n",
       "      <td>-2152.8</td>\n",
       "    </tr>\n",
       "  </tbody>\n",
       "</table>\n",
       "</div>"
      ],
      "text/plain": [
       "  str_estrategia str_codigo  dbl_lote\n",
       "0      CashCarry        IND     904.4\n",
       "1     CashCarry5        IND   -2152.8"
      ]
     },
     "execution_count": 23,
     "metadata": {},
     "output_type": "execute_result"
    }
   ],
   "source": [
    "\n",
    "import pandas as pd\n",
    "import psycopg2\n",
    "import config\n",
    "import workdays\n",
    "import datetime\n",
    "import requests\n",
    "\n",
    "\n",
    "holidays_br = workdays.load_holidays('BR')\n",
    "holidays_b3 = workdays.load_holidays('B3')\n",
    "dt = datetime.date.today()\n",
    "vcto_0 = dt.strftime('%d/%m/%Y')\n",
    "dt_pos = workdays.workday(dt, -1, holidays_br)\n",
    "dt_1 = workdays.workday(dt, -1, holidays_b3)\n",
    "dt_2 = workdays.workday(dt, -2, holidays_b3)\n",
    "\n",
    "\n",
    "\n",
    "\n",
    "def get_carteira(dt=dt_1):\n",
    "    db_conn_test = psycopg2.connect(host=config.DB_TESTE_HOST, dbname=config.DB_TESTE_NAME , user=config.DB_TESTE_USER, password=config.DB_TESTE_PASS)    \n",
    "    query=f\"SELECT dte_data, str_mercado, str_codigo, str_serie, dbl_lote, str_estrategia \\\n",
    "            FROM public.tbl_carteira1 where dte_data='{dt}' and str_estrategia like'%CashCarry%'  and str_fundo='KAPITALO KAPPA MASTER FIM' and str_mesa='Kapitalo 11.1'\"\n",
    "\n",
    "    df =pd.read_sql(query,db_conn_test)\n",
    "    db_conn_test.close()\n",
    "    return df\n",
    "\n",
    "def consulta_ibov():\n",
    "    r = requests.get('https://sistemaswebb3-listados.b3.com.br/indexProxy/indexCall/GetPortfolioDay/eyJsYW5ndWFnZSI6InB0LWJyIiwicGFnZU51bWJlciI6MSwicGFnZVNpemUiOjEyMCwiaW5kZXgiOiJJQk9WIiwic2VnbWVudCI6IjIifQ==', verify=False)\n",
    "    ibov = pd.DataFrame(r.json()['results'])\n",
    "    ibov['part']=ibov['part'].str.replace(',', '.').astype(float)\n",
    "    #reductor = float(r.json()['header']['reductor'].replace('.', '').replace(',', '.'))\n",
    "\n",
    "    ibov['theoricalQty'] = ibov['theoricalQty'].apply(lambda x: x.replace('.', '').replace(',', '.')).astype(float)\n",
    "    ibov['cod']= ibov['cod'].astype(str)\n",
    "    \n",
    "    ibov.loc[0,'reductor']= float(r.json()['header']['reductor'].replace('.', '').replace(',', '.'))\n",
    "\n",
    "    \n",
    "    return ibov\n",
    "\n",
    "\n",
    "df=get_carteira(dt_1)\n",
    "pos_futuro= df[df['str_mercado']=='Futuro']\n",
    "\n",
    "pos_futuro = pos_futuro[pos_futuro['str_serie']==\"V22\"]\n",
    "\n",
    "pos_carteira=df[df['str_mercado']=='Acao']\n",
    "num_contratos=-pos_futuro.iloc[0]['dbl_lote']\n",
    "\n",
    "display(pos_futuro)\n",
    "\n",
    "pos_futuro['dbl_lote']=pos_futuro.apply(lambda row: row['dbl_lote']/5 if row['str_codigo']=='WIN' else row['dbl_lote'],axis=1)\n",
    "pos_futuro['str_codigo']='IND'\n",
    "    \n",
    "\n",
    "pos_futuro=pos_futuro.groupby([\"str_estrategia\",'str_codigo'],as_index=False).agg({'dbl_lote':sum})\n",
    "pos_futuro"
   ]
  },
  {
   "cell_type": "code",
   "execution_count": 24,
   "id": "91991142",
   "metadata": {},
   "outputs": [
    {
     "name": "stderr",
     "output_type": "stream",
     "text": [
      "C:\\Python37\\lib\\site-packages\\urllib3\\connectionpool.py:1050: InsecureRequestWarning: Unverified HTTPS request is being made to host 'sistemaswebb3-listados.b3.com.br'. Adding certificate verification is strongly advised. See: https://urllib3.readthedocs.io/en/1.26.x/advanced-usage.html#ssl-warnings\n",
      "  InsecureRequestWarning,\n"
     ]
    }
   ],
   "source": [
    "dt = datetime.date.today()\n",
    "r = requests.get('https://sistemaswebb3-listados.b3.com.br/indexProxy/indexCall/GetPortfolioDay/eyJsYW5ndWFnZSI6InB0LWJyIiwicGFnZU51bWJlciI6MSwicGFnZVNpemUiOjEyMCwiaW5kZXgiOiJJQk9WIiwic2VnbWVudCI6IjIifQ==', verify=False)\n",
    "ibov = pd.DataFrame(r.json()['results']).drop(columns=['segment','partAcum'])\n",
    "ibov['part']=ibov['part'].str.replace(',', '.').astype(float)\n",
    "#reductor = float(r.json()['header']['reductor'].replace('.', '').replace(',', '.'))\n",
    "\n",
    "ibov['theoricalQty'] = ibov['theoricalQty'].apply(lambda x: x.replace('.', '').replace(',', '.')).astype(float)\n",
    "ibov['cod']= ibov['cod'].astype(str)\n",
    "\n",
    "ibov.loc[0,'reductor']= float(r.json()['header']['reductor'].replace('.', '').replace(',', '.'))\n",
    "\n",
    "# ibov.to_excel(f\"G:\\Trading\\K11\\CashCarry\\Carteira Ibovespa\\\\Carteira_IBOV_{dt.strftime('%Y-%m-%d')}.xlsx\")"
   ]
  },
  {
   "cell_type": "code",
   "execution_count": 25,
   "id": "6729776e",
   "metadata": {},
   "outputs": [
    {
     "data": {
      "text/plain": [
       "-1248.4"
      ]
     },
     "execution_count": 25,
     "metadata": {},
     "output_type": "execute_result"
    }
   ],
   "source": [
    "pos_futuro['dbl_lote'].sum()"
   ]
  },
  {
   "cell_type": "code",
   "execution_count": 26,
   "id": "9d566fa8",
   "metadata": {},
   "outputs": [
    {
     "data": {
      "text/html": [
       "<div>\n",
       "<style scoped>\n",
       "    .dataframe tbody tr th:only-of-type {\n",
       "        vertical-align: middle;\n",
       "    }\n",
       "\n",
       "    .dataframe tbody tr th {\n",
       "        vertical-align: top;\n",
       "    }\n",
       "\n",
       "    .dataframe thead th {\n",
       "        text-align: right;\n",
       "    }\n",
       "</style>\n",
       "<table border=\"1\" class=\"dataframe\">\n",
       "  <thead>\n",
       "    <tr style=\"text-align: right;\">\n",
       "      <th></th>\n",
       "      <th>str_estrategia</th>\n",
       "      <th>str_codigo</th>\n",
       "      <th>dbl_lote</th>\n",
       "    </tr>\n",
       "  </thead>\n",
       "  <tbody>\n",
       "    <tr>\n",
       "      <th>0</th>\n",
       "      <td>CashCarry</td>\n",
       "      <td>IND</td>\n",
       "      <td>904.4</td>\n",
       "    </tr>\n",
       "    <tr>\n",
       "      <th>1</th>\n",
       "      <td>CashCarry5</td>\n",
       "      <td>IND</td>\n",
       "      <td>-2152.8</td>\n",
       "    </tr>\n",
       "  </tbody>\n",
       "</table>\n",
       "</div>"
      ],
      "text/plain": [
       "  str_estrategia str_codigo  dbl_lote\n",
       "0      CashCarry        IND     904.4\n",
       "1     CashCarry5        IND   -2152.8"
      ]
     },
     "execution_count": 26,
     "metadata": {},
     "output_type": "execute_result"
    }
   ],
   "source": [
    "pos_futuro"
   ]
  },
  {
   "cell_type": "code",
   "execution_count": 28,
   "id": "e96fcc61",
   "metadata": {},
   "outputs": [
    {
     "name": "stderr",
     "output_type": "stream",
     "text": [
      "C:\\Python37\\lib\\site-packages\\urllib3\\connectionpool.py:1050: InsecureRequestWarning: Unverified HTTPS request is being made to host 'sistemaswebb3-listados.b3.com.br'. Adding certificate verification is strongly advised. See: https://urllib3.readthedocs.io/en/1.26.x/advanced-usage.html#ssl-warnings\n",
      "  InsecureRequestWarning,\n"
     ]
    },
    {
     "data": {
      "text/plain": [
       "904.4"
      ]
     },
     "metadata": {},
     "output_type": "display_data"
    },
    {
     "data": {
      "text/html": [
       "<div>\n",
       "<style scoped>\n",
       "    .dataframe tbody tr th:only-of-type {\n",
       "        vertical-align: middle;\n",
       "    }\n",
       "\n",
       "    .dataframe tbody tr th {\n",
       "        vertical-align: top;\n",
       "    }\n",
       "\n",
       "    .dataframe thead th {\n",
       "        text-align: right;\n",
       "    }\n",
       "</style>\n",
       "<table border=\"1\" class=\"dataframe\">\n",
       "  <thead>\n",
       "    <tr style=\"text-align: right;\">\n",
       "      <th></th>\n",
       "      <th>cod</th>\n",
       "      <th>trade</th>\n",
       "    </tr>\n",
       "  </thead>\n",
       "  <tbody>\n",
       "    <tr>\n",
       "      <th>6</th>\n",
       "      <td>BBAS3</td>\n",
       "      <td>-100.0</td>\n",
       "    </tr>\n",
       "    <tr>\n",
       "      <th>8</th>\n",
       "      <td>BBDC4</td>\n",
       "      <td>-100.0</td>\n",
       "    </tr>\n",
       "    <tr>\n",
       "      <th>14</th>\n",
       "      <td>BRFS3</td>\n",
       "      <td>-100.0</td>\n",
       "    </tr>\n",
       "    <tr>\n",
       "      <th>16</th>\n",
       "      <td>BRML3</td>\n",
       "      <td>-100.0</td>\n",
       "    </tr>\n",
       "    <tr>\n",
       "      <th>17</th>\n",
       "      <td>CASH3</td>\n",
       "      <td>-100.0</td>\n",
       "    </tr>\n",
       "    <tr>\n",
       "      <th>18</th>\n",
       "      <td>CCRO3</td>\n",
       "      <td>-100.0</td>\n",
       "    </tr>\n",
       "    <tr>\n",
       "      <th>23</th>\n",
       "      <td>CPFE3</td>\n",
       "      <td>-100.0</td>\n",
       "    </tr>\n",
       "    <tr>\n",
       "      <th>32</th>\n",
       "      <td>EGIE3</td>\n",
       "      <td>-100.0</td>\n",
       "    </tr>\n",
       "    <tr>\n",
       "      <th>42</th>\n",
       "      <td>GGBR4</td>\n",
       "      <td>100.0</td>\n",
       "    </tr>\n",
       "    <tr>\n",
       "      <th>43</th>\n",
       "      <td>GOAU4</td>\n",
       "      <td>-100.0</td>\n",
       "    </tr>\n",
       "    <tr>\n",
       "      <th>50</th>\n",
       "      <td>ITUB4</td>\n",
       "      <td>100.0</td>\n",
       "    </tr>\n",
       "    <tr>\n",
       "      <th>52</th>\n",
       "      <td>JHSF3</td>\n",
       "      <td>100.0</td>\n",
       "    </tr>\n",
       "    <tr>\n",
       "      <th>53</th>\n",
       "      <td>KLBN11</td>\n",
       "      <td>100.0</td>\n",
       "    </tr>\n",
       "    <tr>\n",
       "      <th>54</th>\n",
       "      <td>LREN3</td>\n",
       "      <td>-100.0</td>\n",
       "    </tr>\n",
       "    <tr>\n",
       "      <th>58</th>\n",
       "      <td>MRVE3</td>\n",
       "      <td>100.0</td>\n",
       "    </tr>\n",
       "    <tr>\n",
       "      <th>61</th>\n",
       "      <td>PCAR3</td>\n",
       "      <td>100.0</td>\n",
       "    </tr>\n",
       "    <tr>\n",
       "      <th>62</th>\n",
       "      <td>PETR3</td>\n",
       "      <td>-100.0</td>\n",
       "    </tr>\n",
       "    <tr>\n",
       "      <th>64</th>\n",
       "      <td>PETZ3</td>\n",
       "      <td>-100.0</td>\n",
       "    </tr>\n",
       "    <tr>\n",
       "      <th>66</th>\n",
       "      <td>PRIO3</td>\n",
       "      <td>-100.0</td>\n",
       "    </tr>\n",
       "    <tr>\n",
       "      <th>84</th>\n",
       "      <td>VALE3</td>\n",
       "      <td>100.0</td>\n",
       "    </tr>\n",
       "    <tr>\n",
       "      <th>88</th>\n",
       "      <td>WEGE3</td>\n",
       "      <td>-100.0</td>\n",
       "    </tr>\n",
       "  </tbody>\n",
       "</table>\n",
       "</div>"
      ],
      "text/plain": [
       "       cod  trade\n",
       "6    BBAS3 -100.0\n",
       "8    BBDC4 -100.0\n",
       "14   BRFS3 -100.0\n",
       "16   BRML3 -100.0\n",
       "17   CASH3 -100.0\n",
       "18   CCRO3 -100.0\n",
       "23   CPFE3 -100.0\n",
       "32   EGIE3 -100.0\n",
       "42   GGBR4  100.0\n",
       "43   GOAU4 -100.0\n",
       "50   ITUB4  100.0\n",
       "52   JHSF3  100.0\n",
       "53  KLBN11  100.0\n",
       "54   LREN3 -100.0\n",
       "58   MRVE3  100.0\n",
       "61   PCAR3  100.0\n",
       "62   PETR3 -100.0\n",
       "64   PETZ3 -100.0\n",
       "66   PRIO3 -100.0\n",
       "84   VALE3  100.0\n",
       "88   WEGE3 -100.0"
      ]
     },
     "execution_count": 28,
     "metadata": {},
     "output_type": "execute_result"
    }
   ],
   "source": [
    "df=get_carteira()\n",
    "ibov=consulta_ibov()\n",
    "num_contratos=pos_futuro.loc[(pos_futuro['str_estrategia']==\"CashCarry\")].iloc[0]['dbl_lote']\n",
    "pos_carteira = pos_carteira[pos_carteira['str_estrategia']=='CashCarry']\n",
    "display(num_contratos)\n",
    "redutor=ibov['reductor'].tolist()[0]\n",
    "ibov=ibov[['cod','theoricalQty']]\n",
    "\n",
    "\n",
    "pos_carteira['cod']=pos_carteira['str_serie'].apply(lambda x: x.replace(' BZ EQUITY',''))\n",
    "\n",
    "rebal=pd.merge(pos_carteira,ibov, on='cod',how='inner')\n",
    "\n",
    "rebal['ideal']= rebal.apply(lambda row: -row['theoricalQty']*num_contratos/redutor, axis=1)\n",
    "\n",
    "rebal['trade']=round((rebal['ideal']-rebal['dbl_lote'])/100,0)*100\n",
    "rebal=rebal[abs(rebal['trade'])>0]\n",
    "trade=rebal[['cod','trade']]\n",
    "# rebal\n",
    "\n",
    "# trade.to_excel('ajuste_cash.xlsx')\n",
    "# num_contratos\n",
    "trade\n",
    "# trade.to_clipboard(excel=True)\n",
    "\n",
    "\n",
    "\n"
   ]
  },
  {
   "cell_type": "code",
   "execution_count": 5,
   "id": "b2393cc1",
   "metadata": {},
   "outputs": [
    {
     "name": "stderr",
     "output_type": "stream",
     "text": [
      "C:\\Python37\\lib\\site-packages\\ipykernel_launcher.py:6: SettingWithCopyWarning: \n",
      "A value is trying to be set on a copy of a slice from a DataFrame.\n",
      "Try using .loc[row_indexer,col_indexer] = value instead\n",
      "\n",
      "See the caveats in the documentation: https://pandas.pydata.org/pandas-docs/stable/user_guide/indexing.html#returning-a-view-versus-a-copy\n",
      "  \n"
     ]
    },
    {
     "data": {
      "text/html": [
       "<div>\n",
       "<style scoped>\n",
       "    .dataframe tbody tr th:only-of-type {\n",
       "        vertical-align: middle;\n",
       "    }\n",
       "\n",
       "    .dataframe tbody tr th {\n",
       "        vertical-align: top;\n",
       "    }\n",
       "\n",
       "    .dataframe thead th {\n",
       "        text-align: right;\n",
       "    }\n",
       "</style>\n",
       "<table border=\"1\" class=\"dataframe\">\n",
       "  <thead>\n",
       "    <tr style=\"text-align: right;\">\n",
       "      <th></th>\n",
       "      <th></th>\n",
       "      <th></th>\n",
       "      <th>dbl_lote</th>\n",
       "      <th>dbl_lote_ind</th>\n",
       "    </tr>\n",
       "    <tr>\n",
       "      <th>str_codigo</th>\n",
       "      <th>str_serie</th>\n",
       "      <th>str_estrategia</th>\n",
       "      <th></th>\n",
       "      <th></th>\n",
       "    </tr>\n",
       "  </thead>\n",
       "  <tbody>\n",
       "    <tr>\n",
       "      <th rowspan=\"2\" valign=\"top\">IND</th>\n",
       "      <th rowspan=\"2\" valign=\"top\">Q22</th>\n",
       "      <th>CashCarry</th>\n",
       "      <td>583.0</td>\n",
       "      <td>583.0</td>\n",
       "    </tr>\n",
       "    <tr>\n",
       "      <th>CashCarry5</th>\n",
       "      <td>-878.0</td>\n",
       "      <td>-878.0</td>\n",
       "    </tr>\n",
       "    <tr>\n",
       "      <th rowspan=\"2\" valign=\"top\">WIN</th>\n",
       "      <th rowspan=\"2\" valign=\"top\">Q22</th>\n",
       "      <th>CashCarry</th>\n",
       "      <td>2168.0</td>\n",
       "      <td>433.6</td>\n",
       "    </tr>\n",
       "    <tr>\n",
       "      <th>CashCarry5</th>\n",
       "      <td>-3409.0</td>\n",
       "      <td>-681.8</td>\n",
       "    </tr>\n",
       "  </tbody>\n",
       "</table>\n",
       "</div>"
      ],
      "text/plain": [
       "                                     dbl_lote  dbl_lote_ind\n",
       "str_codigo str_serie str_estrategia                        \n",
       "IND        Q22       CashCarry          583.0         583.0\n",
       "                     CashCarry5        -878.0        -878.0\n",
       "WIN        Q22       CashCarry         2168.0         433.6\n",
       "                     CashCarry5       -3409.0        -681.8"
      ]
     },
     "execution_count": 5,
     "metadata": {},
     "output_type": "execute_result"
    }
   ],
   "source": [
    "pos_bova=df[df['str_mercado']==\"Futuro\"]\n",
    "\n",
    "# roll=pos_bova[pos_bova['str_serie']=='M22']\n",
    "# pos_bova\n",
    "# roll\n",
    "pos_bova['dbl_lote_ind']=pos_bova.apply(lambda row: (row['dbl_lote']/5) if (row['str_codigo']=='WIN') else row['dbl_lote'],axis=1)\n",
    "\n",
    "\n",
    "# roll['dbl_lote_ind']=roll.apply(lambda row: (row['dbl_lote']/5) if (row['str_codigo']=='WIN') else row['dbl_lote'],axis=1)\n",
    "\n",
    "pos_bova.groupby(['str_codigo','str_serie','str_estrategia']).sum()\n",
    "\n",
    "# roll=roll['dbl_lote_ind'].sum()\n",
    "# roll\n",
    "\n",
    "# pos_bova['dbl_lote_ind'].sum()\n",
    "\n",
    "# -950 \n",
    "\n",
    "\n",
    "# 659 \n"
   ]
  },
  {
   "cell_type": "code",
   "execution_count": 43,
   "id": "79131bd3",
   "metadata": {},
   "outputs": [
    {
     "data": {
      "text/plain": [
       "-1206.8"
      ]
     },
     "execution_count": 43,
     "metadata": {},
     "output_type": "execute_result"
    }
   ],
   "source": [
    "pos_bova['dbl_lote_ind'].sum()"
   ]
  },
  {
   "cell_type": "code",
   "execution_count": 83,
   "id": "388dc304",
   "metadata": {},
   "outputs": [
    {
     "data": {
      "text/plain": [
       "236.60000000000002"
      ]
     },
     "execution_count": 83,
     "metadata": {},
     "output_type": "execute_result"
    }
   ],
   "source": [
    "pos_bova[pos_bova['str_estrategia']=='CashCarry']['dbl_lote_ind'].sum()"
   ]
  },
  {
   "cell_type": "code",
   "execution_count": 4,
   "id": "d5271466",
   "metadata": {},
   "outputs": [],
   "source": [
    "## ZETA FIA\n",
    "\n",
    "\n",
    "    \n",
    "    \n",
    "def get_carteira_zeta(dt=dt_1):\n",
    "    db_conn_test = psycopg2.connect(host=config.DB_TESTE_HOST, dbname=config.DB_TESTE_NAME , user=config.DB_TESTE_USER, password=config.DB_TESTE_PASS)    \n",
    "    query=f\"SELECT dte_data, str_mercado, str_codigo, str_serie, dbl_lote, str_estrategia \\\n",
    "            FROM public.tbl_carteira1 where dte_data='{dt}' and str_estrategia like'%CashCarry%'  and str_fundo='KAPITALO ZETA MASTER FIA' and str_mesa='Kapitalo 11.1'\"\n",
    "\n",
    "    df =pd.read_sql(query,db_conn_test)\n",
    "    db_conn_test.close()\n",
    "    \n",
    "    return df\n"
   ]
  },
  {
   "cell_type": "code",
   "execution_count": 5,
   "id": "6bf813fc",
   "metadata": {},
   "outputs": [
    {
     "data": {
      "text/html": [
       "<div>\n",
       "<style scoped>\n",
       "    .dataframe tbody tr th:only-of-type {\n",
       "        vertical-align: middle;\n",
       "    }\n",
       "\n",
       "    .dataframe tbody tr th {\n",
       "        vertical-align: top;\n",
       "    }\n",
       "\n",
       "    .dataframe thead th {\n",
       "        text-align: right;\n",
       "    }\n",
       "</style>\n",
       "<table border=\"1\" class=\"dataframe\">\n",
       "  <thead>\n",
       "    <tr style=\"text-align: right;\">\n",
       "      <th></th>\n",
       "      <th>dte_data</th>\n",
       "      <th>str_mercado</th>\n",
       "      <th>str_codigo</th>\n",
       "      <th>str_serie</th>\n",
       "      <th>dbl_lote</th>\n",
       "      <th>str_estrategia</th>\n",
       "    </tr>\n",
       "  </thead>\n",
       "  <tbody>\n",
       "    <tr>\n",
       "      <th>0</th>\n",
       "      <td>2022-08-03</td>\n",
       "      <td>Acao</td>\n",
       "      <td>BOVA</td>\n",
       "      <td>BOVA11 BZ EQUITY</td>\n",
       "      <td>502941.0</td>\n",
       "      <td>CashCarry5</td>\n",
       "    </tr>\n",
       "  </tbody>\n",
       "</table>\n",
       "</div>"
      ],
      "text/plain": [
       "     dte_data str_mercado str_codigo         str_serie  dbl_lote  \\\n",
       "0  2022-08-03        Acao       BOVA  BOVA11 BZ EQUITY  502941.0   \n",
       "\n",
       "  str_estrategia  \n",
       "0     CashCarry5  "
      ]
     },
     "metadata": {},
     "output_type": "display_data"
    },
    {
     "name": "stderr",
     "output_type": "stream",
     "text": [
      "C:\\Python37\\lib\\site-packages\\ipykernel_launcher.py:12: SettingWithCopyWarning: \n",
      "A value is trying to be set on a copy of a slice from a DataFrame.\n",
      "Try using .loc[row_indexer,col_indexer] = value instead\n",
      "\n",
      "See the caveats in the documentation: https://pandas.pydata.org/pandas-docs/stable/user_guide/indexing.html#returning-a-view-versus-a-copy\n",
      "  if sys.path[0] == '':\n",
      "C:\\Python37\\lib\\site-packages\\ipykernel_launcher.py:13: SettingWithCopyWarning: \n",
      "A value is trying to be set on a copy of a slice from a DataFrame.\n",
      "Try using .loc[row_indexer,col_indexer] = value instead\n",
      "\n",
      "See the caveats in the documentation: https://pandas.pydata.org/pandas-docs/stable/user_guide/indexing.html#returning-a-view-versus-a-copy\n",
      "  del sys.path[0]\n"
     ]
    }
   ],
   "source": [
    "\n",
    "df=get_carteira_zeta(dt_1)\n",
    "pos_futuro= df[df['str_mercado']=='Futuro']\n",
    "\n",
    "\n",
    "pos_carteira=df[df['str_mercado']=='Acao']\n",
    "num_contratos=-pos_futuro.iloc[0]['dbl_lote']\n",
    "\n",
    "df\n",
    "display(pos_carteira)\n",
    "pos_carteira.to_clipboard(excel=True, sep=None)\n",
    "# pos_carteira.to_excel('.xlsx')\n",
    "pos_futuro['dbl_lote']=pos_futuro.apply(lambda row: row['dbl_lote']/5 if row['str_codigo']=='WIN' else row['dbl_lote'],axis=1)\n",
    "pos_futuro['str_codigo']='IND'\n",
    "pos_futuro=pos_futuro.groupby([\"str_estrategia\",'str_codigo'],as_index=False).agg({'dbl_lote':sum})\n"
   ]
  },
  {
   "cell_type": "code",
   "execution_count": 6,
   "id": "9793e9f0",
   "metadata": {},
   "outputs": [
    {
     "name": "stderr",
     "output_type": "stream",
     "text": [
      "C:\\Python37\\lib\\site-packages\\urllib3\\connectionpool.py:1050: InsecureRequestWarning: Unverified HTTPS request is being made to host 'sistemaswebb3-listados.b3.com.br'. Adding certificate verification is strongly advised. See: https://urllib3.readthedocs.io/en/1.26.x/advanced-usage.html#ssl-warnings\n",
      "  InsecureRequestWarning,\n"
     ]
    }
   ],
   "source": [
    "df=get_carteira_zeta(dt_1)\n",
    "ibov=consulta_ibov()\n",
    "num_contratos_z=pos_futuro[pos_futuro['str_estrategia']==\"CashCarry5\"].iloc[0]['dbl_lote']\n",
    "\n",
    "# redutor=ibov['reductor'].tolist()[0]\n",
    "# ibov=ibov[['cod','theoricalQty']]\n",
    "\n",
    "\n",
    "# pos_carteira['cod']=pos_carteira['str_serie'].apply(lambda x: x.replace(' BZ EQUITY',''))\n",
    "\n",
    "# rebal=pd.merge(pos_carteira,ibov, on='cod',how='inner')\n",
    "\n",
    "# rebal['ideal']= rebal.apply(lambda row: row['theoricalQty']*num_contratos/redutor, axis=1)\n",
    "\n",
    "# rebal['trade']=round((rebal['ideal']-rebal['dbl_lote'])/100,0)*100\n",
    "# rebal=rebal[abs(rebal['trade'])>0]\n",
    "# trade=rebal[['cod','trade']]\n",
    "\n",
    "# trade\n"
   ]
  },
  {
   "cell_type": "code",
   "execution_count": 7,
   "id": "e0fddb0a",
   "metadata": {},
   "outputs": [
    {
     "data": {
      "text/plain": [
       "-482.4"
      ]
     },
     "execution_count": 7,
     "metadata": {},
     "output_type": "execute_result"
    }
   ],
   "source": [
    "num_contratos_z"
   ]
  },
  {
   "cell_type": "code",
   "execution_count": 17,
   "id": "38a086ff",
   "metadata": {},
   "outputs": [
    {
     "data": {
      "text/html": [
       "<div>\n",
       "<style scoped>\n",
       "    .dataframe tbody tr th:only-of-type {\n",
       "        vertical-align: middle;\n",
       "    }\n",
       "\n",
       "    .dataframe tbody tr th {\n",
       "        vertical-align: top;\n",
       "    }\n",
       "\n",
       "    .dataframe thead th {\n",
       "        text-align: right;\n",
       "    }\n",
       "</style>\n",
       "<table border=\"1\" class=\"dataframe\">\n",
       "  <thead>\n",
       "    <tr style=\"text-align: right;\">\n",
       "      <th></th>\n",
       "      <th>dte_data</th>\n",
       "      <th>str_mercado</th>\n",
       "      <th>str_codigo</th>\n",
       "      <th>str_serie</th>\n",
       "      <th>dbl_lote</th>\n",
       "      <th>str_estrategia</th>\n",
       "    </tr>\n",
       "  </thead>\n",
       "  <tbody>\n",
       "    <tr>\n",
       "      <th>0</th>\n",
       "      <td>2022-07-18</td>\n",
       "      <td>Acao</td>\n",
       "      <td>BOVA</td>\n",
       "      <td>BOVA11 BZ EQUITY</td>\n",
       "      <td>342941.0</td>\n",
       "      <td>CashCarry5</td>\n",
       "    </tr>\n",
       "    <tr>\n",
       "      <th>1</th>\n",
       "      <td>2022-07-18</td>\n",
       "      <td>Futuro</td>\n",
       "      <td>WIN</td>\n",
       "      <td>Q22</td>\n",
       "      <td>-1644.0</td>\n",
       "      <td>CashCarry5</td>\n",
       "    </tr>\n",
       "  </tbody>\n",
       "</table>\n",
       "</div>"
      ],
      "text/plain": [
       "     dte_data str_mercado str_codigo         str_serie  dbl_lote  \\\n",
       "0  2022-07-18        Acao       BOVA  BOVA11 BZ EQUITY  342941.0   \n",
       "1  2022-07-18      Futuro        WIN               Q22   -1644.0   \n",
       "\n",
       "  str_estrategia  \n",
       "0     CashCarry5  \n",
       "1     CashCarry5  "
      ]
     },
     "execution_count": 17,
     "metadata": {},
     "output_type": "execute_result"
    }
   ],
   "source": [
    "df"
   ]
  },
  {
   "cell_type": "code",
   "execution_count": null,
   "id": "0896db28",
   "metadata": {},
   "outputs": [],
   "source": [
    " query= f\"SELECT  * \\\n",
    "            FROM tbl_gerencialajustes where dte_data='{self.dt_1.strftime('%Y-%m-%d')}' and str_mesa ='Kapitalo 11.1' and str_mercado='Futuro' and str_codigo='{name}' and str_fundo='{fundo}' and str_serie='{serie}' \"\n",
    "            db_conn_test = psycopg2.connect(host=acesso.DB_TESTE_HOST, dbname=acesso.DB_TESTE_NAME , user='k_geral', password='Kapitalo@01')\n",
    "            ga=pd.read_sql(query,db_conn_test)"
   ]
  }
 ],
 "metadata": {
  "kernelspec": {
   "display_name": "Python 3 (ipykernel)",
   "language": "python",
   "name": "python3"
  },
  "language_info": {
   "codemirror_mode": {
    "name": "ipython",
    "version": 3
   },
   "file_extension": ".py",
   "mimetype": "text/x-python",
   "name": "python",
   "nbconvert_exporter": "python",
   "pygments_lexer": "ipython3",
   "version": "3.7.3"
  }
 },
 "nbformat": 4,
 "nbformat_minor": 5
}
