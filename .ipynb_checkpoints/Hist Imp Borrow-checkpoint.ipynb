{
 "cells": [
  {
   "cell_type": "code",
   "execution_count": 1,
   "id": "2e263f20",
   "metadata": {},
   "outputs": [],
   "source": [
    "import pandas as pd\n",
    "import psycopg2\n",
    "import config\n",
    "import workdays\n",
    "import datetime\n",
    "import plotly\n",
    "import plotly.express as px\n",
    "import plotly.graph_objects as go\n",
    "pd.options.mode.chained_assignment = None  # default='warn'\n",
    "from matplotlib.ticker import FuncFormatter\n",
    "holidays_br = workdays.load_holidays('BR')\n",
    "holidays_b3 = workdays.load_holidays('B3')\n",
    "from plotly_resampler import FigureResampler, EveryNthPoint, EfficientLTTB\n",
    "import plotly.graph_objects as go\n",
    "from plotly.subplots import make_subplots\n",
    "import dask.dataframe as dd\n"
   ]
  },
  {
   "cell_type": "code",
   "execution_count": 2,
   "id": "95e2d8a3",
   "metadata": {},
   "outputs": [
    {
     "data": {
      "text/html": [
       "<div>\n",
       "    <div style=\"width: 24px; height: 24px; background-color: #e1e1e1; border: 3px solid #9D9D9D; border-radius: 5px; position: absolute;\"> </div>\n",
       "    <div style=\"margin-left: 48px;\">\n",
       "        <h3 style=\"margin-bottom: 0px;\">Client</h3>\n",
       "        <p style=\"color: #9D9D9D; margin-bottom: 0px;\">Client-cf572fec-3b6d-11ed-829c-4cedfb4113ac</p>\n",
       "        <table style=\"width: 100%; text-align: left;\">\n",
       "\n",
       "        <tr>\n",
       "        \n",
       "            <td style=\"text-align: left;\"><strong>Connection method:</strong> Cluster object</td>\n",
       "            <td style=\"text-align: left;\"><strong>Cluster type:</strong> distributed.LocalCluster</td>\n",
       "        \n",
       "        </tr>\n",
       "\n",
       "        \n",
       "            <tr>\n",
       "                <td style=\"text-align: left;\">\n",
       "                    <strong>Dashboard: </strong> <a href=\"http://127.0.0.1:8787/status\" target=\"_blank\">http://127.0.0.1:8787/status</a>\n",
       "                </td>\n",
       "                <td style=\"text-align: left;\"></td>\n",
       "            </tr>\n",
       "        \n",
       "\n",
       "        </table>\n",
       "\n",
       "        \n",
       "            <details>\n",
       "            <summary style=\"margin-bottom: 20px;\"><h3 style=\"display: inline;\">Cluster Info</h3></summary>\n",
       "            <div class=\"jp-RenderedHTMLCommon jp-RenderedHTML jp-mod-trusted jp-OutputArea-output\">\n",
       "    <div style=\"width: 24px; height: 24px; background-color: #e1e1e1; border: 3px solid #9D9D9D; border-radius: 5px; position: absolute;\">\n",
       "    </div>\n",
       "    <div style=\"margin-left: 48px;\">\n",
       "        <h3 style=\"margin-bottom: 0px; margin-top: 0px;\">LocalCluster</h3>\n",
       "        <p style=\"color: #9D9D9D; margin-bottom: 0px;\">55c4a0b1</p>\n",
       "        <table style=\"width: 100%; text-align: left;\">\n",
       "            <tr>\n",
       "                <td style=\"text-align: left;\">\n",
       "                    <strong>Dashboard:</strong> <a href=\"http://127.0.0.1:8787/status\" target=\"_blank\">http://127.0.0.1:8787/status</a>\n",
       "                </td>\n",
       "                <td style=\"text-align: left;\">\n",
       "                    <strong>Workers:</strong> 2\n",
       "                </td>\n",
       "            </tr>\n",
       "            <tr>\n",
       "                <td style=\"text-align: left;\">\n",
       "                    <strong>Total threads:</strong> 6\n",
       "                </td>\n",
       "                <td style=\"text-align: left;\">\n",
       "                    <strong>Total memory:</strong> 5.59 GiB\n",
       "                </td>\n",
       "            </tr>\n",
       "            \n",
       "            <tr>\n",
       "    <td style=\"text-align: left;\"><strong>Status:</strong> running</td>\n",
       "    <td style=\"text-align: left;\"><strong>Using processes:</strong> True</td>\n",
       "</tr>\n",
       "\n",
       "            \n",
       "        </table>\n",
       "\n",
       "        <details>\n",
       "            <summary style=\"margin-bottom: 20px;\">\n",
       "                <h3 style=\"display: inline;\">Scheduler Info</h3>\n",
       "            </summary>\n",
       "\n",
       "            <div style=\"\">\n",
       "    <div>\n",
       "        <div style=\"width: 24px; height: 24px; background-color: #FFF7E5; border: 3px solid #FF6132; border-radius: 5px; position: absolute;\"> </div>\n",
       "        <div style=\"margin-left: 48px;\">\n",
       "            <h3 style=\"margin-bottom: 0px;\">Scheduler</h3>\n",
       "            <p style=\"color: #9D9D9D; margin-bottom: 0px;\">Scheduler-31147ff2-0818-4679-ac26-64d353a8eb42</p>\n",
       "            <table style=\"width: 100%; text-align: left;\">\n",
       "                <tr>\n",
       "                    <td style=\"text-align: left;\">\n",
       "                        <strong>Comm:</strong> tcp://127.0.0.1:65474\n",
       "                    </td>\n",
       "                    <td style=\"text-align: left;\">\n",
       "                        <strong>Workers:</strong> 2\n",
       "                    </td>\n",
       "                </tr>\n",
       "                <tr>\n",
       "                    <td style=\"text-align: left;\">\n",
       "                        <strong>Dashboard:</strong> <a href=\"http://127.0.0.1:8787/status\" target=\"_blank\">http://127.0.0.1:8787/status</a>\n",
       "                    </td>\n",
       "                    <td style=\"text-align: left;\">\n",
       "                        <strong>Total threads:</strong> 6\n",
       "                    </td>\n",
       "                </tr>\n",
       "                <tr>\n",
       "                    <td style=\"text-align: left;\">\n",
       "                        <strong>Started:</strong> Just now\n",
       "                    </td>\n",
       "                    <td style=\"text-align: left;\">\n",
       "                        <strong>Total memory:</strong> 5.59 GiB\n",
       "                    </td>\n",
       "                </tr>\n",
       "            </table>\n",
       "        </div>\n",
       "    </div>\n",
       "\n",
       "    <details style=\"margin-left: 48px;\">\n",
       "        <summary style=\"margin-bottom: 20px;\">\n",
       "            <h3 style=\"display: inline;\">Workers</h3>\n",
       "        </summary>\n",
       "\n",
       "        \n",
       "        <div style=\"margin-bottom: 20px;\">\n",
       "            <div style=\"width: 24px; height: 24px; background-color: #DBF5FF; border: 3px solid #4CC9FF; border-radius: 5px; position: absolute;\"> </div>\n",
       "            <div style=\"margin-left: 48px;\">\n",
       "            <details>\n",
       "                <summary>\n",
       "                    <h4 style=\"margin-bottom: 0px; display: inline;\">Worker: 0</h4>\n",
       "                </summary>\n",
       "                <table style=\"width: 100%; text-align: left;\">\n",
       "                    <tr>\n",
       "                        <td style=\"text-align: left;\">\n",
       "                            <strong>Comm: </strong> tcp://127.0.0.1:65491\n",
       "                        </td>\n",
       "                        <td style=\"text-align: left;\">\n",
       "                            <strong>Total threads: </strong> 3\n",
       "                        </td>\n",
       "                    </tr>\n",
       "                    <tr>\n",
       "                        <td style=\"text-align: left;\">\n",
       "                            <strong>Dashboard: </strong> <a href=\"http://127.0.0.1:65492/status\" target=\"_blank\">http://127.0.0.1:65492/status</a>\n",
       "                        </td>\n",
       "                        <td style=\"text-align: left;\">\n",
       "                            <strong>Memory: </strong> 2.79 GiB\n",
       "                        </td>\n",
       "                    </tr>\n",
       "                    <tr>\n",
       "                        <td style=\"text-align: left;\">\n",
       "                            <strong>Nanny: </strong> tcp://127.0.0.1:65478\n",
       "                        </td>\n",
       "                        <td style=\"text-align: left;\"></td>\n",
       "                    </tr>\n",
       "                    <tr>\n",
       "                        <td colspan=\"2\" style=\"text-align: left;\">\n",
       "                            <strong>Local directory: </strong> C:\\Users\\joao.ramalho\\Documents\\GitHub\\Controle_SnP\\dask-worker-space\\worker-5uhkibkb\n",
       "                        </td>\n",
       "                    </tr>\n",
       "\n",
       "                    \n",
       "\n",
       "                    \n",
       "\n",
       "                </table>\n",
       "            </details>\n",
       "            </div>\n",
       "        </div>\n",
       "        \n",
       "        <div style=\"margin-bottom: 20px;\">\n",
       "            <div style=\"width: 24px; height: 24px; background-color: #DBF5FF; border: 3px solid #4CC9FF; border-radius: 5px; position: absolute;\"> </div>\n",
       "            <div style=\"margin-left: 48px;\">\n",
       "            <details>\n",
       "                <summary>\n",
       "                    <h4 style=\"margin-bottom: 0px; display: inline;\">Worker: 1</h4>\n",
       "                </summary>\n",
       "                <table style=\"width: 100%; text-align: left;\">\n",
       "                    <tr>\n",
       "                        <td style=\"text-align: left;\">\n",
       "                            <strong>Comm: </strong> tcp://127.0.0.1:65490\n",
       "                        </td>\n",
       "                        <td style=\"text-align: left;\">\n",
       "                            <strong>Total threads: </strong> 3\n",
       "                        </td>\n",
       "                    </tr>\n",
       "                    <tr>\n",
       "                        <td style=\"text-align: left;\">\n",
       "                            <strong>Dashboard: </strong> <a href=\"http://127.0.0.1:65493/status\" target=\"_blank\">http://127.0.0.1:65493/status</a>\n",
       "                        </td>\n",
       "                        <td style=\"text-align: left;\">\n",
       "                            <strong>Memory: </strong> 2.79 GiB\n",
       "                        </td>\n",
       "                    </tr>\n",
       "                    <tr>\n",
       "                        <td style=\"text-align: left;\">\n",
       "                            <strong>Nanny: </strong> tcp://127.0.0.1:65479\n",
       "                        </td>\n",
       "                        <td style=\"text-align: left;\"></td>\n",
       "                    </tr>\n",
       "                    <tr>\n",
       "                        <td colspan=\"2\" style=\"text-align: left;\">\n",
       "                            <strong>Local directory: </strong> C:\\Users\\joao.ramalho\\Documents\\GitHub\\Controle_SnP\\dask-worker-space\\worker-axuih1i4\n",
       "                        </td>\n",
       "                    </tr>\n",
       "\n",
       "                    \n",
       "\n",
       "                    \n",
       "\n",
       "                </table>\n",
       "            </details>\n",
       "            </div>\n",
       "        </div>\n",
       "        \n",
       "\n",
       "    </details>\n",
       "</div>\n",
       "\n",
       "        </details>\n",
       "    </div>\n",
       "</div>\n",
       "            </details>\n",
       "        \n",
       "\n",
       "    </div>\n",
       "</div>"
      ],
      "text/plain": [
       "<Client: 'tcp://127.0.0.1:65474' processes=2 threads=6, memory=5.59 GiB>"
      ]
     },
     "execution_count": 2,
     "metadata": {},
     "output_type": "execute_result"
    }
   ],
   "source": [
    "from dask.distributed import Client\n",
    "\n",
    "client = Client(n_workers=2, threads_per_worker=3, memory_limit=\"3GB\")\n",
    "client"
   ]
  },
  {
   "cell_type": "code",
   "execution_count": null,
   "id": "a29f5ab1",
   "metadata": {},
   "outputs": [],
   "source": [
    "df1 = dd.read_csv(r'C:\\Users\\joao.ramalho\\Downloads\\Banco_de_dados Query_1\\Banco_de_dados Query_1.txt', sep =';',names=['Horario','Reversao','Financiamento','Mercado'])\n",
    "\n",
    "df2 = dd.read_csv(r'C:\\Users\\joao.ramalho\\Downloads\\Banco_de_dados Query_2\\Banco_de_dados Query_2.txt', sep =';',names=['Horario','Reversao','Financiamento','Mercado'])\n",
    "\n"
   ]
  },
  {
   "cell_type": "code",
   "execution_count": null,
   "id": "00d38866",
   "metadata": {},
   "outputs": [],
   "source": [
    "df = dd.concat([df1,df2])"
   ]
  },
  {
   "cell_type": "code",
   "execution_count": null,
   "id": "d917bea2",
   "metadata": {},
   "outputs": [],
   "source": [
    "df = df[df['Horario']!='Horario']"
   ]
  },
  {
   "cell_type": "code",
   "execution_count": null,
   "id": "4fc98ae4",
   "metadata": {},
   "outputs": [],
   "source": [
    "df['Horario'] = dd.to_datetime(df['Horario'],errors='ignore')\n",
    "df['Reversao'] =df['Reversao'].apply(lambda x: x.replace(',','.')) \n",
    "df['Financiamento'] =df['Financiamento'].apply(lambda x: x.replace(',','.')) \n",
    "df['Mercado'] =df['Mercado'].apply(lambda x: x.replace(',','.')) "
   ]
  },
  {
   "cell_type": "code",
   "execution_count": null,
   "id": "44bba081",
   "metadata": {},
   "outputs": [],
   "source": [
    "df = df.astype({'Reversao':'float64','Financiamento':'float64','Mercado':'float64'})"
   ]
  },
  {
   "cell_type": "code",
   "execution_count": null,
   "id": "ac606b80",
   "metadata": {},
   "outputs": [],
   "source": [
    "df"
   ]
  },
  {
   "cell_type": "code",
   "execution_count": null,
   "id": "ebceba65",
   "metadata": {},
   "outputs": [],
   "source": [
    "df=df.sort_values('Horario')"
   ]
  },
  {
   "cell_type": "code",
   "execution_count": null,
   "id": "0cefe7c4",
   "metadata": {},
   "outputs": [],
   "source": [
    "ind = dd.read_csv(r\"C:\\Users\\joao.ramalho\\Downloads\\Download_Intraday_Ibov_test_02.csv\\Download_Intraday_Ibov_test_02.csv\",sep=',',dtype={\"High Bid\": float, \"High Ask\": float, })"
   ]
  },
  {
   "cell_type": "code",
   "execution_count": null,
   "id": "ef2f987d",
   "metadata": {},
   "outputs": [],
   "source": []
  },
  {
   "cell_type": "code",
   "execution_count": null,
   "id": "f6a41554",
   "metadata": {},
   "outputs": [],
   "source": [
    "ind['Date-Time'] = ind['Date-Time'].apply(lambda x: x.replace('T',' ')[:-13])\n",
    "\n"
   ]
  },
  {
   "cell_type": "code",
   "execution_count": null,
   "id": "2374aec2",
   "metadata": {},
   "outputs": [],
   "source": [
    "ind['Horario'] = dd.to_datetime(ind['Date-Time'],errors='ignore')"
   ]
  },
  {
   "cell_type": "code",
   "execution_count": null,
   "id": "555a752e",
   "metadata": {},
   "outputs": [],
   "source": [
    "ind"
   ]
  },
  {
   "cell_type": "code",
   "execution_count": null,
   "id": "4fff72c5",
   "metadata": {},
   "outputs": [],
   "source": [
    "ind=ind.fillna(0)"
   ]
  },
  {
   "cell_type": "code",
   "execution_count": null,
   "id": "0b149e3c",
   "metadata": {},
   "outputs": [],
   "source": [
    "# ind = ind[ind['Last']!=0]\n",
    "ind=ind.rename(columns={'Alias Underlying RIC':'Ticker'})"
   ]
  },
  {
   "cell_type": "code",
   "execution_count": null,
   "id": "327f8904",
   "metadata": {},
   "outputs": [],
   "source": [
    "ind=ind[ind['High Ask']!=0]\n",
    "ind =ind[ind['High Bid']!=0]"
   ]
  },
  {
   "cell_type": "code",
   "execution_count": null,
   "id": "b9782b0e",
   "metadata": {},
   "outputs": [],
   "source": [
    "ind=ind[['Horario','Ticker','Last','High Bid','High Ask']]"
   ]
  },
  {
   "cell_type": "code",
   "execution_count": null,
   "id": "d18bf8cd",
   "metadata": {},
   "outputs": [],
   "source": [
    "imp = dd.merge(df,ind , on=['Horario'] ,how='inner')"
   ]
  },
  {
   "cell_type": "code",
   "execution_count": null,
   "id": "9ee9a624",
   "metadata": {},
   "outputs": [],
   "source": [
    "\n",
    "db_conn_risk = psycopg2.connect(\n",
    "    host=config.DB_RISK_HOST,\n",
    "    dbname=config.DB_RISK_NAME,\n",
    "    user=config.DB_RISK_USER,\n",
    "    password=config.DB_RISK_PASS,\n",
    ")\n",
    "\n",
    "query=\"SELECT * FROM b3up2data.equities_indexes_futurecontractsinstrumentfile where asstdesc='Ibovespa'\"\n",
    "\n",
    "aux2=pd.read_sql(query,db_conn_risk)\n",
    "\n",
    "db_conn_risk.close()"
   ]
  },
  {
   "cell_type": "code",
   "execution_count": null,
   "id": "02afaf90",
   "metadata": {},
   "outputs": [],
   "source": [
    "tickers = imp['Ticker'].dropna().unique().compute()"
   ]
  },
  {
   "cell_type": "code",
   "execution_count": null,
   "id": "5be5fa15",
   "metadata": {},
   "outputs": [],
   "source": [
    "vencimento=pd.DataFrame(columns={'Ticker','Vencimento'})\n",
    "vencimento['Ticker'] = tickers\n",
    "\n",
    "for i,row in vencimento.iterrows():\n",
    "    vencimento.loc[i,'Vencimento'] = aux2[aux2['tckrsymb']==row['Ticker']].iloc[0]['xprtndt']\n",
    "\n"
   ]
  },
  {
   "cell_type": "code",
   "execution_count": null,
   "id": "37a2bdb5",
   "metadata": {},
   "outputs": [],
   "source": [
    "vencimento.astype({'Ticker':'str'})"
   ]
  },
  {
   "cell_type": "code",
   "execution_count": null,
   "id": "79d0fbdf",
   "metadata": {},
   "outputs": [],
   "source": [
    "vencimento = dd.from_pandas(vencimento,npartitions=10)"
   ]
  },
  {
   "cell_type": "code",
   "execution_count": null,
   "id": "6845ae7d",
   "metadata": {},
   "outputs": [],
   "source": [
    "vencimento['Vencimento'] = dd.to_datetime(vencimento['Vencimento'],errors='ignore')"
   ]
  },
  {
   "cell_type": "code",
   "execution_count": null,
   "id": "a87c2c3c",
   "metadata": {},
   "outputs": [],
   "source": [
    "imp = dd.merge(imp,vencimento,on=['Ticker'],how='left')"
   ]
  },
  {
   "cell_type": "code",
   "execution_count": null,
   "id": "ffe13220",
   "metadata": {},
   "outputs": [],
   "source": [
    "imp['du'] = imp.apply(lambda row:  workdays.networkdays(row['Horario'],row['Vencimento'], holidays=holidays_b3),axis=1)"
   ]
  },
  {
   "cell_type": "code",
   "execution_count": null,
   "id": "c60201dc",
   "metadata": {},
   "outputs": [],
   "source": [
    "imp['Data'] = imp['Horario'].apply(lambda x: x.date())"
   ]
  },
  {
   "cell_type": "code",
   "execution_count": null,
   "id": "53860ed0",
   "metadata": {},
   "outputs": [],
   "source": [
    "imp['Data'] = dd.to_datetime(imp['Data'],errors='ignore')"
   ]
  },
  {
   "cell_type": "code",
   "execution_count": null,
   "id": "777ecb51",
   "metadata": {},
   "outputs": [],
   "source": []
  },
  {
   "cell_type": "code",
   "execution_count": null,
   "id": "99162814",
   "metadata": {},
   "outputs": [],
   "source": [
    "query=\"\"\"SELECT \"data\" as Data, du, taxa_termo, fator, taxa_spot FROM public.curva_pre where Data>'2020-06-06'\"\"\"\n",
    "\n",
    "\n",
    "db_conn_k11 = psycopg2.connect(\n",
    "    host=config.DB_K11_HOST,\n",
    "    dbname=config.DB_K11_NAME,\n",
    "    user=config.DB_K11_USER,\n",
    "    password=config.DB_K11_PASS,\n",
    ")\n",
    "\n",
    "pre_curve=pd.read_sql(query,db_conn_k11)\n",
    "\n",
    "db_conn_k11.close()"
   ]
  },
  {
   "cell_type": "code",
   "execution_count": null,
   "id": "7ac5e5d1",
   "metadata": {},
   "outputs": [],
   "source": []
  },
  {
   "cell_type": "code",
   "execution_count": null,
   "id": "ba2d9778",
   "metadata": {},
   "outputs": [],
   "source": [
    "# tickers=imp_f[['Horario','Ticker']]\n",
    "# tickers['Data']=tickers['Horario'].apply(lambda x: x.date())"
   ]
  },
  {
   "cell_type": "code",
   "execution_count": null,
   "id": "93c28fe1",
   "metadata": {},
   "outputs": [],
   "source": [
    "pre_curve = pre_curve.rename(columns={'data':'Data'})"
   ]
  },
  {
   "cell_type": "code",
   "execution_count": null,
   "id": "84d63bbf",
   "metadata": {},
   "outputs": [],
   "source": [
    "# imp15 = imp_f.set_index('Horario').resample('15min').mean().reset_index()\n",
    "pre_curve"
   ]
  },
  {
   "cell_type": "code",
   "execution_count": null,
   "id": "9acba58a",
   "metadata": {},
   "outputs": [],
   "source": [
    "pre_curve = dd.from_pandas(pre_curve,npartitions=10)\n",
    "# pre_curve['Horario'] = dd.to_datetime(pre_curve['Horario'],errors='ignore') "
   ]
  },
  {
   "cell_type": "code",
   "execution_count": null,
   "id": "e81f81b5",
   "metadata": {},
   "outputs": [],
   "source": []
  },
  {
   "cell_type": "code",
   "execution_count": null,
   "id": "772fd828",
   "metadata": {},
   "outputs": [],
   "source": [
    "imp['Vencimento'] = dd.to_datetime(imp['Vencimento'],errors='ignore')\n",
    "imp['Data'] = dd.to_datetime(imp['Data'],errors='ignore')"
   ]
  },
  {
   "cell_type": "code",
   "execution_count": null,
   "id": "dd88ea4e",
   "metadata": {},
   "outputs": [],
   "source": [
    "imp"
   ]
  },
  {
   "cell_type": "code",
   "execution_count": null,
   "id": "d3688a1c",
   "metadata": {},
   "outputs": [],
   "source": [
    "pre_curve['Data'] = dd.to_datetime(pre_curve['Data'],errors='ignore') "
   ]
  },
  {
   "cell_type": "code",
   "execution_count": null,
   "id": "18a69a1c",
   "metadata": {},
   "outputs": [],
   "source": [
    "imp=dd.merge(imp,pre_curve,on=['Data','du'],how='inner')"
   ]
  },
  {
   "cell_type": "code",
   "execution_count": null,
   "id": "6dd65120",
   "metadata": {},
   "outputs": [],
   "source": [
    "query_t=\"SELECT dte_data as Data, rate FROM public.ibov_index_rate \"\n",
    "\n",
    "\n",
    "\n",
    "db_conn_k11 = psycopg2.connect(\n",
    "    host=config.DB_K11_HOST,\n",
    "    dbname=config.DB_K11_NAME,\n",
    "    user=config.DB_K11_USER,\n",
    "    password=config.DB_K11_PASS,\n",
    ")\n",
    "\n",
    "\n",
    "\n",
    "\n",
    "\n",
    "\n",
    "rate=pd.read_sql(query_t,db_conn_k11)\n",
    "\n",
    "db_conn_k11.close()"
   ]
  },
  {
   "cell_type": "code",
   "execution_count": null,
   "id": "fd0bddf1",
   "metadata": {},
   "outputs": [],
   "source": [
    "rate['rate'] =rate['rate']/100"
   ]
  },
  {
   "cell_type": "code",
   "execution_count": null,
   "id": "4aa9d107",
   "metadata": {},
   "outputs": [],
   "source": [
    "rate=rate.rename(columns={'data':'Data'})"
   ]
  },
  {
   "cell_type": "code",
   "execution_count": null,
   "id": "da8a255e",
   "metadata": {},
   "outputs": [],
   "source": [
    "rate = dd.from_pandas(rate,npartitions=10)\n"
   ]
  },
  {
   "cell_type": "code",
   "execution_count": null,
   "id": "c26e03ef",
   "metadata": {},
   "outputs": [],
   "source": [
    "rate['Data'] = dd.to_datetime(rate['Data'],errors='ignore')"
   ]
  },
  {
   "cell_type": "code",
   "execution_count": null,
   "id": "db50e06b",
   "metadata": {},
   "outputs": [],
   "source": [
    "imp=imp.merge(rate[['Data','rate']],on=['Data'],how='inner')"
   ]
  },
  {
   "cell_type": "code",
   "execution_count": null,
   "id": "76aa299a",
   "metadata": {},
   "outputs": [],
   "source": [
    "imp = imp.drop_duplicates()"
   ]
  },
  {
   "cell_type": "code",
   "execution_count": null,
   "id": "45e1da2d",
   "metadata": {},
   "outputs": [],
   "source": [
    "imp['fator taxa borrow'] = (1+ imp['rate'])**(imp['du']/252)"
   ]
  },
  {
   "cell_type": "code",
   "execution_count": null,
   "id": "679dda46",
   "metadata": {},
   "outputs": [],
   "source": [
    "imp['fator taxa pre'] =(1+ imp['taxa_spot'])**(imp['du']/252)"
   ]
  },
  {
   "cell_type": "code",
   "execution_count": null,
   "id": "82498b5f",
   "metadata": {},
   "outputs": [],
   "source": [
    "# imp=imp[['Horario','Reversao','Financiamento','Mercado','Ticker','High Bid','High Ask','du','fator','fator taxa']]"
   ]
  },
  {
   "cell_type": "code",
   "execution_count": null,
   "id": "99d71bb7",
   "metadata": {},
   "outputs": [],
   "source": [
    "##Calculo a vista spot \n",
    "\n",
    "imp['spot bid']= abs( imp['High Ask']/imp['fator taxa pre']  - imp['Financiamento'])\n",
    "\n",
    "imp['spot ask']= abs( imp['High Bid']/imp['fator taxa pre']  - imp['Reversao'] )"
   ]
  },
  {
   "cell_type": "code",
   "execution_count": null,
   "id": "818bc912",
   "metadata": {},
   "outputs": [],
   "source": [
    "imp2=imp"
   ]
  },
  {
   "cell_type": "code",
   "execution_count": null,
   "id": "7cf3655a",
   "metadata": {},
   "outputs": [],
   "source": [
    "\n",
    "imp2=imp2[['Horario','High Bid','High Ask','du','taxa_spot','rate','spot bid','spot ask']]\n"
   ]
  },
  {
   "cell_type": "code",
   "execution_count": null,
   "id": "4a96c8c4",
   "metadata": {},
   "outputs": [],
   "source": [
    "imp2['spot mid']=imp2.apply(lambda row: (row['spot ask']+row['spot bid'])/2 , axis=1)\n",
    "imp2['fut mid']=imp2.apply(lambda row: (row['High Ask']+row['High Bid'])/2 , axis=1)"
   ]
  },
  {
   "cell_type": "code",
   "execution_count": null,
   "id": "db9afecc",
   "metadata": {},
   "outputs": [],
   "source": [
    "imp2['Fixed rate Points'] = imp2['spot mid']*(((1+imp2['taxa_spot'])**(imp2['du']/252))-1)\n",
    "# imp2['Fixed rate Points ask'] = imp2['spot ask']*((1+imp2['taxa_spot'])**(imp2['du']/252)-1)\n",
    "\n",
    "\n",
    "imp2['borrow points'] = imp2['spot mid']*(((1+imp2['rate'])**(imp2['du']/252))-1)\n",
    "# imp2['borrow ask points'] = imp2['spot ask']*((1+imp2['rate'])**(imp2['du']/252)-1)"
   ]
  },
  {
   "cell_type": "code",
   "execution_count": null,
   "id": "6c05655a",
   "metadata": {},
   "outputs": [],
   "source": [
    "imp2['spread']=imp2['fut mid'] - imp2['spot mid'] - imp2['Fixed rate Points'] + imp2['borrow points']"
   ]
  },
  {
   "cell_type": "code",
   "execution_count": null,
   "id": "cb638b13",
   "metadata": {},
   "outputs": [],
   "source": []
  },
  {
   "cell_type": "code",
   "execution_count": null,
   "id": "cf38b4d8",
   "metadata": {},
   "outputs": [],
   "source": [
    "aux = imp2.compute()"
   ]
  },
  {
   "cell_type": "code",
   "execution_count": null,
   "id": "a409bbae",
   "metadata": {},
   "outputs": [],
   "source": [
    "aux.drop_duplicates()"
   ]
  },
  {
   "cell_type": "code",
   "execution_count": null,
   "id": "5adbc66f",
   "metadata": {},
   "outputs": [],
   "source": [
    "aux.set_index('Horario')['spread'].plot()"
   ]
  },
  {
   "cell_type": "code",
   "execution_count": null,
   "id": "f84933ea",
   "metadata": {},
   "outputs": [],
   "source": [
    "import hvplot.dask  # noqa"
   ]
  },
  {
   "cell_type": "code",
   "execution_count": null,
   "id": "9ff8c685",
   "metadata": {},
   "outputs": [],
   "source": [
    "imp2 = imp2.sort_values('Horario')"
   ]
  },
  {
   "cell_type": "code",
   "execution_count": null,
   "id": "0f73f4fd",
   "metadata": {},
   "outputs": [],
   "source": [
    "imp2.hvplot(x='Horario',y='spread')\n"
   ]
  },
  {
   "cell_type": "markdown",
   "id": "fe9adee0",
   "metadata": {},
   "source": [
    "# Backtest"
   ]
  },
  {
   "cell_type": "code",
   "execution_count": null,
   "id": "8f15cb6c",
   "metadata": {},
   "outputs": [],
   "source": [
    "imp2"
   ]
  },
  {
   "cell_type": "code",
   "execution_count": null,
   "id": "937f88bc",
   "metadata": {},
   "outputs": [],
   "source": [
    "imp2['imp borrow'] = ((( ( -(imp2['spread']/imp2['fut mid']) + 1 ) + 1  ) ** (252/imp['du'])) -1 )*100"
   ]
  },
  {
   "cell_type": "code",
   "execution_count": null,
   "id": "458b59c9",
   "metadata": {},
   "outputs": [],
   "source": [
    "imp2.compute()"
   ]
  }
 ],
 "metadata": {
  "interpreter": {
   "hash": "db19393a6f02e05b1e02a57a0984e495c7635796986434e660c41f0ad4c6bb1d"
  },
  "kernelspec": {
   "display_name": "Python 3 (ipykernel)",
   "language": "python",
   "name": "python3"
  },
  "language_info": {
   "codemirror_mode": {
    "name": "ipython",
    "version": 3
   },
   "file_extension": ".py",
   "mimetype": "text/x-python",
   "name": "python",
   "nbconvert_exporter": "python",
   "pygments_lexer": "ipython3",
   "version": "3.7.3"
  }
 },
 "nbformat": 4,
 "nbformat_minor": 5
}
