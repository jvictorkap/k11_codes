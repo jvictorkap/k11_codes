{
 "cells": [
  {
   "cell_type": "code",
   "execution_count": 1,
   "id": "7c0ca242",
   "metadata": {
    "colab": {
     "base_uri": "https://localhost:8080/",
     "height": 374
    },
    "executionInfo": {
     "elapsed": 1903,
     "status": "error",
     "timestamp": 1649097883067,
     "user": {
      "displayName": "George Rossany Soares de Lira",
      "userId": "10305538458235572098"
     },
     "user_tz": 180
    },
    "id": "7c0ca242",
    "outputId": "455678ba-4de2-449a-b9e9-f9cfeb46e927"
   },
   "outputs": [
    {
     "ename": "ModuleNotFoundError",
     "errorDetails": {
      "actions": [
       {
        "action": "open_url",
        "actionText": "Open Examples",
        "url": "/notebooks/snippets/importing_libraries.ipynb"
       }
      ]
     },
     "evalue": "ignored",
     "output_type": "error",
     "traceback": [
      "\u001b[0;31m---------------------------------------------------------------------------\u001b[0m",
      "\u001b[0;31mModuleNotFoundError\u001b[0m                       Traceback (most recent call last)",
      "\u001b[0;32m<ipython-input-1-26241814ac94>\u001b[0m in \u001b[0;36m<module>\u001b[0;34m()\u001b[0m\n\u001b[1;32m      6\u001b[0m \u001b[0;32mfrom\u001b[0m \u001b[0msklearn\u001b[0m\u001b[0;34m.\u001b[0m\u001b[0mmetrics\u001b[0m \u001b[0;32mimport\u001b[0m \u001b[0maccuracy_score\u001b[0m\u001b[0;34m,\u001b[0m\u001b[0mplot_confusion_matrix\u001b[0m\u001b[0;34m\u001b[0m\u001b[0;34m\u001b[0m\u001b[0m\n\u001b[1;32m      7\u001b[0m \u001b[0;32mimport\u001b[0m \u001b[0mmatplotlib\u001b[0m\u001b[0;34m.\u001b[0m\u001b[0mpyplot\u001b[0m \u001b[0;32mas\u001b[0m \u001b[0mplt\u001b[0m\u001b[0;34m\u001b[0m\u001b[0;34m\u001b[0m\u001b[0m\n\u001b[0;32m----> 8\u001b[0;31m \u001b[0;32mimport\u001b[0m \u001b[0mscikitplot\u001b[0m \u001b[0;32mas\u001b[0m \u001b[0mskplt\u001b[0m\u001b[0;34m\u001b[0m\u001b[0;34m\u001b[0m\u001b[0m\n\u001b[0m\u001b[1;32m      9\u001b[0m \u001b[0mdf\u001b[0m\u001b[0;34m=\u001b[0m\u001b[0mpd\u001b[0m\u001b[0;34m.\u001b[0m\u001b[0mread_csv\u001b[0m\u001b[0;34m(\u001b[0m\u001b[0;34m\"entradas_QEE.csv\"\u001b[0m\u001b[0;34m,\u001b[0m\u001b[0mnames\u001b[0m\u001b[0;34m=\u001b[0m \u001b[0;34m[\u001b[0m \u001b[0;34m'VaCol'\u001b[0m\u001b[0;34m+\u001b[0m\u001b[0mstr\u001b[0m\u001b[0;34m(\u001b[0m\u001b[0mx\u001b[0m\u001b[0;34m)\u001b[0m \u001b[0;32mfor\u001b[0m \u001b[0mx\u001b[0m \u001b[0;32min\u001b[0m \u001b[0mrange\u001b[0m\u001b[0;34m(\u001b[0m\u001b[0;36m150\u001b[0m\u001b[0;34m)\u001b[0m\u001b[0;34m]\u001b[0m\u001b[0;34m)\u001b[0m\u001b[0;34m\u001b[0m\u001b[0;34m\u001b[0m\u001b[0m\n\u001b[1;32m     10\u001b[0m \u001b[0;34m\u001b[0m\u001b[0m\n",
      "\u001b[0;31mModuleNotFoundError\u001b[0m: No module named 'scikitplot'",
      "",
      "\u001b[0;31m---------------------------------------------------------------------------\u001b[0;32m\nNOTE: If your import is failing due to a missing package, you can\nmanually install dependencies using either !pip or !apt.\n\nTo view examples of installing some common dependencies, click the\n\"Open Examples\" button below.\n\u001b[0;31m---------------------------------------------------------------------------\u001b[0m\n"
     ]
    }
   ],
   "source": [
    "import pandas as pd\n",
    "import sklearn\n",
    "from sklearn.model_selection import train_test_split\n",
    "import numpy as np\n",
    "from sklearn.neural_network import MLPClassifier\n",
    "from sklearn.metrics import accuracy_score,plot_confusion_matrix\n",
    "import matplotlib.pyplot as plt\n",
    "import scikitplot as skplt\n",
    "df=pd.read_csv(\"entradas_QEE.csv\",names= [ 'VaCol'+str(x) for x in range(150)])\n",
    "\n",
    "alvo=pd.read_csv(\"alvos_QEE.csv\",',',names=['col1','col2','col3','col4'])\n",
    "test=df\n"
   ]
  },
  {
   "cell_type": "code",
   "execution_count": null,
   "id": "f462358d",
   "metadata": {
    "executionInfo": {
     "elapsed": 24,
     "status": "aborted",
     "timestamp": 1649097883063,
     "user": {
      "displayName": "George Rossany Soares de Lira",
      "userId": "10305538458235572098"
     },
     "user_tz": 180
    },
    "id": "f462358d"
   },
   "outputs": [],
   "source": [
    "\n",
    "train, test, train_alvo, test_alvo = train_test_split(df, alvo, test_size=1 / 6,random_state=42)\n",
    "\n",
    "net=MLPClassifier(solver='lbfgs',max_iter=500,hidden_layer_sizes=5,verbose=True)\n",
    "\n",
    "ajuste=net.fit(train,train_alvo)\n",
    "\n",
    "\n",
    "score=ajuste.score(test,test_alvo)\n",
    "\n",
    "print(score)"
   ]
  },
  {
   "cell_type": "code",
   "execution_count": null,
   "id": "8ebbc3ee",
   "metadata": {
    "executionInfo": {
     "elapsed": 25,
     "status": "aborted",
     "timestamp": 1649097883064,
     "user": {
      "displayName": "George Rossany Soares de Lira",
      "userId": "10305538458235572098"
     },
     "user_tz": 180
    },
    "id": "8ebbc3ee"
   },
   "outputs": [],
   "source": [
    "previsoes=ajuste.predict(test)\n",
    "prevpb=ajuste.predict_proba(test)\n",
    "\n",
    "precisao=accuracy_score(test_alvo,previsoes)\n",
    "print(precisao)"
   ]
  },
  {
   "cell_type": "code",
   "execution_count": null,
   "id": "8930a41b",
   "metadata": {
    "executionInfo": {
     "elapsed": 25,
     "status": "aborted",
     "timestamp": 1649097883064,
     "user": {
      "displayName": "George Rossany Soares de Lira",
      "userId": "10305538458235572098"
     },
     "user_tz": 180
    },
    "id": "8930a41b"
   },
   "outputs": [],
   "source": [
    "confusao=confusion_matrix(test_alvo.values.argmax(axis=1),previsoes.argmax(axis=1))\n",
    "confusao"
   ]
  },
  {
   "cell_type": "code",
   "execution_count": null,
   "id": "6f8e49d2",
   "metadata": {
    "executionInfo": {
     "elapsed": 26,
     "status": "aborted",
     "timestamp": 1649097883065,
     "user": {
      "displayName": "George Rossany Soares de Lira",
      "userId": "10305538458235572098"
     },
     "user_tz": 180
    },
    "id": "6f8e49d2"
   },
   "outputs": [],
   "source": [
    "opcoes=[(\"Sem Normalização\",None),(\"Normalizada\",'true')]\n",
    "\n",
    "opcoes"
   ]
  },
  {
   "cell_type": "code",
   "execution_count": null,
   "id": "1878f184",
   "metadata": {
    "executionInfo": {
     "elapsed": 25,
     "status": "aborted",
     "timestamp": 1649097883065,
     "user": {
      "displayName": "George Rossany Soares de Lira",
      "userId": "10305538458235572098"
     },
     "user_tz": 180
    },
    "id": "1878f184"
   },
   "outputs": [],
   "source": [
    "l=df\n",
    "l.loc[0:30,'label']='Afundamentos'\n",
    "l.loc[30:60,'label']='Elevacoes'\n",
    "l.loc[60:90,'label']='Interrupcoes'\n",
    "l.loc[90:120,'label']='Distorcoes'"
   ]
  },
  {
   "cell_type": "code",
   "execution_count": null,
   "id": "edff6925",
   "metadata": {
    "executionInfo": {
     "elapsed": 26,
     "status": "aborted",
     "timestamp": 1649097883066,
     "user": {
      "displayName": "George Rossany Soares de Lira",
      "userId": "10305538458235572098"
     },
     "user_tz": 180
    },
    "id": "edff6925"
   },
   "outputs": [],
   "source": [
    "print(test)"
   ]
  },
  {
   "cell_type": "code",
   "execution_count": null,
   "id": "11257f7e",
   "metadata": {
    "executionInfo": {
     "elapsed": 26,
     "status": "aborted",
     "timestamp": 1649097883066,
     "user": {
      "displayName": "George Rossany Soares de Lira",
      "userId": "10305538458235572098"
     },
     "user_tz": 180
    },
    "id": "11257f7e"
   },
   "outputs": [],
   "source": [
    "import seaborn as sns\n",
    "\n",
    "ax = sns.heatmap(confusao, annot=True, cmap='Blues')\n",
    "\n",
    "ax.set_title('Seaborn Confusion Matrix with labels\\n\\n');\n",
    "ax.set_xlabel('\\nPredicted Values')\n",
    "ax.set_ylabel('Actual Values ');\n",
    "\n",
    "\n",
    "## Display the visualization of the Confusion Matrix.\n",
    "plt.show()\n"
   ]
  },
  {
   "cell_type": "code",
   "execution_count": null,
   "id": "d92c9f53",
   "metadata": {
    "executionInfo": {
     "elapsed": 26,
     "status": "aborted",
     "timestamp": 1649097883066,
     "user": {
      "displayName": "George Rossany Soares de Lira",
      "userId": "10305538458235572098"
     },
     "user_tz": 180
    },
    "id": "d92c9f53"
   },
   "outputs": [],
   "source": [
    "skplt.metrics.plot_confusion_matrix(test_alvo.values.argmax(axis=1),previsoes.argmax(axis=1))"
   ]
  },
  {
   "cell_type": "code",
   "execution_count": null,
   "id": "775a0a44",
   "metadata": {
    "executionInfo": {
     "elapsed": 26,
     "status": "aborted",
     "timestamp": 1649097883067,
     "user": {
      "displayName": "George Rossany Soares de Lira",
      "userId": "10305538458235572098"
     },
     "user_tz": 180
    },
    "id": "775a0a44"
   },
   "outputs": [],
   "source": [
    "#####\n",
    "0-'Afundamentos'\n",
    "1-'Elevacoes'\n",
    "2-'Interrupcoes'\n",
    "3-'Distorcoes'\n",
    "\n"
   ]
  },
  {
   "cell_type": "code",
   "execution_count": null,
   "id": "89ad67d0",
   "metadata": {
    "executionInfo": {
     "elapsed": 26,
     "status": "aborted",
     "timestamp": 1649097883067,
     "user": {
      "displayName": "George Rossany Soares de Lira",
      "userId": "10305538458235572098"
     },
     "user_tz": 180
    },
    "id": "89ad67d0"
   },
   "outputs": [],
   "source": [
    ""
   ]
  }
 ],
 "metadata": {
  "colab": {
   "name": "Atividade .ipynb",
   "provenance": []
  },
  "kernelspec": {
   "display_name": "Python 3",
   "language": "python",
   "name": "python3"
  },
  "language_info": {
   "codemirror_mode": {
    "name": "ipython",
    "version": 3
   },
   "file_extension": ".py",
   "mimetype": "text/x-python",
   "name": "python",
   "nbconvert_exporter": "python",
   "pygments_lexer": "ipython3",
   "version": "3.8.8"
  }
 },
 "nbformat": 4,
 "nbformat_minor": 5
}
