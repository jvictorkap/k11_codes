{
 "cells": [
  {
   "cell_type": "code",
   "execution_count": 1,
   "id": "0a1f27b5",
   "metadata": {},
   "outputs": [],
   "source": [
    "import pandas as pd\n",
    "import psycopg2\n",
    "import config\n",
    "import workdays\n",
    "import datetime\n",
    "\n",
    "\n",
    "holidays_br = workdays.load_holidays('BR')\n",
    "holidays_b3 = workdays.load_holidays('B3')\n",
    "dt = datetime.date.today()\n",
    "vcto_0 = dt.strftime('%d/%m/%Y')\n",
    "dt_pos = workdays.workday(dt, -1, holidays_br)\n",
    "dt_1 = workdays.workday(dt, -1, holidays_b3)\n",
    "\n",
    "db_conn_test = psycopg2.connect(host=config.DB_TESTE_HOST, dbname=config.DB_TESTE_NAME , user=config.DB_TESTE_USER, password=config.DB_TESTE_PASS)\n",
    "# cursor_test = db_conn_test.cursor(cursor_factory=psycopg2.extras.DictCursor)\n",
    "\n",
    "db_conn_risk = psycopg2.connect(host=config.DB_RISK_HOST, dbname=config.DB_RISK_NAME , user=config.DB_RISK_USER, password=config.DB_RISK_PASS)\n",
    "# cursor_risk = db_conn_risk.cursor(cursor_factory=psycopg2.extras.DictCursor)\n",
    "\n",
    "db_conn_kapv1 = psycopg2.connect(host=config.DB_KAPV1_HOST, dbname=config.DB_KAPV1_NAME , user=config.DB_KAPV1_USER, password=config.DB_KAPV1_PASS)\n",
    "\n"
   ]
  },
  {
   "cell_type": "code",
   "execution_count": 132,
   "id": "a9595cd1",
   "metadata": {},
   "outputs": [],
   "source": [
    "def get_offshore():\n",
    "    query=\"SELECT str_codigo,str_serie,dbl_qtetrade,dbl_putrade \\\n",
    "            FROM public.tbl_boletasexternas where (str_codigo='ES' or str_codigo='MES@CME')  and str_mesa='Kapitalo 11.1' and dte_data>= '2021-11-01'\"\n",
    "    df=pd.read_sql(query,db_conn_test)\n",
    "    \n",
    "    return df\n",
    "\n",
    "def get_onshore():\n",
    "    \n",
    "    query = \"SELECT str_codigo,str_serie,dbl_lote,dbl_preco \\\n",
    "FROM public.tbl_auxboletas1 where (str_codigo='ISP' or str_codigo='WSP' or str_codigo='RSP') and (str_serie= 'H22' or str_serie='Z1H2') and str_mesa='Kapitalo 11.1' and dte_data>= '2021-11-01'\"\n",
    "    df=pd.read_sql(query,db_conn_test)\n",
    "    \n",
    "    return df\n",
    "\n",
    "df_2=get_onshore()\n",
    "\n",
    "\n",
    "\n",
    "df_2=df_2.rename(columns={'dbl_lote':'dbl_qtetrade','dbl_preco':'dbl_putrade'})\n",
    "\n",
    "df_1=get_offshore()\n",
    "\n",
    "df=pd.concat([df_1,df_2],ignore_index=True)\n",
    "\n",
    "ratios = {\n",
    "    'ISP': 1,\n",
    "    'ES': 1,\n",
    "    'MES@CME': 1 / 10,\n",
    "    'WSP': 1 / 20\n",
    "}\n",
    "\n",
    "parent = {\n",
    "    'ISP': 'ISP',\n",
    "    'ES': 'ES',\n",
    "    'MES@CME': 'ES',\n",
    "    'WSP': 'ISP',\n",
    "    \n",
    "}\n",
    "\n",
    "df['real_notional'] = df['str_codigo'].map(ratios) * df['dbl_qtetrade']\n",
    "df['parent'] = df['str_codigo'].map(parent)\n",
    "# df['side'] = df['dbl_qtetrade'].apply(lambda x: 'B' if x > 0 else 'S')\n",
    "# df['dbl_qtetrade']=df.apply(lambda row: (row['dbl_qtetrade']/20) if row['str_codigo']=='WSP' else (row['dbl_qtetrade']/10) if row['dbl_qtetrade']=='MES@CME' else row['dbl_qtetrade'],axis=1)\n",
    "\n",
    "\n",
    "# df['base_isp']= df['dbl_qtetrade']*df['dbl_putrade']\n",
    "\n",
    "# df=df.groupby('str_codigo',as_index=False).agg({'dbl_qtetrade':sum,'base_isp':sum})\n",
    "\n",
    "\n",
    "\n",
    "# # df['base_isp']=df.apply(lambda row: (row['total']/20) if row['str_codigo']=='WSP' else (row['total']/10) if row['str_codigo']=='MES@CME' else row['total'],axis=1)\n",
    "\n",
    "# # df_on=df[[df['str_codigo']=='ISP' & df['str_codigo']=='WSP' ]]\n",
    "# df.to_excel('isp.xlsx')\n"
   ]
  },
  {
   "cell_type": "code",
   "execution_count": 124,
   "id": "97134b1c",
   "metadata": {},
   "outputs": [],
   "source": [
    "df['volume'] = df['real_notional'] * df['dbl_putrade']"
   ]
  },
  {
   "cell_type": "code",
   "execution_count": 125,
   "id": "bf13687f",
   "metadata": {},
   "outputs": [
    {
     "data": {
      "text/html": [
       "<div>\n",
       "<style scoped>\n",
       "    .dataframe tbody tr th:only-of-type {\n",
       "        vertical-align: middle;\n",
       "    }\n",
       "\n",
       "    .dataframe tbody tr th {\n",
       "        vertical-align: top;\n",
       "    }\n",
       "\n",
       "    .dataframe thead th {\n",
       "        text-align: right;\n",
       "    }\n",
       "</style>\n",
       "<table border=\"1\" class=\"dataframe\">\n",
       "  <thead>\n",
       "    <tr style=\"text-align: right;\">\n",
       "      <th></th>\n",
       "      <th>dbl_qtetrade</th>\n",
       "      <th>dbl_putrade</th>\n",
       "      <th>real_notional</th>\n",
       "      <th>volume</th>\n",
       "      <th>avg</th>\n",
       "    </tr>\n",
       "    <tr>\n",
       "      <th>parent</th>\n",
       "      <th></th>\n",
       "      <th></th>\n",
       "      <th></th>\n",
       "      <th></th>\n",
       "      <th></th>\n",
       "    </tr>\n",
       "  </thead>\n",
       "  <tbody>\n",
       "    <tr>\n",
       "      <th>ES</th>\n",
       "      <td>681.0</td>\n",
       "      <td>9428856.25</td>\n",
       "      <td>276.9</td>\n",
       "      <td>1.283307e+06</td>\n",
       "      <td>4634.550921</td>\n",
       "    </tr>\n",
       "    <tr>\n",
       "      <th>ISP</th>\n",
       "      <td>-1575.0</td>\n",
       "      <td>2871183.00</td>\n",
       "      <td>-685.8</td>\n",
       "      <td>-3.225312e+06</td>\n",
       "      <td>4702.992290</td>\n",
       "    </tr>\n",
       "  </tbody>\n",
       "</table>\n",
       "</div>"
      ],
      "text/plain": [
       "        dbl_qtetrade  dbl_putrade  real_notional        volume          avg\n",
       "parent                                                                     \n",
       "ES             681.0   9428856.25          276.9  1.283307e+06  4634.550921\n",
       "ISP          -1575.0   2871183.00         -685.8 -3.225312e+06  4702.992290"
      ]
     },
     "execution_count": 125,
     "metadata": {},
     "output_type": "execute_result"
    }
   ],
   "source": [
    "df.groupby(['parent']).sum().assign(avg=lambda row: row['volume'] / row['real_notional'])"
   ]
  },
  {
   "cell_type": "code",
   "execution_count": 71,
   "id": "72514a9a",
   "metadata": {},
   "outputs": [
    {
     "data": {
      "text/plain": [
       "-38.682566000000406"
      ]
     },
     "execution_count": 71,
     "metadata": {},
     "output_type": "execute_result"
    }
   ],
   "source": []
  },
  {
   "cell_type": "code",
   "execution_count": 126,
   "id": "aa5f05a3",
   "metadata": {},
   "outputs": [
    {
     "data": {
      "text/html": [
       "<div>\n",
       "<style scoped>\n",
       "    .dataframe tbody tr th:only-of-type {\n",
       "        vertical-align: middle;\n",
       "    }\n",
       "\n",
       "    .dataframe tbody tr th {\n",
       "        vertical-align: top;\n",
       "    }\n",
       "\n",
       "    .dataframe thead th {\n",
       "        text-align: right;\n",
       "    }\n",
       "</style>\n",
       "<table border=\"1\" class=\"dataframe\">\n",
       "  <thead>\n",
       "    <tr style=\"text-align: right;\">\n",
       "      <th></th>\n",
       "      <th></th>\n",
       "      <th>dbl_qtetrade</th>\n",
       "      <th>dbl_putrade</th>\n",
       "      <th>real_notional</th>\n",
       "      <th>volume</th>\n",
       "      <th>avg</th>\n",
       "    </tr>\n",
       "    <tr>\n",
       "      <th>parent</th>\n",
       "      <th>str_serie</th>\n",
       "      <th></th>\n",
       "      <th></th>\n",
       "      <th></th>\n",
       "      <th></th>\n",
       "      <th></th>\n",
       "    </tr>\n",
       "  </thead>\n",
       "  <tbody>\n",
       "    <tr>\n",
       "      <th rowspan=\"2\" valign=\"top\">ES</th>\n",
       "      <th>H22</th>\n",
       "      <td>4078.0</td>\n",
       "      <td>4793186.00</td>\n",
       "      <td>3656.8</td>\n",
       "      <td>17056447.80</td>\n",
       "      <td>4664.309724</td>\n",
       "    </tr>\n",
       "    <tr>\n",
       "      <th>Z21</th>\n",
       "      <td>-3397.0</td>\n",
       "      <td>4635670.25</td>\n",
       "      <td>-3379.9</td>\n",
       "      <td>-15773140.65</td>\n",
       "      <td>4666.747729</td>\n",
       "    </tr>\n",
       "  </tbody>\n",
       "</table>\n",
       "</div>"
      ],
      "text/plain": [
       "                  dbl_qtetrade  dbl_putrade  real_notional       volume  \\\n",
       "parent str_serie                                                          \n",
       "ES     H22              4078.0   4793186.00         3656.8  17056447.80   \n",
       "       Z21             -3397.0   4635670.25        -3379.9 -15773140.65   \n",
       "\n",
       "                          avg  \n",
       "parent str_serie               \n",
       "ES     H22        4664.309724  \n",
       "       Z21        4666.747729  "
      ]
     },
     "execution_count": 126,
     "metadata": {},
     "output_type": "execute_result"
    }
   ],
   "source": [
    "off=get_offshore()\n",
    "\n",
    "off['real_notional'] = off['str_codigo'].map(ratios) * off['dbl_qtetrade']\n",
    "off['volume'] = off['real_notional'] * off['dbl_putrade']\n",
    "off['parent'] = off['str_codigo'].map(parent)\n",
    "\n",
    "off.groupby(['parent','str_serie']).sum().assign(avg=lambda row: row['volume'] / row['real_notional'])\n",
    "\n",
    "\n",
    "\n"
   ]
  },
  {
   "cell_type": "code",
   "execution_count": 155,
   "id": "ab057493",
   "metadata": {},
   "outputs": [
    {
     "name": "stderr",
     "output_type": "stream",
     "text": [
      "C:\\Users\\JOAO~1.RAM\\AppData\\Local\\Temp/ipykernel_4200/3959878926.py:4: SettingWithCopyWarning: \n",
      "A value is trying to be set on a copy of a slice from a DataFrame.\n",
      "Try using .loc[row_indexer,col_indexer] = value instead\n",
      "\n",
      "See the caveats in the documentation: https://pandas.pydata.org/pandas-docs/stable/user_guide/indexing.html#returning-a-view-versus-a-copy\n",
      "  df_rsp['volume']=df_rsp['dbl_qtetrade']*df_rsp['dbl_putrade']\n"
     ]
    },
    {
     "data": {
      "text/html": [
       "<div>\n",
       "<style scoped>\n",
       "    .dataframe tbody tr th:only-of-type {\n",
       "        vertical-align: middle;\n",
       "    }\n",
       "\n",
       "    .dataframe tbody tr th {\n",
       "        vertical-align: top;\n",
       "    }\n",
       "\n",
       "    .dataframe thead th {\n",
       "        text-align: right;\n",
       "    }\n",
       "</style>\n",
       "<table border=\"1\" class=\"dataframe\">\n",
       "  <thead>\n",
       "    <tr style=\"text-align: right;\">\n",
       "      <th></th>\n",
       "      <th></th>\n",
       "      <th>dbl_qtetrade</th>\n",
       "      <th>dbl_putrade</th>\n",
       "      <th>volume</th>\n",
       "      <th>avg</th>\n",
       "    </tr>\n",
       "    <tr>\n",
       "      <th>str_codigo</th>\n",
       "      <th>str_serie</th>\n",
       "      <th></th>\n",
       "      <th></th>\n",
       "      <th></th>\n",
       "      <th></th>\n",
       "    </tr>\n",
       "  </thead>\n",
       "  <tbody>\n",
       "    <tr>\n",
       "      <th>RSP</th>\n",
       "      <th>Z1H2</th>\n",
       "      <td>-2971.0</td>\n",
       "      <td>24.5</td>\n",
       "      <td>-149.9</td>\n",
       "      <td>0.050454</td>\n",
       "    </tr>\n",
       "  </tbody>\n",
       "</table>\n",
       "</div>"
      ],
      "text/plain": [
       "                      dbl_qtetrade  dbl_putrade  volume       avg\n",
       "str_codigo str_serie                                             \n",
       "RSP        Z1H2            -2971.0         24.5  -149.9  0.050454"
      ]
     },
     "execution_count": 155,
     "metadata": {},
     "output_type": "execute_result"
    }
   ],
   "source": [
    "df_rsp=df_2[df_2['str_codigo']=='RSP']\n",
    "# df_rsp.groupby(['str_codigo','str_serie']).sum()\n",
    "\n",
    "df_rsp['volume']=df_rsp['dbl_qtetrade']*df_rsp['dbl_putrade']\n",
    "\n",
    "# df_rsp\n",
    "df_rsp.groupby(['str_codigo','str_serie']).sum().assign(avg=lambda row: row['volume'] / row['dbl_qtetrade'])\n",
    "\n"
   ]
  },
  {
   "cell_type": "code",
   "execution_count": 158,
   "id": "81d699b6",
   "metadata": {},
   "outputs": [
    {
     "data": {
      "text/plain": [
       "1107"
      ]
     },
     "execution_count": 158,
     "metadata": {},
     "output_type": "execute_result"
    }
   ],
   "source": [
    "4078-2971\n"
   ]
  }
 ],
 "metadata": {
  "kernelspec": {
   "display_name": "Python 3 (ipykernel)",
   "language": "python",
   "name": "python3"
  },
  "language_info": {
   "codemirror_mode": {
    "name": "ipython",
    "version": 3
   },
   "file_extension": ".py",
   "mimetype": "text/x-python",
   "name": "python",
   "nbconvert_exporter": "python",
   "pygments_lexer": "ipython3",
   "version": "3.7.3"
  }
 },
 "nbformat": 4,
 "nbformat_minor": 5
}
