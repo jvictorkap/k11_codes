{
 "cells": [
  {
   "cell_type": "code",
   "execution_count": 26,
   "id": "8cfd9558",
   "metadata": {},
   "outputs": [],
   "source": [
    "import pandas as pd\n",
    "import psycopg2\n",
    "import config\n",
    "import plotly.express as px"
   ]
  },
  {
   "cell_type": "code",
   "execution_count": 3,
   "id": "3cfcdd81",
   "metadata": {},
   "outputs": [],
   "source": [
    "db_conn_risk = psycopg2.connect(\n",
    "    host=config.DB_RISK_HOST,\n",
    "    dbname=config.DB_RISK_NAME,\n",
    "    user=config.DB_RISK_USER,\n",
    "    password=config.DB_RISK_PASS,\n",
    ")"
   ]
  },
  {
   "cell_type": "code",
   "execution_count": 4,
   "id": "b26e4a21",
   "metadata": {},
   "outputs": [],
   "source": [
    "query  = \"select * from b3up2data.equities_tradeinformationfile where tckrsymb in ('SANB11','SANB3','SANB4')\""
   ]
  },
  {
   "cell_type": "code",
   "execution_count": 14,
   "id": "a2234a06",
   "metadata": {},
   "outputs": [],
   "source": [
    "df = pd.read_sql(query,db_conn_risk)"
   ]
  },
  {
   "cell_type": "code",
   "execution_count": 15,
   "id": "25a9db41",
   "metadata": {},
   "outputs": [],
   "source": [
    "df = df[['rptdt','tckrsymb','lastpric']]"
   ]
  },
  {
   "cell_type": "code",
   "execution_count": 16,
   "id": "9363e25e",
   "metadata": {},
   "outputs": [],
   "source": [
    "sanb3 = df[df['tckrsymb']=='SANB3'].rename(columns={'lastpric':'SANB3'})[['rptdt','SANB3']]\n",
    "sanb4 = df[df['tckrsymb']=='SANB4'].rename(columns={'lastpric':'SANB4'})[['rptdt','SANB4']]\n",
    "sanb11 = df[df['tckrsymb']=='SANB11'].rename(columns={'lastpric':'SANB11'})[['rptdt','SANB11']]"
   ]
  },
  {
   "cell_type": "code",
   "execution_count": 17,
   "id": "04def095",
   "metadata": {},
   "outputs": [],
   "source": [
    "df =sanb11.merge(sanb3,on='rptdt',how='inner')"
   ]
  },
  {
   "cell_type": "code",
   "execution_count": 19,
   "id": "a07ce8d2",
   "metadata": {},
   "outputs": [],
   "source": [
    "df = df.merge(sanb4,on='rptdt',how='inner')"
   ]
  },
  {
   "cell_type": "code",
   "execution_count": 21,
   "id": "2c801cb5",
   "metadata": {},
   "outputs": [],
   "source": [
    "df['pu'] = df['SANB4'] + df['SANB3'] - df['SANB11']  "
   ]
  },
  {
   "cell_type": "code",
   "execution_count": 23,
   "id": "14c044cc",
   "metadata": {},
   "outputs": [
    {
     "data": {
      "text/plain": [
       "<AxesSubplot:xlabel='rptdt'>"
      ]
     },
     "execution_count": 23,
     "metadata": {},
     "output_type": "execute_result"
    },
    {
     "data": {
      "image/png": "[encoded data removed]",
      "text/plain": [
       "<Figure size 432x288 with 1 Axes>"
      ]
     },
     "metadata": {
      "needs_background": "light"
     },
     "output_type": "display_data"
    }
   ],
   "source": [
    "df[['rptdt','pu']].set_index('rptdt').plot()"
   ]
  },
  {
   "cell_type": "code",
   "execution_count": 47,
   "id": "8ff86ccf",
   "metadata": {},
   "outputs": [],
   "source": [
    "df_agg = pd.read_excel('sanb_2710.xlsx',sheet_name='Sheet2')"
   ]
  },
  {
   "cell_type": "code",
   "execution_count": 49,
   "id": "459ecfd7",
   "metadata": {},
   "outputs": [],
   "source": [
    "df_agg.columns = ['Data','SANB3','SANB4','SANB11','PU']"
   ]
  },
  {
   "cell_type": "code",
   "execution_count": 50,
   "id": "4063c69b",
   "metadata": {},
   "outputs": [],
   "source": [
    "df_agg = df_agg.sort_values('Data',ascending=True)"
   ]
  },
  {
   "cell_type": "code",
   "execution_count": 51,
   "id": "49879d0c",
   "metadata": {},
   "outputs": [
    {
     "data": {
      "text/html": [
       "<div>\n",
       "<style scoped>\n",
       "    .dataframe tbody tr th:only-of-type {\n",
       "        vertical-align: middle;\n",
       "    }\n",
       "\n",
       "    .dataframe tbody tr th {\n",
       "        vertical-align: top;\n",
       "    }\n",
       "\n",
       "    .dataframe thead th {\n",
       "        text-align: right;\n",
       "    }\n",
       "</style>\n",
       "<table border=\"1\" class=\"dataframe\">\n",
       "  <thead>\n",
       "    <tr style=\"text-align: right;\">\n",
       "      <th></th>\n",
       "      <th>Data</th>\n",
       "      <th>SANB3</th>\n",
       "      <th>SANB4</th>\n",
       "      <th>SANB11</th>\n",
       "      <th>PU</th>\n",
       "    </tr>\n",
       "  </thead>\n",
       "  <tbody>\n",
       "    <tr>\n",
       "      <th>0</th>\n",
       "      <td>2022-10-26 10:08:00</td>\n",
       "      <td>14.09</td>\n",
       "      <td>15.58</td>\n",
       "      <td>28.30</td>\n",
       "      <td>1.37</td>\n",
       "    </tr>\n",
       "    <tr>\n",
       "      <th>1</th>\n",
       "      <td>2022-10-26 10:09:00</td>\n",
       "      <td>13.50</td>\n",
       "      <td>15.20</td>\n",
       "      <td>28.53</td>\n",
       "      <td>0.17</td>\n",
       "    </tr>\n",
       "    <tr>\n",
       "      <th>2</th>\n",
       "      <td>2022-10-26 10:10:00</td>\n",
       "      <td>13.03</td>\n",
       "      <td>15.07</td>\n",
       "      <td>27.98</td>\n",
       "      <td>0.12</td>\n",
       "    </tr>\n",
       "    <tr>\n",
       "      <th>3</th>\n",
       "      <td>2022-10-26 10:11:00</td>\n",
       "      <td>13.03</td>\n",
       "      <td>14.56</td>\n",
       "      <td>27.45</td>\n",
       "      <td>0.14</td>\n",
       "    </tr>\n",
       "    <tr>\n",
       "      <th>4</th>\n",
       "      <td>2022-10-26 10:12:00</td>\n",
       "      <td>13.10</td>\n",
       "      <td>14.73</td>\n",
       "      <td>27.73</td>\n",
       "      <td>0.10</td>\n",
       "    </tr>\n",
       "    <tr>\n",
       "      <th>...</th>\n",
       "      <td>...</td>\n",
       "      <td>...</td>\n",
       "      <td>...</td>\n",
       "      <td>...</td>\n",
       "      <td>...</td>\n",
       "    </tr>\n",
       "    <tr>\n",
       "      <th>377</th>\n",
       "      <td>2022-10-26 16:50:00</td>\n",
       "      <td>13.56</td>\n",
       "      <td>15.05</td>\n",
       "      <td>28.54</td>\n",
       "      <td>0.07</td>\n",
       "    </tr>\n",
       "    <tr>\n",
       "      <th>378</th>\n",
       "      <td>2022-10-26 16:51:00</td>\n",
       "      <td>13.57</td>\n",
       "      <td>15.06</td>\n",
       "      <td>28.57</td>\n",
       "      <td>0.06</td>\n",
       "    </tr>\n",
       "    <tr>\n",
       "      <th>379</th>\n",
       "      <td>2022-10-26 16:53:00</td>\n",
       "      <td>13.57</td>\n",
       "      <td>15.05</td>\n",
       "      <td>28.51</td>\n",
       "      <td>0.11</td>\n",
       "    </tr>\n",
       "    <tr>\n",
       "      <th>380</th>\n",
       "      <td>2022-10-26 16:54:00</td>\n",
       "      <td>13.58</td>\n",
       "      <td>15.05</td>\n",
       "      <td>28.48</td>\n",
       "      <td>0.15</td>\n",
       "    </tr>\n",
       "    <tr>\n",
       "      <th>381</th>\n",
       "      <td>2022-10-26 17:07:00</td>\n",
       "      <td>13.60</td>\n",
       "      <td>15.09</td>\n",
       "      <td>28.47</td>\n",
       "      <td>0.22</td>\n",
       "    </tr>\n",
       "  </tbody>\n",
       "</table>\n",
       "<p>382 rows × 5 columns</p>\n",
       "</div>"
      ],
      "text/plain": [
       "                   Data  SANB3  SANB4  SANB11    PU\n",
       "0   2022-10-26 10:08:00  14.09  15.58   28.30  1.37\n",
       "1   2022-10-26 10:09:00  13.50  15.20   28.53  0.17\n",
       "2   2022-10-26 10:10:00  13.03  15.07   27.98  0.12\n",
       "3   2022-10-26 10:11:00  13.03  14.56   27.45  0.14\n",
       "4   2022-10-26 10:12:00  13.10  14.73   27.73  0.10\n",
       "..                  ...    ...    ...     ...   ...\n",
       "377 2022-10-26 16:50:00  13.56  15.05   28.54  0.07\n",
       "378 2022-10-26 16:51:00  13.57  15.06   28.57  0.06\n",
       "379 2022-10-26 16:53:00  13.57  15.05   28.51  0.11\n",
       "380 2022-10-26 16:54:00  13.58  15.05   28.48  0.15\n",
       "381 2022-10-26 17:07:00  13.60  15.09   28.47  0.22\n",
       "\n",
       "[382 rows x 5 columns]"
      ]
     },
     "execution_count": 51,
     "metadata": {},
     "output_type": "execute_result"
    }
   ],
   "source": [
    "df_agg"
   ]
  },
  {
   "cell_type": "code",
   "execution_count": 45,
   "id": "525818cd",
   "metadata": {},
   "outputs": [],
   "source": [
    "df_agg['str_Data'] = df_agg['Data'].astype(str)"
   ]
  },
  {
   "cell_type": "code",
   "execution_count": 53,
   "id": "934bd151",
   "metadata": {},
   "outputs": [
    {
     "data": {
      "application/vnd.plotly.v1+json": {
       "config": {
        "plotlyServerURL": "https://plot.ly"
       },
       "data": [
        {
         "hovertemplate": "Data=%{x}<br>PU=%{y}<extra></extra>",
         "legendgroup": "",
         "line": {
          "color": "#636efa",
          "dash": "solid"
         },
         "marker": {
          "symbol": "circle"
         },
         "mode": "lines",
         "name": "",
         "orientation": "v",
         "showlegend": false,
         "type": "scatter",
         "x": [
          "2022-10-26T10:08:00",
          "2022-10-26T10:09:00",
          "2022-10-26T10:10:00",
          "2022-10-26T10:11:00",
          "2022-10-26T10:12:00",
          "2022-10-26T10:13:00",
          "2022-10-26T10:14:00",
          "2022-10-26T10:15:00",
          "2022-10-26T10:16:00",
          "2022-10-26T10:17:00",
          "2022-10-26T10:18:00",
          "2022-10-26T10:19:00",
          "2022-10-26T10:20:00",
          "2022-10-26T10:21:00",
          "2022-10-26T10:22:00",
          "2022-10-26T10:23:00",
          "2022-10-26T10:24:00",
          "2022-10-26T10:25:00",
          "2022-10-26T10:26:00",
          "2022-10-26T10:27:00",
          "2022-10-26T10:28:00",
          "2022-10-26T10:29:00",
          "2022-10-26T10:30:00",
          "2022-10-26T10:31:00",
          "2022-10-26T10:32:00",
          "2022-10-26T10:33:00",
          "2022-10-26T10:34:00",
          "2022-10-26T10:35:00",
          "2022-10-26T10:36:00",
          "2022-10-26T10:37:00",
          "2022-10-26T10:38:00",
          "2022-10-26T10:39:00",
          "2022-10-26T10:40:00",
          "2022-10-26T10:41:00",
          "2022-10-26T10:42:00",
          "2022-10-26T10:43:00",
          "2022-10-26T10:44:00",
          "2022-10-26T10:45:00",
          "2022-10-26T10:46:00",
          "2022-10-26T10:47:00",
          "2022-10-26T10:48:00",
          "2022-10-26T10:49:00",
          "2022-10-26T10:50:00",
          "2022-10-26T10:51:00",
          "2022-10-26T10:52:00",
          "2022-10-26T10:53:00",
          "2022-10-26T10:54:00",
          "2022-10-26T10:55:00",
          "2022-10-26T10:56:00",
          "2022-10-26T10:57:00",
          "2022-10-26T10:58:00",
          "2022-10-26T10:59:00",
          "2022-10-26T11:00:00",
          "2022-10-26T11:01:00",
          "2022-10-26T11:02:00",
          "2022-10-26T11:03:00",
          "2022-10-26T11:04:00",
          "2022-10-26T11:05:00",
          "2022-10-26T11:06:00",
          "2022-10-26T11:07:00",
          "2022-10-26T11:08:00",
          "2022-10-26T11:09:00",
          "2022-10-26T11:10:00",
          "2022-10-26T11:11:00",
          "2022-10-26T11:12:00",
          "2022-10-26T11:13:00",
          "2022-10-26T11:14:00",
          "2022-10-26T11:15:00",
          "2022-10-26T11:16:00",
          "2022-10-26T11:17:00",
          "2022-10-26T11:18:00",
          "2022-10-26T11:19:00",
          "2022-10-26T11:20:00",
          "2022-10-26T11:21:00",
          "2022-10-26T11:22:00",
          "2022-10-26T11:23:00",
          "2022-10-26T11:24:00",
          "2022-10-26T11:25:00",
          "2022-10-26T11:26:00",
          "2022-10-26T11:27:00",
          "2022-10-26T11:28:00",
          "2022-10-26T11:29:00",
          "2022-10-26T11:30:00",
          "2022-10-26T11:31:00",
          "2022-10-26T11:32:00",
          "2022-10-26T11:33:00",
          "2022-10-26T11:34:00",
          "2022-10-26T11:35:00",
          "2022-10-26T11:36:00",
          "2022-10-26T11:37:00",
          "2022-10-26T11:38:00",
          "2022-10-26T11:39:00",
          "2022-10-26T11:40:00",
          "2022-10-26T11:41:00",
          "2022-10-26T11:42:00",
          "2022-10-26T11:43:00",
          "2022-10-26T11:44:00",
          "2022-10-26T11:45:00",
          "2022-10-26T11:46:00",
          "2022-10-26T11:47:00",
          "2022-10-26T11:48:00",
          "2022-10-26T11:49:00",
          "2022-10-26T11:50:00",
          "2022-10-26T11:51:00",
          "2022-10-26T11:52:00",
          "2022-10-26T11:53:00",
          "2022-10-26T11:54:00",
          "2022-10-26T11:55:00",
          "2022-10-26T11:56:00",
          "2022-10-26T11:57:00",
          "2022-10-26T11:58:00",
          "2022-10-26T11:59:00",
          "2022-10-26T12:00:00",
          "2022-10-26T12:01:00",
          "2022-10-26T12:02:00",
          "2022-10-26T12:03:00",
          "2022-10-26T12:04:00",
          "2022-10-26T12:05:00",
          "2022-10-26T12:06:00",
          "2022-10-26T12:07:00",
          "2022-10-26T12:08:00",
          "2022-10-26T12:10:00",
          "2022-10-26T12:11:00",
          "2022-10-26T12:12:00",
          "2022-10-26T12:13:00",
          "2022-10-26T12:14:00",
          "2022-10-26T12:15:00",
          "2022-10-26T12:16:00",
          "2022-10-26T12:17:00",
          "2022-10-26T12:19:00",
          "2022-10-26T12:20:00",
          "2022-10-26T12:21:00",
          "2022-10-26T12:22:00",
          "2022-10-26T12:23:00",
          "2022-10-26T12:24:00",
          "2022-10-26T12:25:00",
          "2022-10-26T12:26:00",
          "2022-10-26T12:27:00",
          "2022-10-26T12:28:00",
          "2022-10-26T12:29:00",
          "2022-10-26T12:30:00",
          "2022-10-26T12:31:00",
          "2022-10-26T12:32:00",
          "2022-10-26T12:33:00",
          "2022-10-26T12:34:00",
          "2022-10-26T12:35:00",
          "2022-10-26T12:36:00",
          "2022-10-26T12:37:00",
          "2022-10-26T12:38:00",
          "2022-10-26T12:39:00",
          "2022-10-26T12:40:00",
          "2022-10-26T12:41:00",
          "2022-10-26T12:42:00",
          "2022-10-26T12:43:00",
          "2022-10-26T12:44:00",
          "2022-10-26T12:45:00",
          "2022-10-26T12:46:00",
          "2022-10-26T12:47:00",
          "2022-10-26T12:48:00",
          "2022-10-26T12:49:00",
          "2022-10-26T12:50:00",
          "2022-10-26T12:51:00",
          "2022-10-26T12:52:00",
          "2022-10-26T12:53:00",
          "2022-10-26T12:54:00",
          "2022-10-26T12:55:00",
          "2022-10-26T12:56:00",
          "2022-10-26T12:57:00",
          "2022-10-26T12:58:00",
          "2022-10-26T12:59:00",
          "2022-10-26T13:00:00",
          "2022-10-26T13:01:00",
          "2022-10-26T13:02:00",
          "2022-10-26T13:03:00",
          "2022-10-26T13:04:00",
          "2022-10-26T13:05:00",
          "2022-10-26T13:06:00",
          "2022-10-26T13:07:00",
          "2022-10-26T13:08:00",
          "2022-10-26T13:09:00",
          "2022-10-26T13:10:00",
          "2022-10-26T13:11:00",
          "2022-10-26T13:12:00",
          "2022-10-26T13:13:00",
          "2022-10-26T13:14:00",
          "2022-10-26T13:15:00",
          "2022-10-26T13:16:00",
          "2022-10-26T13:17:00",
          "2022-10-26T13:18:00",
          "2022-10-26T13:19:00",
          "2022-10-26T13:20:00",
          "2022-10-26T13:21:00",
          "2022-10-26T13:22:00",
          "2022-10-26T13:23:00",
          "2022-10-26T13:24:00",
          "2022-10-26T13:25:00",
          "2022-10-26T13:26:00",
          "2022-10-26T13:27:00",
          "2022-10-26T13:28:00",
          "2022-10-26T13:30:00",
          "2022-10-26T13:31:00",
          "2022-10-26T13:32:00",
          "2022-10-26T13:33:00",
          "2022-10-26T13:34:00",
          "2022-10-26T13:35:00",
          "2022-10-26T13:36:00",
          "2022-10-26T13:37:00",
          "2022-10-26T13:38:00",
          "2022-10-26T13:39:00",
          "2022-10-26T13:40:00",
          "2022-10-26T13:41:00",
          "2022-10-26T13:42:00",
          "2022-10-26T13:44:00",
          "2022-10-26T13:45:00",
          "2022-10-26T13:46:00",
          "2022-10-26T13:47:00",
          "2022-10-26T13:48:00",
          "2022-10-26T13:49:00",
          "2022-10-26T13:50:00",
          "2022-10-26T13:51:00",
          "2022-10-26T13:52:00",
          "2022-10-26T13:53:00",
          "2022-10-26T13:54:00",
          "2022-10-26T13:55:00",
          "2022-10-26T13:56:00",
          "2022-10-26T13:57:00",
          "2022-10-26T13:58:00",
          "2022-10-26T13:59:00",
          "2022-10-26T14:00:00",
          "2022-10-26T14:04:00",
          "2022-10-26T14:05:00",
          "2022-10-26T14:06:00",
          "2022-10-26T14:07:00",
          "2022-10-26T14:08:00",
          "2022-10-26T14:10:00",
          "2022-10-26T14:11:00",
          "2022-10-26T14:12:00",
          "2022-10-26T14:13:00",
          "2022-10-26T14:14:00",
          "2022-10-26T14:15:00",
          "2022-10-26T14:16:00",
          "2022-10-26T14:17:00",
          "2022-10-26T14:18:00",
          "2022-10-26T14:19:00",
          "2022-10-26T14:20:00",
          "2022-10-26T14:21:00",
          "2022-10-26T14:22:00",
          "2022-10-26T14:23:00",
          "2022-10-26T14:24:00",
          "2022-10-26T14:25:00",
          "2022-10-26T14:26:00",
          "2022-10-26T14:27:00",
          "2022-10-26T14:28:00",
          "2022-10-26T14:29:00",
          "2022-10-26T14:31:00",
          "2022-10-26T14:32:00",
          "2022-10-26T14:33:00",
          "2022-10-26T14:34:00",
          "2022-10-26T14:35:00",
          "2022-10-26T14:36:00",
          "2022-10-26T14:37:00",
          "2022-10-26T14:38:00",
          "2022-10-26T14:39:00",
          "2022-10-26T14:40:00",
          "2022-10-26T14:41:00",
          "2022-10-26T14:42:00",
          "2022-10-26T14:43:00",
          "2022-10-26T14:44:00",
          "2022-10-26T14:45:00",
          "2022-10-26T14:46:00",
          "2022-10-26T14:49:00",
          "2022-10-26T14:51:00",
          "2022-10-26T14:53:00",
          "2022-10-26T14:54:00",
          "2022-10-26T14:55:00",
          "2022-10-26T14:56:00",
          "2022-10-26T14:57:00",
          "2022-10-26T14:58:00",
          "2022-10-26T14:59:00",
          "2022-10-26T15:00:00",
          "2022-10-26T15:01:00",
          "2022-10-26T15:02:00",
          "2022-10-26T15:03:00",
          "2022-10-26T15:04:00",
          "2022-10-26T15:05:00",
          "2022-10-26T15:06:00",
          "2022-10-26T15:07:00",
          "2022-10-26T15:08:00",
          "2022-10-26T15:09:00",
          "2022-10-26T15:10:00",
          "2022-10-26T15:11:00",
          "2022-10-26T15:12:00",
          "2022-10-26T15:13:00",
          "2022-10-26T15:14:00",
          "2022-10-26T15:15:00",
          "2022-10-26T15:16:00",
          "2022-10-26T15:17:00",
          "2022-10-26T15:18:00",
          "2022-10-26T15:19:00",
          "2022-10-26T15:21:00",
          "2022-10-26T15:22:00",
          "2022-10-26T15:23:00",
          "2022-10-26T15:25:00",
          "2022-10-26T15:27:00",
          "2022-10-26T15:28:00",
          "2022-10-26T15:29:00",
          "2022-10-26T15:30:00",
          "2022-10-26T15:31:00",
          "2022-10-26T15:32:00",
          "2022-10-26T15:33:00",
          "2022-10-26T15:34:00",
          "2022-10-26T15:35:00",
          "2022-10-26T15:37:00",
          "2022-10-26T15:39:00",
          "2022-10-26T15:40:00",
          "2022-10-26T15:42:00",
          "2022-10-26T15:44:00",
          "2022-10-26T15:45:00",
          "2022-10-26T15:46:00",
          "2022-10-26T15:47:00",
          "2022-10-26T15:48:00",
          "2022-10-26T15:49:00",
          "2022-10-26T15:50:00",
          "2022-10-26T15:51:00",
          "2022-10-26T15:52:00",
          "2022-10-26T15:54:00",
          "2022-10-26T15:55:00",
          "2022-10-26T15:56:00",
          "2022-10-26T15:58:00",
          "2022-10-26T15:59:00",
          "2022-10-26T16:00:00",
          "2022-10-26T16:01:00",
          "2022-10-26T16:03:00",
          "2022-10-26T16:04:00",
          "2022-10-26T16:05:00",
          "2022-10-26T16:06:00",
          "2022-10-26T16:07:00",
          "2022-10-26T16:08:00",
          "2022-10-26T16:09:00",
          "2022-10-26T16:10:00",
          "2022-10-26T16:11:00",
          "2022-10-26T16:12:00",
          "2022-10-26T16:13:00",
          "2022-10-26T16:14:00",
          "2022-10-26T16:15:00",
          "2022-10-26T16:16:00",
          "2022-10-26T16:17:00",
          "2022-10-26T16:18:00",
          "2022-10-26T16:19:00",
          "2022-10-26T16:20:00",
          "2022-10-26T16:21:00",
          "2022-10-26T16:22:00",
          "2022-10-26T16:23:00",
          "2022-10-26T16:24:00",
          "2022-10-26T16:25:00",
          "2022-10-26T16:26:00",
          "2022-10-26T16:27:00",
          "2022-10-26T16:28:00",
          "2022-10-26T16:29:00",
          "2022-10-26T16:31:00",
          "2022-10-26T16:32:00",
          "2022-10-26T16:33:00",
          "2022-10-26T16:34:00",
          "2022-10-26T16:35:00",
          "2022-10-26T16:36:00",
          "2022-10-26T16:37:00",
          "2022-10-26T16:38:00",
          "2022-10-26T16:39:00",
          "2022-10-26T16:40:00",
          "2022-10-26T16:41:00",
          "2022-10-26T16:42:00",
          "2022-10-26T16:44:00",
          "2022-10-26T16:45:00",
          "2022-10-26T16:46:00",
          "2022-10-26T16:47:00",
          "2022-10-26T16:48:00",
          "2022-10-26T16:49:00",
          "2022-10-26T16:50:00",
          "2022-10-26T16:51:00",
          "2022-10-26T16:53:00",
          "2022-10-26T16:54:00",
          "2022-10-26T17:07:00"
         ],
         "xaxis": "x",
         "y": [
          1.370000000000001,
          0.16999999999999815,
          0.120000000000001,
          0.14000000000000057,
          0.09999999999999787,
          0.11999999999999744,
          0.08000000000000185,
          0.129999999999999,
          0.129999999999999,
          0.08999999999999986,
          0.10999999999999943,
          0.03999999999999915,
          0.20000000000000284,
          0.08000000000000185,
          0.0799999999999983,
          0.08999999999999986,
          0.08999999999999986,
          0.0799999999999983,
          0.08999999999999986,
          0.11000000000000298,
          0.10999999999999943,
          0.08999999999999986,
          0.10000000000000142,
          0.14000000000000412,
          0.10999999999999943,
          0.16000000000000014,
          0.08999999999999986,
          0.10999999999999943,
          0.1700000000000017,
          0.0799999999999983,
          0.16000000000000014,
          0.10000000000000142,
          0.05999999999999872,
          0.10000000000000142,
          0.14999999999999858,
          0.13000000000000256,
          0.120000000000001,
          0.10999999999999943,
          0.14999999999999858,
          0.13000000000000256,
          0.13999999999999702,
          0.14000000000000057,
          0.19000000000000128,
          0.16000000000000014,
          0.14999999999999858,
          0.10999999999999943,
          0.1600000000000037,
          0.14999999999999858,
          0.16000000000000014,
          0.16000000000000014,
          0.13999999999999702,
          0.14999999999999858,
          0.18999999999999773,
          0.16000000000000014,
          0.1600000000000037,
          0.1599999999999966,
          0.14000000000000057,
          0.1600000000000037,
          0.14999999999999858,
          0.16000000000000014,
          0.21000000000000085,
          0.16000000000000014,
          0.15000000000000213,
          0.16000000000000014,
          0.15000000000000213,
          0.1700000000000017,
          0.17999999999999972,
          0.21000000000000085,
          0.20000000000000284,
          0.19000000000000128,
          0.21999999999999886,
          0.19000000000000128,
          0.21000000000000085,
          0.1999999999999993,
          0.19000000000000128,
          0.23000000000000043,
          0.2099999999999973,
          0.23000000000000043,
          0.21999999999999886,
          0.18999999999999773,
          0.21000000000000085,
          0.21000000000000085,
          0.1999999999999993,
          0.19000000000000128,
          0.18000000000000327,
          0.16000000000000014,
          0.16000000000000014,
          0.14999999999999858,
          0.1700000000000017,
          0.15000000000000213,
          0.14999999999999858,
          0.16000000000000014,
          0.16999999999999815,
          0.17999999999999972,
          0.16000000000000014,
          0.16000000000000014,
          0.16999999999999815,
          0.1600000000000037,
          0.16000000000000014,
          0.16000000000000014,
          0.16000000000000014,
          0.17999999999999972,
          0.15000000000000213,
          0.18000000000000327,
          0.15000000000000213,
          0.1700000000000017,
          0.15000000000000213,
          0.1600000000000037,
          0.14000000000000057,
          0.1599999999999966,
          0.16000000000000014,
          0.16999999999999815,
          0.1599999999999966,
          0.16000000000000014,
          0.16000000000000014,
          0.16999999999999815,
          0.16000000000000014,
          0.16999999999999815,
          0.16000000000000014,
          0.16000000000000014,
          0.16000000000000014,
          0.17999999999999972,
          0.16000000000000014,
          0.16000000000000014,
          0.14999999999999858,
          0.15000000000000213,
          0.15000000000000213,
          0.15000000000000213,
          0.1700000000000017,
          0.1700000000000017,
          0.16000000000000014,
          0.16999999999999815,
          0.16000000000000014,
          0.16999999999999815,
          0.13999999999999702,
          0.14999999999999858,
          0.16000000000000014,
          0.129999999999999,
          0.120000000000001,
          0.129999999999999,
          0.13999999999999702,
          0.14999999999999858,
          0.120000000000001,
          0.16000000000000014,
          0.16000000000000014,
          0.1600000000000037,
          0.14000000000000057,
          0.16000000000000014,
          0.15000000000000213,
          0.1700000000000017,
          0.1700000000000017,
          0.14999999999999858,
          0.1700000000000017,
          0.16000000000000014,
          0.14999999999999858,
          0.15000000000000213,
          0.15000000000000213,
          0.14999999999999858,
          0.14999999999999858,
          0.17999999999999972,
          0.14000000000000057,
          0.16000000000000014,
          0.16000000000000014,
          0.1700000000000017,
          0.15000000000000213,
          0.16999999999999815,
          0.16000000000000014,
          0.16000000000000014,
          0.1599999999999966,
          0.15000000000000213,
          0.1599999999999966,
          0.14999999999999858,
          0.16000000000000014,
          0.1599999999999966,
          0.14999999999999858,
          0.15000000000000213,
          0.15000000000000213,
          0.16000000000000014,
          0.14000000000000057,
          0.15000000000000213,
          0.14999999999999858,
          0.14999999999999858,
          0.13999999999999702,
          0.13999999999999702,
          0.14000000000000057,
          0.15000000000000213,
          0.14999999999999858,
          0.16000000000000014,
          0.16000000000000014,
          0.17999999999999972,
          0.16000000000000014,
          0.15000000000000213,
          0.1599999999999966,
          0.16999999999999815,
          0.16000000000000014,
          0.16000000000000014,
          0.14000000000000057,
          0.14000000000000057,
          0.14000000000000057,
          0.15000000000000213,
          0.129999999999999,
          0.18999999999999773,
          0.129999999999999,
          0.14999999999999858,
          0.14999999999999858,
          0.16000000000000014,
          0.14999999999999858,
          0.1599999999999966,
          0.1700000000000017,
          0.1700000000000017,
          0.15000000000000213,
          0.17999999999999972,
          0.14999999999999858,
          0.16000000000000014,
          0.14999999999999858,
          0.13999999999999702,
          0.129999999999999,
          0.129999999999999,
          0.11000000000000298,
          0.13000000000000256,
          0.13000000000000256,
          0.16000000000000014,
          0.14000000000000057,
          0.14999999999999858,
          0.14999999999999858,
          0.14000000000000057,
          0.14999999999999858,
          0.16000000000000014,
          0.14000000000000057,
          0.15000000000000213,
          0.129999999999999,
          0.14999999999999858,
          0.129999999999999,
          0.14999999999999858,
          0.120000000000001,
          0.14999999999999858,
          0.129999999999999,
          0.14000000000000057,
          0.1599999999999966,
          0.16000000000000014,
          0.14000000000000057,
          0.129999999999999,
          0.14000000000000057,
          0.14999999999999858,
          0.14999999999999858,
          0.129999999999999,
          0.14000000000000057,
          0.14000000000000057,
          0.13999999999999702,
          0.14000000000000057,
          0.14999999999999858,
          0.13999999999999702,
          0.14999999999999858,
          0.14000000000000057,
          0.120000000000001,
          0.129999999999999,
          0.14000000000000057,
          0.14999999999999858,
          0.14000000000000057,
          0.14999999999999858,
          0.129999999999999,
          0.14999999999999858,
          0.13999999999999702,
          0.129999999999999,
          0.14999999999999858,
          0.129999999999999,
          0.129999999999999,
          0.16000000000000014,
          0.14000000000000057,
          0.14999999999999858,
          0.14999999999999858,
          0.14999999999999858,
          0.14999999999999858,
          0.15000000000000213,
          0.14000000000000057,
          0.129999999999999,
          0.129999999999999,
          0.14000000000000057,
          0.13999999999999702,
          0.129999999999999,
          0.14999999999999858,
          0.13999999999999702,
          0.13999999999999702,
          0.1599999999999966,
          0.14999999999999858,
          0.14000000000000057,
          0.13999999999999702,
          0.13999999999999702,
          0.14000000000000057,
          0.14000000000000057,
          0.16000000000000014,
          0.14999999999999858,
          0.14000000000000057,
          0.15000000000000213,
          0.14000000000000057,
          0.11999999999999744,
          0.14000000000000057,
          0.13000000000000256,
          0.14000000000000057,
          0.14000000000000057,
          0.14999999999999858,
          0.120000000000001,
          0.13999999999999702,
          0.120000000000001,
          0.16999999999999815,
          0.129999999999999,
          0.14000000000000057,
          0.13999999999999702,
          0.129999999999999,
          0.120000000000001,
          0.129999999999999,
          0.120000000000001,
          0.11000000000000298,
          0.10000000000000142,
          0.11999999999999744,
          0.10999999999999943,
          0.129999999999999,
          0.13000000000000256,
          0.11000000000000298,
          0.10999999999999943,
          0.10999999999999943,
          0.11999999999999744,
          0.10000000000000142,
          0.129999999999999,
          0.09999999999999787,
          0.120000000000001,
          0.13000000000000256,
          0.0799999999999983,
          0.129999999999999,
          0.08999999999999986,
          0.11999999999999744,
          0.120000000000001,
          0.07000000000000028,
          0.020000000000003126,
          0.00999999999999801,
          0.07000000000000028,
          0.00999999999999801,
          0.019999999999999574,
          0.019999999999999574,
          0.019999999999999574,
          0.03999999999999915,
          0,
          0,
          0,
          0.0400000000000027,
          0.00999999999999801,
          0,
          0,
          0,
          0.00999999999999801,
          0.019999999999999574,
          0.05000000000000071,
          0.05999999999999872,
          0.05000000000000071,
          0.05999999999999872,
          0.08999999999999986,
          0.07000000000000028,
          0.07000000000000028,
          0.05999999999999872,
          0.08999999999999986,
          0.11999999999999744,
          0.08999999999999986,
          0.10999999999999943,
          0.10999999999999943,
          0.08999999999999986,
          0.10999999999999943,
          0.09999999999999787,
          0.0799999999999983,
          0.08999999999999986,
          0.09999999999999787,
          0.11000000000000298,
          0.10000000000000142,
          0.08000000000000185,
          0.0799999999999983,
          0.0799999999999983,
          0.05999999999999872,
          0.0799999999999983,
          0.07000000000000028,
          0.060000000000002274,
          0.10999999999999943,
          0.15000000000000213,
          0.21999999999999886
         ],
         "yaxis": "y"
        }
       ],
       "layout": {
        "legend": {
         "tracegroupgap": 0
        },
        "margin": {
         "t": 60
        },
        "template": {
         "data": {
          "bar": [
           {
            "error_x": {
             "color": "#2a3f5f"
            },
            "error_y": {
             "color": "#2a3f5f"
            },
            "marker": {
             "line": {
              "color": "#E5ECF6",
              "width": 0.5
             },
             "pattern": {
              "fillmode": "overlay",
              "size": 10,
              "solidity": 0.2
             }
            },
            "type": "bar"
           }
          ],
          "barpolar": [
           {
            "marker": {
             "line": {
              "color": "#E5ECF6",
              "width": 0.5
             },
             "pattern": {
              "fillmode": "overlay",
              "size": 10,
              "solidity": 0.2
             }
            },
            "type": "barpolar"
           }
          ],
          "carpet": [
           {
            "aaxis": {
             "endlinecolor": "#2a3f5f",
             "gridcolor": "white",
             "linecolor": "white",
             "minorgridcolor": "white",
             "startlinecolor": "#2a3f5f"
            },
            "baxis": {
             "endlinecolor": "#2a3f5f",
             "gridcolor": "white",
             "linecolor": "white",
             "minorgridcolor": "white",
             "startlinecolor": "#2a3f5f"
            },
            "type": "carpet"
           }
          ],
          "choropleth": [
           {
            "colorbar": {
             "outlinewidth": 0,
             "ticks": ""
            },
            "type": "choropleth"
           }
          ],
          "contour": [
           {
            "colorbar": {
             "outlinewidth": 0,
             "ticks": ""
            },
            "colorscale": [
             [
              0,
              "#0d0887"
             ],
             [
              0.1111111111111111,
              "#46039f"
             ],
             [
              0.2222222222222222,
              "#7201a8"
             ],
             [
              0.3333333333333333,
              "#9c179e"
             ],
             [
              0.4444444444444444,
              "#bd3786"
             ],
             [
              0.5555555555555556,
              "#d8576b"
             ],
             [
              0.6666666666666666,
              "#ed7953"
             ],
             [
              0.7777777777777778,
              "#fb9f3a"
             ],
             [
              0.8888888888888888,
              "#fdca26"
             ],
             [
              1,
              "#f0f921"
             ]
            ],
            "type": "contour"
           }
          ],
          "contourcarpet": [
           {
            "colorbar": {
             "outlinewidth": 0,
             "ticks": ""
            },
            "type": "contourcarpet"
           }
          ],
          "heatmap": [
           {
            "colorbar": {
             "outlinewidth": 0,
             "ticks": ""
            },
            "colorscale": [
             [
              0,
              "#0d0887"
             ],
             [
              0.1111111111111111,
              "#46039f"
             ],
             [
              0.2222222222222222,
              "#7201a8"
             ],
             [
              0.3333333333333333,
              "#9c179e"
             ],
             [
              0.4444444444444444,
              "#bd3786"
             ],
             [
              0.5555555555555556,
              "#d8576b"
             ],
             [
              0.6666666666666666,
              "#ed7953"
             ],
             [
              0.7777777777777778,
              "#fb9f3a"
             ],
             [
              0.8888888888888888,
              "#fdca26"
             ],
             [
              1,
              "#f0f921"
             ]
            ],
            "type": "heatmap"
           }
          ],
          "heatmapgl": [
           {
            "colorbar": {
             "outlinewidth": 0,
             "ticks": ""
            },
            "colorscale": [
             [
              0,
              "#0d0887"
             ],
             [
              0.1111111111111111,
              "#46039f"
             ],
             [
              0.2222222222222222,
              "#7201a8"
             ],
             [
              0.3333333333333333,
              "#9c179e"
             ],
             [
              0.4444444444444444,
              "#bd3786"
             ],
             [
              0.5555555555555556,
              "#d8576b"
             ],
             [
              0.6666666666666666,
              "#ed7953"
             ],
             [
              0.7777777777777778,
              "#fb9f3a"
             ],
             [
              0.8888888888888888,
              "#fdca26"
             ],
             [
              1,
              "#f0f921"
             ]
            ],
            "type": "heatmapgl"
           }
          ],
          "histogram": [
           {
            "marker": {
             "pattern": {
              "fillmode": "overlay",
              "size": 10,
              "solidity": 0.2
             }
            },
            "type": "histogram"
           }
          ],
          "histogram2d": [
           {
            "colorbar": {
             "outlinewidth": 0,
             "ticks": ""
            },
            "colorscale": [
             [
              0,
              "#0d0887"
             ],
             [
              0.1111111111111111,
              "#46039f"
             ],
             [
              0.2222222222222222,
              "#7201a8"
             ],
             [
              0.3333333333333333,
              "#9c179e"
             ],
             [
              0.4444444444444444,
              "#bd3786"
             ],
             [
              0.5555555555555556,
              "#d8576b"
             ],
             [
              0.6666666666666666,
              "#ed7953"
             ],
             [
              0.7777777777777778,
              "#fb9f3a"
             ],
             [
              0.8888888888888888,
              "#fdca26"
             ],
             [
              1,
              "#f0f921"
             ]
            ],
            "type": "histogram2d"
           }
          ],
          "histogram2dcontour": [
           {
            "colorbar": {
             "outlinewidth": 0,
             "ticks": ""
            },
            "colorscale": [
             [
              0,
              "#0d0887"
             ],
             [
              0.1111111111111111,
              "#46039f"
             ],
             [
              0.2222222222222222,
              "#7201a8"
             ],
             [
              0.3333333333333333,
              "#9c179e"
             ],
             [
              0.4444444444444444,
              "#bd3786"
             ],
             [
              0.5555555555555556,
              "#d8576b"
             ],
             [
              0.6666666666666666,
              "#ed7953"
             ],
             [
              0.7777777777777778,
              "#fb9f3a"
             ],
             [
              0.8888888888888888,
              "#fdca26"
             ],
             [
              1,
              "#f0f921"
             ]
            ],
            "type": "histogram2dcontour"
           }
          ],
          "mesh3d": [
           {
            "colorbar": {
             "outlinewidth": 0,
             "ticks": ""
            },
            "type": "mesh3d"
           }
          ],
          "parcoords": [
           {
            "line": {
             "colorbar": {
              "outlinewidth": 0,
              "ticks": ""
             }
            },
            "type": "parcoords"
           }
          ],
          "pie": [
           {
            "automargin": true,
            "type": "pie"
           }
          ],
          "scatter": [
           {
            "fillpattern": {
             "fillmode": "overlay",
             "size": 10,
             "solidity": 0.2
            },
            "type": "scatter"
           }
          ],
          "scatter3d": [
           {
            "line": {
             "colorbar": {
              "outlinewidth": 0,
              "ticks": ""
             }
            },
            "marker": {
             "colorbar": {
              "outlinewidth": 0,
              "ticks": ""
             }
            },
            "type": "scatter3d"
           }
          ],
          "scattercarpet": [
           {
            "marker": {
             "colorbar": {
              "outlinewidth": 0,
              "ticks": ""
             }
            },
            "type": "scattercarpet"
           }
          ],
          "scattergeo": [
           {
            "marker": {
             "colorbar": {
              "outlinewidth": 0,
              "ticks": ""
             }
            },
            "type": "scattergeo"
           }
          ],
          "scattergl": [
           {
            "marker": {
             "colorbar": {
              "outlinewidth": 0,
              "ticks": ""
             }
            },
            "type": "scattergl"
           }
          ],
          "scattermapbox": [
           {
            "marker": {
             "colorbar": {
              "outlinewidth": 0,
              "ticks": ""
             }
            },
            "type": "scattermapbox"
           }
          ],
          "scatterpolar": [
           {
            "marker": {
             "colorbar": {
              "outlinewidth": 0,
              "ticks": ""
             }
            },
            "type": "scatterpolar"
           }
          ],
          "scatterpolargl": [
           {
            "marker": {
             "colorbar": {
              "outlinewidth": 0,
              "ticks": ""
             }
            },
            "type": "scatterpolargl"
           }
          ],
          "scatterternary": [
           {
            "marker": {
             "colorbar": {
              "outlinewidth": 0,
              "ticks": ""
             }
            },
            "type": "scatterternary"
           }
          ],
          "surface": [
           {
            "colorbar": {
             "outlinewidth": 0,
             "ticks": ""
            },
            "colorscale": [
             [
              0,
              "#0d0887"
             ],
             [
              0.1111111111111111,
              "#46039f"
             ],
             [
              0.2222222222222222,
              "#7201a8"
             ],
             [
              0.3333333333333333,
              "#9c179e"
             ],
             [
              0.4444444444444444,
              "#bd3786"
             ],
             [
              0.5555555555555556,
              "#d8576b"
             ],
             [
              0.6666666666666666,
              "#ed7953"
             ],
             [
              0.7777777777777778,
              "#fb9f3a"
             ],
             [
              0.8888888888888888,
              "#fdca26"
             ],
             [
              1,
              "#f0f921"
             ]
            ],
            "type": "surface"
           }
          ],
          "table": [
           {
            "cells": {
             "fill": {
              "color": "#EBF0F8"
             },
             "line": {
              "color": "white"
             }
            },
            "header": {
             "fill": {
              "color": "#C8D4E3"
             },
             "line": {
              "color": "white"
             }
            },
            "type": "table"
           }
          ]
         },
         "layout": {
          "annotationdefaults": {
           "arrowcolor": "#2a3f5f",
           "arrowhead": 0,
           "arrowwidth": 1
          },
          "autotypenumbers": "strict",
          "coloraxis": {
           "colorbar": {
            "outlinewidth": 0,
            "ticks": ""
           }
          },
          "colorscale": {
           "diverging": [
            [
             0,
             "#8e0152"
            ],
            [
             0.1,
             "#c51b7d"
            ],
            [
             0.2,
             "#de77ae"
            ],
            [
             0.3,
             "#f1b6da"
            ],
            [
             0.4,
             "#fde0ef"
            ],
            [
             0.5,
             "#f7f7f7"
            ],
            [
             0.6,
             "#e6f5d0"
            ],
            [
             0.7,
             "#b8e186"
            ],
            [
             0.8,
             "#7fbc41"
            ],
            [
             0.9,
             "#4d9221"
            ],
            [
             1,
             "#276419"
            ]
           ],
           "sequential": [
            [
             0,
             "#0d0887"
            ],
            [
             0.1111111111111111,
             "#46039f"
            ],
            [
             0.2222222222222222,
             "#7201a8"
            ],
            [
             0.3333333333333333,
             "#9c179e"
            ],
            [
             0.4444444444444444,
             "#bd3786"
            ],
            [
             0.5555555555555556,
             "#d8576b"
            ],
            [
             0.6666666666666666,
             "#ed7953"
            ],
            [
             0.7777777777777778,
             "#fb9f3a"
            ],
            [
             0.8888888888888888,
             "#fdca26"
            ],
            [
             1,
             "#f0f921"
            ]
           ],
           "sequentialminus": [
            [
             0,
             "#0d0887"
            ],
            [
             0.1111111111111111,
             "#46039f"
            ],
            [
             0.2222222222222222,
             "#7201a8"
            ],
            [
             0.3333333333333333,
             "#9c179e"
            ],
            [
             0.4444444444444444,
             "#bd3786"
            ],
            [
             0.5555555555555556,
             "#d8576b"
            ],
            [
             0.6666666666666666,
             "#ed7953"
            ],
            [
             0.7777777777777778,
             "#fb9f3a"
            ],
            [
             0.8888888888888888,
             "#fdca26"
            ],
            [
             1,
             "#f0f921"
            ]
           ]
          },
          "colorway": [
           "#636efa",
           "#EF553B",
           "#00cc96",
           "#ab63fa",
           "#FFA15A",
           "#19d3f3",
           "#FF6692",
           "#B6E880",
           "#FF97FF",
           "#FECB52"
          ],
          "font": {
           "color": "#2a3f5f"
          },
          "geo": {
           "bgcolor": "white",
           "lakecolor": "white",
           "landcolor": "#E5ECF6",
           "showlakes": true,
           "showland": true,
           "subunitcolor": "white"
          },
          "hoverlabel": {
           "align": "left"
          },
          "hovermode": "closest",
          "mapbox": {
           "style": "light"
          },
          "paper_bgcolor": "white",
          "plot_bgcolor": "#E5ECF6",
          "polar": {
           "angularaxis": {
            "gridcolor": "white",
            "linecolor": "white",
            "ticks": ""
           },
           "bgcolor": "#E5ECF6",
           "radialaxis": {
            "gridcolor": "white",
            "linecolor": "white",
            "ticks": ""
           }
          },
          "scene": {
           "xaxis": {
            "backgroundcolor": "#E5ECF6",
            "gridcolor": "white",
            "gridwidth": 2,
            "linecolor": "white",
            "showbackground": true,
            "ticks": "",
            "zerolinecolor": "white"
           },
           "yaxis": {
            "backgroundcolor": "#E5ECF6",
            "gridcolor": "white",
            "gridwidth": 2,
            "linecolor": "white",
            "showbackground": true,
            "ticks": "",
            "zerolinecolor": "white"
           },
           "zaxis": {
            "backgroundcolor": "#E5ECF6",
            "gridcolor": "white",
            "gridwidth": 2,
            "linecolor": "white",
            "showbackground": true,
            "ticks": "",
            "zerolinecolor": "white"
           }
          },
          "shapedefaults": {
           "line": {
            "color": "#2a3f5f"
           }
          },
          "ternary": {
           "aaxis": {
            "gridcolor": "white",
            "linecolor": "white",
            "ticks": ""
           },
           "baxis": {
            "gridcolor": "white",
            "linecolor": "white",
            "ticks": ""
           },
           "bgcolor": "#E5ECF6",
           "caxis": {
            "gridcolor": "white",
            "linecolor": "white",
            "ticks": ""
           }
          },
          "title": {
           "x": 0.05
          },
          "xaxis": {
           "automargin": true,
           "gridcolor": "white",
           "linecolor": "white",
           "ticks": "",
           "title": {
            "standoff": 15
           },
           "zerolinecolor": "white",
           "zerolinewidth": 2
          },
          "yaxis": {
           "automargin": true,
           "gridcolor": "white",
           "linecolor": "white",
           "ticks": "",
           "title": {
            "standoff": 15
           },
           "zerolinecolor": "white",
           "zerolinewidth": 2
          }
         }
        },
        "xaxis": {
         "anchor": "y",
         "domain": [
          0,
          1
         ],
         "title": {
          "text": "Data"
         }
        },
        "yaxis": {
         "anchor": "x",
         "domain": [
          0,
          1
         ],
         "title": {
          "text": "PU"
         }
        }
       }
      },
      "text/html": [
       "<div>                            <div id=\"16cf6632-ef43-4577-8b7b-bb7880f63ee0\" class=\"plotly-graph-div\" style=\"height:525px; width:100%;\"></div>            <script type=\"text/javascript\">                require([\"plotly\"], function(Plotly) {                    window.PLOTLYENV=window.PLOTLYENV || {};                                    if (document.getElementById(\"16cf6632-ef43-4577-8b7b-bb7880f63ee0\")) {                    Plotly.newPlot(                        \"16cf6632-ef43-4577-8b7b-bb7880f63ee0\",                        [{\"hovertemplate\":\"Data=%{x}<br>PU=%{y}<extra></extra>\",\"legendgroup\":\"\",\"line\":{\"color\":\"#636efa\",\"dash\":\"solid\"},\"marker\":{\"symbol\":\"circle\"},\"mode\":\"lines\",\"name\":\"\",\"orientation\":\"v\",\"showlegend\":false,\"x\":[\"2022-10-26T10:08:00\",\"2022-10-26T10:09:00\",\"2022-10-26T10:10:00\",\"2022-10-26T10:11:00\",\"2022-10-26T10:12:00\",\"2022-10-26T10:13:00\",\"2022-10-26T10:14:00\",\"2022-10-26T10:15:00\",\"2022-10-26T10:16:00\",\"2022-10-26T10:17:00\",\"2022-10-26T10:18:00\",\"2022-10-26T10:19:00\",\"2022-10-26T10:20:00\",\"2022-10-26T10:21:00\",\"2022-10-26T10:22:00\",\"2022-10-26T10:23:00\",\"2022-10-26T10:24:00\",\"2022-10-26T10:25:00\",\"2022-10-26T10:26:00\",\"2022-10-26T10:27:00\",\"2022-10-26T10:28:00\",\"2022-10-26T10:29:00\",\"2022-10-26T10:30:00\",\"2022-10-26T10:31:00\",\"2022-10-26T10:32:00\",\"2022-10-26T10:33:00\",\"2022-10-26T10:34:00\",\"2022-10-26T10:35:00\",\"2022-10-26T10:36:00\",\"2022-10-26T10:37:00\",\"2022-10-26T10:38:00\",\"2022-10-26T10:39:00\",\"2022-10-26T10:40:00\",\"2022-10-26T10:41:00\",\"2022-10-26T10:42:00\",\"2022-10-26T10:43:00\",\"2022-10-26T10:44:00\",\"2022-10-26T10:45:00\",\"2022-10-26T10:46:00\",\"2022-10-26T10:47:00\",\"2022-10-26T10:48:00\",\"2022-10-26T10:49:00\",\"2022-10-26T10:50:00\",\"2022-10-26T10:51:00\",\"2022-10-26T10:52:00\",\"2022-10-26T10:53:00\",\"2022-10-26T10:54:00\",\"2022-10-26T10:55:00\",\"2022-10-26T10:56:00\",\"2022-10-26T10:57:00\",\"2022-10-26T10:58:00\",\"2022-10-26T10:59:00\",\"2022-10-26T11:00:00\",\"2022-10-26T11:01:00\",\"2022-10-26T11:02:00\",\"2022-10-26T11:03:00\",\"2022-10-26T11:04:00\",\"2022-10-26T11:05:00\",\"2022-10-26T11:06:00\",\"2022-10-26T11:07:00\",\"2022-10-26T11:08:00\",\"2022-10-26T11:09:00\",\"2022-10-26T11:10:00\",\"2022-10-26T11:11:00\",\"2022-10-26T11:12:00\",\"2022-10-26T11:13:00\",\"2022-10-26T11:14:00\",\"2022-10-26T11:15:00\",\"2022-10-26T11:16:00\",\"2022-10-26T11:17:00\",\"2022-10-26T11:18:00\",\"2022-10-26T11:19:00\",\"2022-10-26T11:20:00\",\"2022-10-26T11:21:00\",\"2022-10-26T11:22:00\",\"2022-10-26T11:23:00\",\"2022-10-26T11:24:00\",\"2022-10-26T11:25:00\",\"2022-10-26T11:26:00\",\"2022-10-26T11:27:00\",\"2022-10-26T11:28:00\",\"2022-10-26T11:29:00\",\"2022-10-26T11:30:00\",\"2022-10-26T11:31:00\",\"2022-10-26T11:32:00\",\"2022-10-26T11:33:00\",\"2022-10-26T11:34:00\",\"2022-10-26T11:35:00\",\"2022-10-26T11:36:00\",\"2022-10-26T11:37:00\",\"2022-10-26T11:38:00\",\"2022-10-26T11:39:00\",\"2022-10-26T11:40:00\",\"2022-10-26T11:41:00\",\"2022-10-26T11:42:00\",\"2022-10-26T11:43:00\",\"2022-10-26T11:44:00\",\"2022-10-26T11:45:00\",\"2022-10-26T11:46:00\",\"2022-10-26T11:47:00\",\"2022-10-26T11:48:00\",\"2022-10-26T11:49:00\",\"2022-10-26T11:50:00\",\"2022-10-26T11:51:00\",\"2022-10-26T11:52:00\",\"2022-10-26T11:53:00\",\"2022-10-26T11:54:00\",\"2022-10-26T11:55:00\",\"2022-10-26T11:56:00\",\"2022-10-26T11:57:00\",\"2022-10-26T11:58:00\",\"2022-10-26T11:59:00\",\"2022-10-26T12:00:00\",\"2022-10-26T12:01:00\",\"2022-10-26T12:02:00\",\"2022-10-26T12:03:00\",\"2022-10-26T12:04:00\",\"2022-10-26T12:05:00\",\"2022-10-26T12:06:00\",\"2022-10-26T12:07:00\",\"2022-10-26T12:08:00\",\"2022-10-26T12:10:00\",\"2022-10-26T12:11:00\",\"2022-10-26T12:12:00\",\"2022-10-26T12:13:00\",\"2022-10-26T12:14:00\",\"2022-10-26T12:15:00\",\"2022-10-26T12:16:00\",\"2022-10-26T12:17:00\",\"2022-10-26T12:19:00\",\"2022-10-26T12:20:00\",\"2022-10-26T12:21:00\",\"2022-10-26T12:22:00\",\"2022-10-26T12:23:00\",\"2022-10-26T12:24:00\",\"2022-10-26T12:25:00\",\"2022-10-26T12:26:00\",\"2022-10-26T12:27:00\",\"2022-10-26T12:28:00\",\"2022-10-26T12:29:00\",\"2022-10-26T12:30:00\",\"2022-10-26T12:31:00\",\"2022-10-26T12:32:00\",\"2022-10-26T12:33:00\",\"2022-10-26T12:34:00\",\"2022-10-26T12:35:00\",\"2022-10-26T12:36:00\",\"2022-10-26T12:37:00\",\"2022-10-26T12:38:00\",\"2022-10-26T12:39:00\",\"2022-10-26T12:40:00\",\"2022-10-26T12:41:00\",\"2022-10-26T12:42:00\",\"2022-10-26T12:43:00\",\"2022-10-26T12:44:00\",\"2022-10-26T12:45:00\",\"2022-10-26T12:46:00\",\"2022-10-26T12:47:00\",\"2022-10-26T12:48:00\",\"2022-10-26T12:49:00\",\"2022-10-26T12:50:00\",\"2022-10-26T12:51:00\",\"2022-10-26T12:52:00\",\"2022-10-26T12:53:00\",\"2022-10-26T12:54:00\",\"2022-10-26T12:55:00\",\"2022-10-26T12:56:00\",\"2022-10-26T12:57:00\",\"2022-10-26T12:58:00\",\"2022-10-26T12:59:00\",\"2022-10-26T13:00:00\",\"2022-10-26T13:01:00\",\"2022-10-26T13:02:00\",\"2022-10-26T13:03:00\",\"2022-10-26T13:04:00\",\"2022-10-26T13:05:00\",\"2022-10-26T13:06:00\",\"2022-10-26T13:07:00\",\"2022-10-26T13:08:00\",\"2022-10-26T13:09:00\",\"2022-10-26T13:10:00\",\"2022-10-26T13:11:00\",\"2022-10-26T13:12:00\",\"2022-10-26T13:13:00\",\"2022-10-26T13:14:00\",\"2022-10-26T13:15:00\",\"2022-10-26T13:16:00\",\"2022-10-26T13:17:00\",\"2022-10-26T13:18:00\",\"2022-10-26T13:19:00\",\"2022-10-26T13:20:00\",\"2022-10-26T13:21:00\",\"2022-10-26T13:22:00\",\"2022-10-26T13:23:00\",\"2022-10-26T13:24:00\",\"2022-10-26T13:25:00\",\"2022-10-26T13:26:00\",\"2022-10-26T13:27:00\",\"2022-10-26T13:28:00\",\"2022-10-26T13:30:00\",\"2022-10-26T13:31:00\",\"2022-10-26T13:32:00\",\"2022-10-26T13:33:00\",\"2022-10-26T13:34:00\",\"2022-10-26T13:35:00\",\"2022-10-26T13:36:00\",\"2022-10-26T13:37:00\",\"2022-10-26T13:38:00\",\"2022-10-26T13:39:00\",\"2022-10-26T13:40:00\",\"2022-10-26T13:41:00\",\"2022-10-26T13:42:00\",\"2022-10-26T13:44:00\",\"2022-10-26T13:45:00\",\"2022-10-26T13:46:00\",\"2022-10-26T13:47:00\",\"2022-10-26T13:48:00\",\"2022-10-26T13:49:00\",\"2022-10-26T13:50:00\",\"2022-10-26T13:51:00\",\"2022-10-26T13:52:00\",\"2022-10-26T13:53:00\",\"2022-10-26T13:54:00\",\"2022-10-26T13:55:00\",\"2022-10-26T13:56:00\",\"2022-10-26T13:57:00\",\"2022-10-26T13:58:00\",\"2022-10-26T13:59:00\",\"2022-10-26T14:00:00\",\"2022-10-26T14:04:00\",\"2022-10-26T14:05:00\",\"2022-10-26T14:06:00\",\"2022-10-26T14:07:00\",\"2022-10-26T14:08:00\",\"2022-10-26T14:10:00\",\"2022-10-26T14:11:00\",\"2022-10-26T14:12:00\",\"2022-10-26T14:13:00\",\"2022-10-26T14:14:00\",\"2022-10-26T14:15:00\",\"2022-10-26T14:16:00\",\"2022-10-26T14:17:00\",\"2022-10-26T14:18:00\",\"2022-10-26T14:19:00\",\"2022-10-26T14:20:00\",\"2022-10-26T14:21:00\",\"2022-10-26T14:22:00\",\"2022-10-26T14:23:00\",\"2022-10-26T14:24:00\",\"2022-10-26T14:25:00\",\"2022-10-26T14:26:00\",\"2022-10-26T14:27:00\",\"2022-10-26T14:28:00\",\"2022-10-26T14:29:00\",\"2022-10-26T14:31:00\",\"2022-10-26T14:32:00\",\"2022-10-26T14:33:00\",\"2022-10-26T14:34:00\",\"2022-10-26T14:35:00\",\"2022-10-26T14:36:00\",\"2022-10-26T14:37:00\",\"2022-10-26T14:38:00\",\"2022-10-26T14:39:00\",\"2022-10-26T14:40:00\",\"2022-10-26T14:41:00\",\"2022-10-26T14:42:00\",\"2022-10-26T14:43:00\",\"2022-10-26T14:44:00\",\"2022-10-26T14:45:00\",\"2022-10-26T14:46:00\",\"2022-10-26T14:49:00\",\"2022-10-26T14:51:00\",\"2022-10-26T14:53:00\",\"2022-10-26T14:54:00\",\"2022-10-26T14:55:00\",\"2022-10-26T14:56:00\",\"2022-10-26T14:57:00\",\"2022-10-26T14:58:00\",\"2022-10-26T14:59:00\",\"2022-10-26T15:00:00\",\"2022-10-26T15:01:00\",\"2022-10-26T15:02:00\",\"2022-10-26T15:03:00\",\"2022-10-26T15:04:00\",\"2022-10-26T15:05:00\",\"2022-10-26T15:06:00\",\"2022-10-26T15:07:00\",\"2022-10-26T15:08:00\",\"2022-10-26T15:09:00\",\"2022-10-26T15:10:00\",\"2022-10-26T15:11:00\",\"2022-10-26T15:12:00\",\"2022-10-26T15:13:00\",\"2022-10-26T15:14:00\",\"2022-10-26T15:15:00\",\"2022-10-26T15:16:00\",\"2022-10-26T15:17:00\",\"2022-10-26T15:18:00\",\"2022-10-26T15:19:00\",\"2022-10-26T15:21:00\",\"2022-10-26T15:22:00\",\"2022-10-26T15:23:00\",\"2022-10-26T15:25:00\",\"2022-10-26T15:27:00\",\"2022-10-26T15:28:00\",\"2022-10-26T15:29:00\",\"2022-10-26T15:30:00\",\"2022-10-26T15:31:00\",\"2022-10-26T15:32:00\",\"2022-10-26T15:33:00\",\"2022-10-26T15:34:00\",\"2022-10-26T15:35:00\",\"2022-10-26T15:37:00\",\"2022-10-26T15:39:00\",\"2022-10-26T15:40:00\",\"2022-10-26T15:42:00\",\"2022-10-26T15:44:00\",\"2022-10-26T15:45:00\",\"2022-10-26T15:46:00\",\"2022-10-26T15:47:00\",\"2022-10-26T15:48:00\",\"2022-10-26T15:49:00\",\"2022-10-26T15:50:00\",\"2022-10-26T15:51:00\",\"2022-10-26T15:52:00\",\"2022-10-26T15:54:00\",\"2022-10-26T15:55:00\",\"2022-10-26T15:56:00\",\"2022-10-26T15:58:00\",\"2022-10-26T15:59:00\",\"2022-10-26T16:00:00\",\"2022-10-26T16:01:00\",\"2022-10-26T16:03:00\",\"2022-10-26T16:04:00\",\"2022-10-26T16:05:00\",\"2022-10-26T16:06:00\",\"2022-10-26T16:07:00\",\"2022-10-26T16:08:00\",\"2022-10-26T16:09:00\",\"2022-10-26T16:10:00\",\"2022-10-26T16:11:00\",\"2022-10-26T16:12:00\",\"2022-10-26T16:13:00\",\"2022-10-26T16:14:00\",\"2022-10-26T16:15:00\",\"2022-10-26T16:16:00\",\"2022-10-26T16:17:00\",\"2022-10-26T16:18:00\",\"2022-10-26T16:19:00\",\"2022-10-26T16:20:00\",\"2022-10-26T16:21:00\",\"2022-10-26T16:22:00\",\"2022-10-26T16:23:00\",\"2022-10-26T16:24:00\",\"2022-10-26T16:25:00\",\"2022-10-26T16:26:00\",\"2022-10-26T16:27:00\",\"2022-10-26T16:28:00\",\"2022-10-26T16:29:00\",\"2022-10-26T16:31:00\",\"2022-10-26T16:32:00\",\"2022-10-26T16:33:00\",\"2022-10-26T16:34:00\",\"2022-10-26T16:35:00\",\"2022-10-26T16:36:00\",\"2022-10-26T16:37:00\",\"2022-10-26T16:38:00\",\"2022-10-26T16:39:00\",\"2022-10-26T16:40:00\",\"2022-10-26T16:41:00\",\"2022-10-26T16:42:00\",\"2022-10-26T16:44:00\",\"2022-10-26T16:45:00\",\"2022-10-26T16:46:00\",\"2022-10-26T16:47:00\",\"2022-10-26T16:48:00\",\"2022-10-26T16:49:00\",\"2022-10-26T16:50:00\",\"2022-10-26T16:51:00\",\"2022-10-26T16:53:00\",\"2022-10-26T16:54:00\",\"2022-10-26T17:07:00\"],\"xaxis\":\"x\",\"y\":[1.370000000000001,0.16999999999999815,0.120000000000001,0.14000000000000057,0.09999999999999787,0.11999999999999744,0.08000000000000185,0.129999999999999,0.129999999999999,0.08999999999999986,0.10999999999999943,0.03999999999999915,0.20000000000000284,0.08000000000000185,0.0799999999999983,0.08999999999999986,0.08999999999999986,0.0799999999999983,0.08999999999999986,0.11000000000000298,0.10999999999999943,0.08999999999999986,0.10000000000000142,0.14000000000000412,0.10999999999999943,0.16000000000000014,0.08999999999999986,0.10999999999999943,0.1700000000000017,0.0799999999999983,0.16000000000000014,0.10000000000000142,0.05999999999999872,0.10000000000000142,0.14999999999999858,0.13000000000000256,0.120000000000001,0.10999999999999943,0.14999999999999858,0.13000000000000256,0.13999999999999702,0.14000000000000057,0.19000000000000128,0.16000000000000014,0.14999999999999858,0.10999999999999943,0.1600000000000037,0.14999999999999858,0.16000000000000014,0.16000000000000014,0.13999999999999702,0.14999999999999858,0.18999999999999773,0.16000000000000014,0.1600000000000037,0.1599999999999966,0.14000000000000057,0.1600000000000037,0.14999999999999858,0.16000000000000014,0.21000000000000085,0.16000000000000014,0.15000000000000213,0.16000000000000014,0.15000000000000213,0.1700000000000017,0.17999999999999972,0.21000000000000085,0.20000000000000284,0.19000000000000128,0.21999999999999886,0.19000000000000128,0.21000000000000085,0.1999999999999993,0.19000000000000128,0.23000000000000043,0.2099999999999973,0.23000000000000043,0.21999999999999886,0.18999999999999773,0.21000000000000085,0.21000000000000085,0.1999999999999993,0.19000000000000128,0.18000000000000327,0.16000000000000014,0.16000000000000014,0.14999999999999858,0.1700000000000017,0.15000000000000213,0.14999999999999858,0.16000000000000014,0.16999999999999815,0.17999999999999972,0.16000000000000014,0.16000000000000014,0.16999999999999815,0.1600000000000037,0.16000000000000014,0.16000000000000014,0.16000000000000014,0.17999999999999972,0.15000000000000213,0.18000000000000327,0.15000000000000213,0.1700000000000017,0.15000000000000213,0.1600000000000037,0.14000000000000057,0.1599999999999966,0.16000000000000014,0.16999999999999815,0.1599999999999966,0.16000000000000014,0.16000000000000014,0.16999999999999815,0.16000000000000014,0.16999999999999815,0.16000000000000014,0.16000000000000014,0.16000000000000014,0.17999999999999972,0.16000000000000014,0.16000000000000014,0.14999999999999858,0.15000000000000213,0.15000000000000213,0.15000000000000213,0.1700000000000017,0.1700000000000017,0.16000000000000014,0.16999999999999815,0.16000000000000014,0.16999999999999815,0.13999999999999702,0.14999999999999858,0.16000000000000014,0.129999999999999,0.120000000000001,0.129999999999999,0.13999999999999702,0.14999999999999858,0.120000000000001,0.16000000000000014,0.16000000000000014,0.1600000000000037,0.14000000000000057,0.16000000000000014,0.15000000000000213,0.1700000000000017,0.1700000000000017,0.14999999999999858,0.1700000000000017,0.16000000000000014,0.14999999999999858,0.15000000000000213,0.15000000000000213,0.14999999999999858,0.14999999999999858,0.17999999999999972,0.14000000000000057,0.16000000000000014,0.16000000000000014,0.1700000000000017,0.15000000000000213,0.16999999999999815,0.16000000000000014,0.16000000000000014,0.1599999999999966,0.15000000000000213,0.1599999999999966,0.14999999999999858,0.16000000000000014,0.1599999999999966,0.14999999999999858,0.15000000000000213,0.15000000000000213,0.16000000000000014,0.14000000000000057,0.15000000000000213,0.14999999999999858,0.14999999999999858,0.13999999999999702,0.13999999999999702,0.14000000000000057,0.15000000000000213,0.14999999999999858,0.16000000000000014,0.16000000000000014,0.17999999999999972,0.16000000000000014,0.15000000000000213,0.1599999999999966,0.16999999999999815,0.16000000000000014,0.16000000000000014,0.14000000000000057,0.14000000000000057,0.14000000000000057,0.15000000000000213,0.129999999999999,0.18999999999999773,0.129999999999999,0.14999999999999858,0.14999999999999858,0.16000000000000014,0.14999999999999858,0.1599999999999966,0.1700000000000017,0.1700000000000017,0.15000000000000213,0.17999999999999972,0.14999999999999858,0.16000000000000014,0.14999999999999858,0.13999999999999702,0.129999999999999,0.129999999999999,0.11000000000000298,0.13000000000000256,0.13000000000000256,0.16000000000000014,0.14000000000000057,0.14999999999999858,0.14999999999999858,0.14000000000000057,0.14999999999999858,0.16000000000000014,0.14000000000000057,0.15000000000000213,0.129999999999999,0.14999999999999858,0.129999999999999,0.14999999999999858,0.120000000000001,0.14999999999999858,0.129999999999999,0.14000000000000057,0.1599999999999966,0.16000000000000014,0.14000000000000057,0.129999999999999,0.14000000000000057,0.14999999999999858,0.14999999999999858,0.129999999999999,0.14000000000000057,0.14000000000000057,0.13999999999999702,0.14000000000000057,0.14999999999999858,0.13999999999999702,0.14999999999999858,0.14000000000000057,0.120000000000001,0.129999999999999,0.14000000000000057,0.14999999999999858,0.14000000000000057,0.14999999999999858,0.129999999999999,0.14999999999999858,0.13999999999999702,0.129999999999999,0.14999999999999858,0.129999999999999,0.129999999999999,0.16000000000000014,0.14000000000000057,0.14999999999999858,0.14999999999999858,0.14999999999999858,0.14999999999999858,0.15000000000000213,0.14000000000000057,0.129999999999999,0.129999999999999,0.14000000000000057,0.13999999999999702,0.129999999999999,0.14999999999999858,0.13999999999999702,0.13999999999999702,0.1599999999999966,0.14999999999999858,0.14000000000000057,0.13999999999999702,0.13999999999999702,0.14000000000000057,0.14000000000000057,0.16000000000000014,0.14999999999999858,0.14000000000000057,0.15000000000000213,0.14000000000000057,0.11999999999999744,0.14000000000000057,0.13000000000000256,0.14000000000000057,0.14000000000000057,0.14999999999999858,0.120000000000001,0.13999999999999702,0.120000000000001,0.16999999999999815,0.129999999999999,0.14000000000000057,0.13999999999999702,0.129999999999999,0.120000000000001,0.129999999999999,0.120000000000001,0.11000000000000298,0.10000000000000142,0.11999999999999744,0.10999999999999943,0.129999999999999,0.13000000000000256,0.11000000000000298,0.10999999999999943,0.10999999999999943,0.11999999999999744,0.10000000000000142,0.129999999999999,0.09999999999999787,0.120000000000001,0.13000000000000256,0.0799999999999983,0.129999999999999,0.08999999999999986,0.11999999999999744,0.120000000000001,0.07000000000000028,0.020000000000003126,0.00999999999999801,0.07000000000000028,0.00999999999999801,0.019999999999999574,0.019999999999999574,0.019999999999999574,0.03999999999999915,0.0,0.0,0.0,0.0400000000000027,0.00999999999999801,0.0,0.0,0.0,0.00999999999999801,0.019999999999999574,0.05000000000000071,0.05999999999999872,0.05000000000000071,0.05999999999999872,0.08999999999999986,0.07000000000000028,0.07000000000000028,0.05999999999999872,0.08999999999999986,0.11999999999999744,0.08999999999999986,0.10999999999999943,0.10999999999999943,0.08999999999999986,0.10999999999999943,0.09999999999999787,0.0799999999999983,0.08999999999999986,0.09999999999999787,0.11000000000000298,0.10000000000000142,0.08000000000000185,0.0799999999999983,0.0799999999999983,0.05999999999999872,0.0799999999999983,0.07000000000000028,0.060000000000002274,0.10999999999999943,0.15000000000000213,0.21999999999999886],\"yaxis\":\"y\",\"type\":\"scatter\"}],                        {\"template\":{\"data\":{\"histogram2dcontour\":[{\"type\":\"histogram2dcontour\",\"colorbar\":{\"outlinewidth\":0,\"ticks\":\"\"},\"colorscale\":[[0.0,\"#0d0887\"],[0.1111111111111111,\"#46039f\"],[0.2222222222222222,\"#7201a8\"],[0.3333333333333333,\"#9c179e\"],[0.4444444444444444,\"#bd3786\"],[0.5555555555555556,\"#d8576b\"],[0.6666666666666666,\"#ed7953\"],[0.7777777777777778,\"#fb9f3a\"],[0.8888888888888888,\"#fdca26\"],[1.0,\"#f0f921\"]]}],\"choropleth\":[{\"type\":\"choropleth\",\"colorbar\":{\"outlinewidth\":0,\"ticks\":\"\"}}],\"histogram2d\":[{\"type\":\"histogram2d\",\"colorbar\":{\"outlinewidth\":0,\"ticks\":\"\"},\"colorscale\":[[0.0,\"#0d0887\"],[0.1111111111111111,\"#46039f\"],[0.2222222222222222,\"#7201a8\"],[0.3333333333333333,\"#9c179e\"],[0.4444444444444444,\"#bd3786\"],[0.5555555555555556,\"#d8576b\"],[0.6666666666666666,\"#ed7953\"],[0.7777777777777778,\"#fb9f3a\"],[0.8888888888888888,\"#fdca26\"],[1.0,\"#f0f921\"]]}],\"heatmap\":[{\"type\":\"heatmap\",\"colorbar\":{\"outlinewidth\":0,\"ticks\":\"\"},\"colorscale\":[[0.0,\"#0d0887\"],[0.1111111111111111,\"#46039f\"],[0.2222222222222222,\"#7201a8\"],[0.3333333333333333,\"#9c179e\"],[0.4444444444444444,\"#bd3786\"],[0.5555555555555556,\"#d8576b\"],[0.6666666666666666,\"#ed7953\"],[0.7777777777777778,\"#fb9f3a\"],[0.8888888888888888,\"#fdca26\"],[1.0,\"#f0f921\"]]}],\"heatmapgl\":[{\"type\":\"heatmapgl\",\"colorbar\":{\"outlinewidth\":0,\"ticks\":\"\"},\"colorscale\":[[0.0,\"#0d0887\"],[0.1111111111111111,\"#46039f\"],[0.2222222222222222,\"#7201a8\"],[0.3333333333333333,\"#9c179e\"],[0.4444444444444444,\"#bd3786\"],[0.5555555555555556,\"#d8576b\"],[0.6666666666666666,\"#ed7953\"],[0.7777777777777778,\"#fb9f3a\"],[0.8888888888888888,\"#fdca26\"],[1.0,\"#f0f921\"]]}],\"contourcarpet\":[{\"type\":\"contourcarpet\",\"colorbar\":{\"outlinewidth\":0,\"ticks\":\"\"}}],\"contour\":[{\"type\":\"contour\",\"colorbar\":{\"outlinewidth\":0,\"ticks\":\"\"},\"colorscale\":[[0.0,\"#0d0887\"],[0.1111111111111111,\"#46039f\"],[0.2222222222222222,\"#7201a8\"],[0.3333333333333333,\"#9c179e\"],[0.4444444444444444,\"#bd3786\"],[0.5555555555555556,\"#d8576b\"],[0.6666666666666666,\"#ed7953\"],[0.7777777777777778,\"#fb9f3a\"],[0.8888888888888888,\"#fdca26\"],[1.0,\"#f0f921\"]]}],\"surface\":[{\"type\":\"surface\",\"colorbar\":{\"outlinewidth\":0,\"ticks\":\"\"},\"colorscale\":[[0.0,\"#0d0887\"],[0.1111111111111111,\"#46039f\"],[0.2222222222222222,\"#7201a8\"],[0.3333333333333333,\"#9c179e\"],[0.4444444444444444,\"#bd3786\"],[0.5555555555555556,\"#d8576b\"],[0.6666666666666666,\"#ed7953\"],[0.7777777777777778,\"#fb9f3a\"],[0.8888888888888888,\"#fdca26\"],[1.0,\"#f0f921\"]]}],\"mesh3d\":[{\"type\":\"mesh3d\",\"colorbar\":{\"outlinewidth\":0,\"ticks\":\"\"}}],\"scatter\":[{\"fillpattern\":{\"fillmode\":\"overlay\",\"size\":10,\"solidity\":0.2},\"type\":\"scatter\"}],\"parcoords\":[{\"type\":\"parcoords\",\"line\":{\"colorbar\":{\"outlinewidth\":0,\"ticks\":\"\"}}}],\"scatterpolargl\":[{\"type\":\"scatterpolargl\",\"marker\":{\"colorbar\":{\"outlinewidth\":0,\"ticks\":\"\"}}}],\"bar\":[{\"error_x\":{\"color\":\"#2a3f5f\"},\"error_y\":{\"color\":\"#2a3f5f\"},\"marker\":{\"line\":{\"color\":\"#E5ECF6\",\"width\":0.5},\"pattern\":{\"fillmode\":\"overlay\",\"size\":10,\"solidity\":0.2}},\"type\":\"bar\"}],\"scattergeo\":[{\"type\":\"scattergeo\",\"marker\":{\"colorbar\":{\"outlinewidth\":0,\"ticks\":\"\"}}}],\"scatterpolar\":[{\"type\":\"scatterpolar\",\"marker\":{\"colorbar\":{\"outlinewidth\":0,\"ticks\":\"\"}}}],\"histogram\":[{\"marker\":{\"pattern\":{\"fillmode\":\"overlay\",\"size\":10,\"solidity\":0.2}},\"type\":\"histogram\"}],\"scattergl\":[{\"type\":\"scattergl\",\"marker\":{\"colorbar\":{\"outlinewidth\":0,\"ticks\":\"\"}}}],\"scatter3d\":[{\"type\":\"scatter3d\",\"line\":{\"colorbar\":{\"outlinewidth\":0,\"ticks\":\"\"}},\"marker\":{\"colorbar\":{\"outlinewidth\":0,\"ticks\":\"\"}}}],\"scattermapbox\":[{\"type\":\"scattermapbox\",\"marker\":{\"colorbar\":{\"outlinewidth\":0,\"ticks\":\"\"}}}],\"scatterternary\":[{\"type\":\"scatterternary\",\"marker\":{\"colorbar\":{\"outlinewidth\":0,\"ticks\":\"\"}}}],\"scattercarpet\":[{\"type\":\"scattercarpet\",\"marker\":{\"colorbar\":{\"outlinewidth\":0,\"ticks\":\"\"}}}],\"carpet\":[{\"aaxis\":{\"endlinecolor\":\"#2a3f5f\",\"gridcolor\":\"white\",\"linecolor\":\"white\",\"minorgridcolor\":\"white\",\"startlinecolor\":\"#2a3f5f\"},\"baxis\":{\"endlinecolor\":\"#2a3f5f\",\"gridcolor\":\"white\",\"linecolor\":\"white\",\"minorgridcolor\":\"white\",\"startlinecolor\":\"#2a3f5f\"},\"type\":\"carpet\"}],\"table\":[{\"cells\":{\"fill\":{\"color\":\"#EBF0F8\"},\"line\":{\"color\":\"white\"}},\"header\":{\"fill\":{\"color\":\"#C8D4E3\"},\"line\":{\"color\":\"white\"}},\"type\":\"table\"}],\"barpolar\":[{\"marker\":{\"line\":{\"color\":\"#E5ECF6\",\"width\":0.5},\"pattern\":{\"fillmode\":\"overlay\",\"size\":10,\"solidity\":0.2}},\"type\":\"barpolar\"}],\"pie\":[{\"automargin\":true,\"type\":\"pie\"}]},\"layout\":{\"autotypenumbers\":\"strict\",\"colorway\":[\"#636efa\",\"#EF553B\",\"#00cc96\",\"#ab63fa\",\"#FFA15A\",\"#19d3f3\",\"#FF6692\",\"#B6E880\",\"#FF97FF\",\"#FECB52\"],\"font\":{\"color\":\"#2a3f5f\"},\"hovermode\":\"closest\",\"hoverlabel\":{\"align\":\"left\"},\"paper_bgcolor\":\"white\",\"plot_bgcolor\":\"#E5ECF6\",\"polar\":{\"bgcolor\":\"#E5ECF6\",\"angularaxis\":{\"gridcolor\":\"white\",\"linecolor\":\"white\",\"ticks\":\"\"},\"radialaxis\":{\"gridcolor\":\"white\",\"linecolor\":\"white\",\"ticks\":\"\"}},\"ternary\":{\"bgcolor\":\"#E5ECF6\",\"aaxis\":{\"gridcolor\":\"white\",\"linecolor\":\"white\",\"ticks\":\"\"},\"baxis\":{\"gridcolor\":\"white\",\"linecolor\":\"white\",\"ticks\":\"\"},\"caxis\":{\"gridcolor\":\"white\",\"linecolor\":\"white\",\"ticks\":\"\"}},\"coloraxis\":{\"colorbar\":{\"outlinewidth\":0,\"ticks\":\"\"}},\"colorscale\":{\"sequential\":[[0.0,\"#0d0887\"],[0.1111111111111111,\"#46039f\"],[0.2222222222222222,\"#7201a8\"],[0.3333333333333333,\"#9c179e\"],[0.4444444444444444,\"#bd3786\"],[0.5555555555555556,\"#d8576b\"],[0.6666666666666666,\"#ed7953\"],[0.7777777777777778,\"#fb9f3a\"],[0.8888888888888888,\"#fdca26\"],[1.0,\"#f0f921\"]],\"sequentialminus\":[[0.0,\"#0d0887\"],[0.1111111111111111,\"#46039f\"],[0.2222222222222222,\"#7201a8\"],[0.3333333333333333,\"#9c179e\"],[0.4444444444444444,\"#bd3786\"],[0.5555555555555556,\"#d8576b\"],[0.6666666666666666,\"#ed7953\"],[0.7777777777777778,\"#fb9f3a\"],[0.8888888888888888,\"#fdca26\"],[1.0,\"#f0f921\"]],\"diverging\":[[0,\"#8e0152\"],[0.1,\"#c51b7d\"],[0.2,\"#de77ae\"],[0.3,\"#f1b6da\"],[0.4,\"#fde0ef\"],[0.5,\"#f7f7f7\"],[0.6,\"#e6f5d0\"],[0.7,\"#b8e186\"],[0.8,\"#7fbc41\"],[0.9,\"#4d9221\"],[1,\"#276419\"]]},\"xaxis\":{\"gridcolor\":\"white\",\"linecolor\":\"white\",\"ticks\":\"\",\"title\":{\"standoff\":15},\"zerolinecolor\":\"white\",\"automargin\":true,\"zerolinewidth\":2},\"yaxis\":{\"gridcolor\":\"white\",\"linecolor\":\"white\",\"ticks\":\"\",\"title\":{\"standoff\":15},\"zerolinecolor\":\"white\",\"automargin\":true,\"zerolinewidth\":2},\"scene\":{\"xaxis\":{\"backgroundcolor\":\"#E5ECF6\",\"gridcolor\":\"white\",\"linecolor\":\"white\",\"showbackground\":true,\"ticks\":\"\",\"zerolinecolor\":\"white\",\"gridwidth\":2},\"yaxis\":{\"backgroundcolor\":\"#E5ECF6\",\"gridcolor\":\"white\",\"linecolor\":\"white\",\"showbackground\":true,\"ticks\":\"\",\"zerolinecolor\":\"white\",\"gridwidth\":2},\"zaxis\":{\"backgroundcolor\":\"#E5ECF6\",\"gridcolor\":\"white\",\"linecolor\":\"white\",\"showbackground\":true,\"ticks\":\"\",\"zerolinecolor\":\"white\",\"gridwidth\":2}},\"shapedefaults\":{\"line\":{\"color\":\"#2a3f5f\"}},\"annotationdefaults\":{\"arrowcolor\":\"#2a3f5f\",\"arrowhead\":0,\"arrowwidth\":1},\"geo\":{\"bgcolor\":\"white\",\"landcolor\":\"#E5ECF6\",\"subunitcolor\":\"white\",\"showland\":true,\"showlakes\":true,\"lakecolor\":\"white\"},\"title\":{\"x\":0.05},\"mapbox\":{\"style\":\"light\"}}},\"xaxis\":{\"anchor\":\"y\",\"domain\":[0.0,1.0],\"title\":{\"text\":\"Data\"}},\"yaxis\":{\"anchor\":\"x\",\"domain\":[0.0,1.0],\"title\":{\"text\":\"PU\"}},\"legend\":{\"tracegroupgap\":0},\"margin\":{\"t\":60}},                        {\"responsive\": true}                    ).then(function(){\n",
       "                            \n",
       "var gd = document.getElementById('16cf6632-ef43-4577-8b7b-bb7880f63ee0');\n",
       "var x = new MutationObserver(function (mutations, observer) {{\n",
       "        var display = window.getComputedStyle(gd).display;\n",
       "        if (!display || display === 'none') {{\n",
       "            console.log([gd, 'removed!']);\n",
       "            Plotly.purge(gd);\n",
       "            observer.disconnect();\n",
       "        }}\n",
       "}});\n",
       "\n",
       "// Listen for the removal of the full notebook cells\n",
       "var notebookContainer = gd.closest('#notebook-container');\n",
       "if (notebookContainer) {{\n",
       "    x.observe(notebookContainer, {childList: true});\n",
       "}}\n",
       "\n",
       "// Listen for the clearing of the current output cell\n",
       "var outputEl = gd.closest('.output');\n",
       "if (outputEl) {{\n",
       "    x.observe(outputEl, {childList: true});\n",
       "}}\n",
       "\n",
       "                        })                };                });            </script>        </div>"
      ]
     },
     "metadata": {},
     "output_type": "display_data"
    }
   ],
   "source": [
    "fig = px.line(df_agg,x='Data',y='PU')\n",
    "# fig.update_xaxes(type='category')\n",
    "\n",
    "fig.show()"
   ]
  },
  {
   "cell_type": "code",
   "execution_count": 55,
   "id": "172ffed2",
   "metadata": {},
   "outputs": [],
   "source": []
  },
  {
   "cell_type": "code",
   "execution_count": null,
   "id": "1e0689c1",
   "metadata": {},
   "outputs": [],
   "source": []
  }
 ],
 "metadata": {
  "kernelspec": {
   "display_name": "Python 3 (ipykernel)",
   "language": "python",
   "name": "python3"
  },
  "language_info": {
   "codemirror_mode": {
    "name": "ipython",
    "version": 3
   },
   "file_extension": ".py",
   "mimetype": "text/x-python",
   "name": "python",
   "nbconvert_exporter": "python",
   "pygments_lexer": "ipython3",
   "version": "3.7.3"
  }
 },
 "nbformat": 4,
 "nbformat_minor": 5
}
