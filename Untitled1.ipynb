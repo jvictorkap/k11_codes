{
 "cells": [
  {
   "cell_type": "code",
   "execution_count": 2,
   "id": "526ce376",
   "metadata": {},
   "outputs": [],
   "source": [
    "\n",
    "import pandas as pd\n",
    "import psycopg2\n",
    "import config\n",
    "import workdays\n",
    "import datetime\n",
    "import requests\n",
    "\n",
    "\n",
    "holidays_br = workdays.load_holidays('BR')\n",
    "holidays_b3 = workdays.load_holidays('B3')\n",
    "dt = datetime.date.today()\n",
    "vcto_0 = dt.strftime('%d/%m/%Y')\n",
    "dt_pos = workdays.workday(dt, -1, holidays_br)\n",
    "dt_1 = workdays.workday(dt, -1, holidays_b3)\n",
    "dt_2 = workdays.workday(dt, -2, holidays_b3)"
   ]
  },
  {
   "cell_type": "code",
   "execution_count": 18,
   "id": "8016447a",
   "metadata": {},
   "outputs": [
    {
     "data": {
      "text/plain": [
       "datetime.date(2022, 11, 16)"
      ]
     },
     "execution_count": 18,
     "metadata": {},
     "output_type": "execute_result"
    }
   ],
   "source": [
    "dt"
   ]
  },
  {
   "cell_type": "code",
   "execution_count": 7,
   "id": "e5409042",
   "metadata": {},
   "outputs": [
    {
     "data": {
      "text/html": [
       "<div>\n",
       "<style scoped>\n",
       "    .dataframe tbody tr th:only-of-type {\n",
       "        vertical-align: middle;\n",
       "    }\n",
       "\n",
       "    .dataframe tbody tr th {\n",
       "        vertical-align: top;\n",
       "    }\n",
       "\n",
       "    .dataframe thead th {\n",
       "        text-align: right;\n",
       "    }\n",
       "</style>\n",
       "<table border=\"1\" class=\"dataframe\">\n",
       "  <thead>\n",
       "    <tr style=\"text-align: right;\">\n",
       "      <th></th>\n",
       "      <th>Unnamed: 0</th>\n",
       "      <th>dte_data</th>\n",
       "      <th>str_fundo</th>\n",
       "      <th>str_corretora</th>\n",
       "      <th>str_mercado</th>\n",
       "      <th>str_codigo</th>\n",
       "      <th>str_serie</th>\n",
       "      <th>dbl_lote</th>\n",
       "      <th>dbl_preco</th>\n",
       "      <th>dbl_lotepu</th>\n",
       "      <th>devolucao</th>\n",
       "      <th>performance</th>\n",
       "    </tr>\n",
       "  </thead>\n",
       "  <tbody>\n",
       "  </tbody>\n",
       "</table>\n",
       "</div>"
      ],
      "text/plain": [
       "Empty DataFrame\n",
       "Columns: [Unnamed: 0, dte_data, str_fundo, str_corretora, str_mercado, str_codigo, str_serie, dbl_lote, dbl_preco, dbl_lotepu, devolucao, performance]\n",
       "Index: []"
      ]
     },
     "execution_count": 7,
     "metadata": {},
     "output_type": "execute_result"
    }
   ],
   "source": [
    "df[df['str_corretora']=='Concordia']['performance'].sum()"
   ]
  },
  {
   "cell_type": "code",
   "execution_count": 15,
   "id": "de8ac982",
   "metadata": {},
   "outputs": [
    {
     "name": "stdout",
     "output_type": "stream",
     "text": [
      "10\n",
      "9\n",
      "8\n",
      "7\n",
      "6\n",
      "5\n",
      "4\n",
      "3\n",
      "2\n",
      "1\n"
     ]
    }
   ],
   "source": []
  },
  {
   "cell_type": "code",
   "execution_count": 28,
   "id": "8b4aa0b7",
   "metadata": {},
   "outputs": [],
   "source": [
    "total = 0\n",
    "for x in range(180,0,-1):\n",
    "    try:\n",
    "        df = pd.read_excel(f\"G:\\\\Trading\\\\K11\\\\Boletas\\\\boletas_{workdays.workday(dt, -x, holidays_br).strftime('%Y-%m-%d')}.xlsx\")\n",
    "        aux = df[df['str_corretora']=='Concordia']['performance'].sum()\n",
    "        \n",
    "    except:\n",
    "        aux = 0\n",
    "    total = total + aux"
   ]
  },
  {
   "cell_type": "code",
   "execution_count": 29,
   "id": "e12213c2",
   "metadata": {},
   "outputs": [
    {
     "data": {
      "text/plain": [
       "69866.0"
      ]
     },
     "execution_count": 29,
     "metadata": {},
     "output_type": "execute_result"
    }
   ],
   "source": [
    "total"
   ]
  }
 ],
 "metadata": {
  "kernelspec": {
   "display_name": "Python 3 (ipykernel)",
   "language": "python",
   "name": "python3"
  },
  "language_info": {
   "codemirror_mode": {
    "name": "ipython",
    "version": 3
   },
   "file_extension": ".py",
   "mimetype": "text/x-python",
   "name": "python",
   "nbconvert_exporter": "python",
   "pygments_lexer": "ipython3",
   "version": "3.7.3"
  }
 },
 "nbformat": 4,
 "nbformat_minor": 5
}
