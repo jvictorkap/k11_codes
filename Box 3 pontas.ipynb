{
 "cells": [
  {
   "cell_type": "code",
   "execution_count": 1,
   "id": "c2b1b1a7",
   "metadata": {},
   "outputs": [],
   "source": [
    "DB_TESTE_HOST = \"PGKPTL01\"\n",
    "DB_TESTE_NAME = \"db_Teste\"\n",
    "DB_TESTE_USER = \"kapitalo11\"\n",
    "DB_TESTE_PASS = \"kapitalo11\"\n",
    "\n",
    "import pandas as pd\n",
    "import psycopg2\n",
    "import workdays\n",
    "import matplotlib.pyplot as plt\n",
    "import plotly.offline as pyo\n",
    "import plotly.graph_objs as go\n",
    "# Set notebook mode to work in o\n",
    "import numpy as np\n",
    "import pandas as pd\n",
    "import plotly.graph_objs as go\n",
    "import psycopg2\n",
    "import pymongo\n",
    "from scipy.interpolate import interp1d\n",
    "import datetime\n",
    "from matplotlib import pyplot as plt\n",
    "from IPython.display import Markdown as md\n",
    "import plotly.express as px\n",
    "import plotly.graph_objects as go\n",
    "pd.options.mode.chained_assignment = None  # default='warn'\n",
    "\n",
    "from matplotlib.ticker import FuncFormatter\n",
    "\n",
    "import plotly.graph_objects as go"
   ]
  },
  {
   "cell_type": "code",
   "execution_count": null,
   "id": "51256fb1",
   "metadata": {},
   "outputs": [],
   "source": []
  }
 ],
 "metadata": {
  "kernelspec": {
   "display_name": "Python 3 (ipykernel)",
   "language": "python",
   "name": "python3"
  },
  "language_info": {
   "codemirror_mode": {
    "name": "ipython",
    "version": 3
   },
   "file_extension": ".py",
   "mimetype": "text/x-python",
   "name": "python",
   "nbconvert_exporter": "python",
   "pygments_lexer": "ipython3",
   "version": "3.7.3"
  }
 },
 "nbformat": 4,
 "nbformat_minor": 5
}
