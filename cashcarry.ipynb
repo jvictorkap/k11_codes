{
 "cells": [
  {
   "cell_type": "code",
   "execution_count": 61,
   "id": "4e8f089e",
   "metadata": {},
   "outputs": [
    {
     "data": {
      "text/html": [
       "<div>\n",
       "<style scoped>\n",
       "    .dataframe tbody tr th:only-of-type {\n",
       "        vertical-align: middle;\n",
       "    }\n",
       "\n",
       "    .dataframe tbody tr th {\n",
       "        vertical-align: top;\n",
       "    }\n",
       "\n",
       "    .dataframe thead th {\n",
       "        text-align: right;\n",
       "    }\n",
       "</style>\n",
       "<table border=\"1\" class=\"dataframe\">\n",
       "  <thead>\n",
       "    <tr style=\"text-align: right;\">\n",
       "      <th></th>\n",
       "      <th>dte_data</th>\n",
       "      <th>str_mercado</th>\n",
       "      <th>str_codigo</th>\n",
       "      <th>str_serie</th>\n",
       "      <th>dbl_lote</th>\n",
       "      <th>str_estrategia</th>\n",
       "    </tr>\n",
       "  </thead>\n",
       "  <tbody>\n",
       "    <tr>\n",
       "      <th>98</th>\n",
       "      <td>2022-10-10</td>\n",
       "      <td>Futuro</td>\n",
       "      <td>IND</td>\n",
       "      <td>Z22</td>\n",
       "      <td>1584.0</td>\n",
       "      <td>CashCarry</td>\n",
       "    </tr>\n",
       "    <tr>\n",
       "      <th>100</th>\n",
       "      <td>2022-10-10</td>\n",
       "      <td>Futuro</td>\n",
       "      <td>WIN</td>\n",
       "      <td>Z22</td>\n",
       "      <td>2.0</td>\n",
       "      <td>CashCarry</td>\n",
       "    </tr>\n",
       "    <tr>\n",
       "      <th>104</th>\n",
       "      <td>2022-10-10</td>\n",
       "      <td>Futuro</td>\n",
       "      <td>IND</td>\n",
       "      <td>Z22</td>\n",
       "      <td>-2056.0</td>\n",
       "      <td>CashCarry5</td>\n",
       "    </tr>\n",
       "    <tr>\n",
       "      <th>106</th>\n",
       "      <td>2022-10-10</td>\n",
       "      <td>Futuro</td>\n",
       "      <td>WIN</td>\n",
       "      <td>Z22</td>\n",
       "      <td>-484.0</td>\n",
       "      <td>CashCarry5</td>\n",
       "    </tr>\n",
       "  </tbody>\n",
       "</table>\n",
       "</div>"
      ],
      "text/plain": [
       "       dte_data str_mercado str_codigo str_serie  dbl_lote str_estrategia\n",
       "98   2022-10-10      Futuro        IND       Z22    1584.0      CashCarry\n",
       "100  2022-10-10      Futuro        WIN       Z22       2.0      CashCarry\n",
       "104  2022-10-10      Futuro        IND       Z22   -2056.0     CashCarry5\n",
       "106  2022-10-10      Futuro        WIN       Z22    -484.0     CashCarry5"
      ]
     },
     "metadata": {},
     "output_type": "display_data"
    },
    {
     "data": {
      "text/html": [
       "<div>\n",
       "<style scoped>\n",
       "    .dataframe tbody tr th:only-of-type {\n",
       "        vertical-align: middle;\n",
       "    }\n",
       "\n",
       "    .dataframe tbody tr th {\n",
       "        vertical-align: top;\n",
       "    }\n",
       "\n",
       "    .dataframe thead th {\n",
       "        text-align: right;\n",
       "    }\n",
       "</style>\n",
       "<table border=\"1\" class=\"dataframe\">\n",
       "  <thead>\n",
       "    <tr style=\"text-align: right;\">\n",
       "      <th></th>\n",
       "      <th>str_estrategia</th>\n",
       "      <th>str_codigo</th>\n",
       "      <th>dbl_lote</th>\n",
       "    </tr>\n",
       "  </thead>\n",
       "  <tbody>\n",
       "    <tr>\n",
       "      <th>0</th>\n",
       "      <td>CashCarry</td>\n",
       "      <td>IND</td>\n",
       "      <td>1584.4</td>\n",
       "    </tr>\n",
       "    <tr>\n",
       "      <th>1</th>\n",
       "      <td>CashCarry5</td>\n",
       "      <td>IND</td>\n",
       "      <td>-2152.8</td>\n",
       "    </tr>\n",
       "  </tbody>\n",
       "</table>\n",
       "</div>"
      ],
      "text/plain": [
       "  str_estrategia str_codigo  dbl_lote\n",
       "0      CashCarry        IND    1584.4\n",
       "1     CashCarry5        IND   -2152.8"
      ]
     },
     "execution_count": 61,
     "metadata": {},
     "output_type": "execute_result"
    }
   ],
   "source": [
    "\n",
    "import pandas as pd\n",
    "import psycopg2\n",
    "import config\n",
    "import workdays\n",
    "import datetime\n",
    "import requests\n",
    "\n",
    "\n",
    "holidays_br = workdays.load_holidays('BR')\n",
    "holidays_b3 = workdays.load_holidays('B3')\n",
    "dt = datetime.date.today()\n",
    "vcto_0 = dt.strftime('%d/%m/%Y')\n",
    "dt_pos = workdays.workday(dt, -1, holidays_br)\n",
    "dt_1 = workdays.workday(dt, -1, holidays_b3)\n",
    "dt_2 = workdays.workday(dt, -2, holidays_b3)\n",
    "\n",
    "\n",
    "\n",
    "\n",
    "def get_carteira(dt=dt_1):\n",
    "    db_conn_test = psycopg2.connect(host=config.DB_TESTE_HOST, dbname=config.DB_TESTE_NAME , user=config.DB_TESTE_USER, password=config.DB_TESTE_PASS)    \n",
    "    query=f\"SELECT dte_data, str_mercado, str_codigo, str_serie, dbl_lote, str_estrategia \\\n",
    "            FROM public.tbl_carteira1 where dte_data='{dt}' and str_estrategia like'%CashCarry%'  and str_fundo='KAPITALO KAPPA MASTER FIM' and str_mesa='Kapitalo 11.1'\"\n",
    "\n",
    "    df =pd.read_sql(query,db_conn_test)\n",
    "    db_conn_test.close()\n",
    "    return df\n",
    "\n",
    "def consulta_ibov():\n",
    "    r = requests.get('https://sistemaswebb3-listados.b3.com.br/indexProxy/indexCall/GetPortfolioDay/eyJsYW5ndWFnZSI6InB0LWJyIiwicGFnZU51bWJlciI6MSwicGFnZVNpemUiOjEyMCwiaW5kZXgiOiJJQk9WIiwic2VnbWVudCI6IjIifQ==', verify=False)\n",
    "    ibov = pd.DataFrame(r.json()['results'])\n",
    "    ibov['part']=ibov['part'].str.replace(',', '.').astype(float)\n",
    "    #reductor = float(r.json()['header']['reductor'].replace('.', '').replace(',', '.'))\n",
    "\n",
    "    ibov['theoricalQty'] = ibov['theoricalQty'].apply(lambda x: x.replace('.', '').replace(',', '.')).astype(float)\n",
    "    ibov['cod']= ibov['cod'].astype(str)\n",
    "    \n",
    "    ibov.loc[0,'reductor']= float(r.json()['header']['reductor'].replace('.', '').replace(',', '.'))\n",
    "\n",
    "    \n",
    "    return ibov\n",
    "\n",
    "\n",
    "df=get_carteira(dt_1)\n",
    "pos_futuro= df[df['str_mercado']=='Futuro']\n",
    "\n",
    "pos_futuro = pos_futuro[pos_futuro['str_serie']==\"Z22\"]\n",
    "\n",
    "pos_carteira=df[df['str_mercado']=='Acao']\n",
    "num_contratos=-pos_futuro.iloc[0]['dbl_lote']\n",
    "\n",
    "display(pos_futuro)\n",
    "\n",
    "pos_futuro['dbl_lote']=pos_futuro.apply(lambda row: row['dbl_lote']/5 if row['str_codigo']=='WIN' else row['dbl_lote'],axis=1)\n",
    "pos_futuro['str_codigo']='IND'\n",
    "    \n",
    "\n",
    "pos_futuro=pos_futuro.groupby([\"str_estrategia\",'str_codigo'],as_index=False).agg({'dbl_lote':sum})\n",
    "pos_futuro"
   ]
  },
  {
   "cell_type": "code",
   "execution_count": 62,
   "id": "91991142",
   "metadata": {},
   "outputs": [
    {
     "name": "stderr",
     "output_type": "stream",
     "text": [
      "C:\\Python37\\lib\\site-packages\\urllib3\\connectionpool.py:1050: InsecureRequestWarning: Unverified HTTPS request is being made to host 'sistemaswebb3-listados.b3.com.br'. Adding certificate verification is strongly advised. See: https://urllib3.readthedocs.io/en/1.26.x/advanced-usage.html#ssl-warnings\n",
      "  InsecureRequestWarning,\n"
     ]
    }
   ],
   "source": [
    "dt = datetime.date.today()\n",
    "r = requests.get('https://sistemaswebb3-listados.b3.com.br/indexProxy/indexCall/GetPortfolioDay/eyJsYW5ndWFnZSI6InB0LWJyIiwicGFnZU51bWJlciI6MSwicGFnZVNpemUiOjEyMCwiaW5kZXgiOiJJQk9WIiwic2VnbWVudCI6IjIifQ==', verify=False)\n",
    "ibov = pd.DataFrame(r.json()['results']).drop(columns=['segment','partAcum'])\n",
    "ibov['part']=ibov['part'].str.replace(',', '.').astype(float)\n",
    "#reductor = float(r.json()['header']['reductor'].replace('.', '').replace(',', '.'))\n",
    "\n",
    "ibov['theoricalQty'] = ibov['theoricalQty'].apply(lambda x: x.replace('.', '').replace(',', '.')).astype(float)\n",
    "ibov['cod']= ibov['cod'].astype(str)\n",
    "\n",
    "ibov.loc[0,'reductor']= float(r.json()['header']['reductor'].replace('.', '').replace(',', '.'))\n",
    "\n",
    "# ibov.to_excel(f\"G:\\Trading\\K11\\CashCarry\\Carteira Ibovespa\\\\Carteira_IBOV_{dt.strftime('%Y-%m-%d')}.xlsx\")"
   ]
  },
  {
   "cell_type": "code",
   "execution_count": 63,
   "id": "6729776e",
   "metadata": {},
   "outputs": [],
   "source": [
    "kappa = pos_futuro['dbl_lote'].sum()"
   ]
  },
  {
   "cell_type": "code",
   "execution_count": 60,
   "id": "06f2a6f6",
   "metadata": {},
   "outputs": [
    {
     "data": {
      "text/plain": [
       "-1055.6"
      ]
     },
     "execution_count": 60,
     "metadata": {},
     "output_type": "execute_result"
    }
   ],
   "source": [
    "kappa - 482.4"
   ]
  },
  {
   "cell_type": "code",
   "execution_count": 64,
   "id": "9d566fa8",
   "metadata": {},
   "outputs": [
    {
     "data": {
      "text/html": [
       "<div>\n",
       "<style scoped>\n",
       "    .dataframe tbody tr th:only-of-type {\n",
       "        vertical-align: middle;\n",
       "    }\n",
       "\n",
       "    .dataframe tbody tr th {\n",
       "        vertical-align: top;\n",
       "    }\n",
       "\n",
       "    .dataframe thead th {\n",
       "        text-align: right;\n",
       "    }\n",
       "</style>\n",
       "<table border=\"1\" class=\"dataframe\">\n",
       "  <thead>\n",
       "    <tr style=\"text-align: right;\">\n",
       "      <th></th>\n",
       "      <th>str_estrategia</th>\n",
       "      <th>str_codigo</th>\n",
       "      <th>dbl_lote</th>\n",
       "    </tr>\n",
       "  </thead>\n",
       "  <tbody>\n",
       "    <tr>\n",
       "      <th>0</th>\n",
       "      <td>CashCarry</td>\n",
       "      <td>IND</td>\n",
       "      <td>1584.4</td>\n",
       "    </tr>\n",
       "    <tr>\n",
       "      <th>1</th>\n",
       "      <td>CashCarry5</td>\n",
       "      <td>IND</td>\n",
       "      <td>-2152.8</td>\n",
       "    </tr>\n",
       "  </tbody>\n",
       "</table>\n",
       "</div>"
      ],
      "text/plain": [
       "  str_estrategia str_codigo  dbl_lote\n",
       "0      CashCarry        IND    1584.4\n",
       "1     CashCarry5        IND   -2152.8"
      ]
     },
     "execution_count": 64,
     "metadata": {},
     "output_type": "execute_result"
    }
   ],
   "source": [
    "pos_futuro"
   ]
  },
  {
   "cell_type": "code",
   "execution_count": 65,
   "id": "e96fcc61",
   "metadata": {},
   "outputs": [
    {
     "name": "stderr",
     "output_type": "stream",
     "text": [
      "C:\\Python37\\lib\\site-packages\\urllib3\\connectionpool.py:1050: InsecureRequestWarning: Unverified HTTPS request is being made to host 'sistemaswebb3-listados.b3.com.br'. Adding certificate verification is strongly advised. See: https://urllib3.readthedocs.io/en/1.26.x/advanced-usage.html#ssl-warnings\n",
      "  InsecureRequestWarning,\n"
     ]
    },
    {
     "data": {
      "text/plain": [
       "1584.4"
      ]
     },
     "metadata": {},
     "output_type": "display_data"
    },
    {
     "data": {
      "text/html": [
       "<div>\n",
       "<style scoped>\n",
       "    .dataframe tbody tr th:only-of-type {\n",
       "        vertical-align: middle;\n",
       "    }\n",
       "\n",
       "    .dataframe tbody tr th {\n",
       "        vertical-align: top;\n",
       "    }\n",
       "\n",
       "    .dataframe thead th {\n",
       "        text-align: right;\n",
       "    }\n",
       "</style>\n",
       "<table border=\"1\" class=\"dataframe\">\n",
       "  <thead>\n",
       "    <tr style=\"text-align: right;\">\n",
       "      <th></th>\n",
       "      <th>cod</th>\n",
       "      <th>trade</th>\n",
       "    </tr>\n",
       "  </thead>\n",
       "  <tbody>\n",
       "    <tr>\n",
       "      <th>14</th>\n",
       "      <td>BRAP4</td>\n",
       "      <td>200.0</td>\n",
       "    </tr>\n",
       "    <tr>\n",
       "      <th>42</th>\n",
       "      <td>FLRY3</td>\n",
       "      <td>-200.0</td>\n",
       "    </tr>\n",
       "    <tr>\n",
       "      <th>52</th>\n",
       "      <td>JBSS3</td>\n",
       "      <td>-200.0</td>\n",
       "    </tr>\n",
       "    <tr>\n",
       "      <th>53</th>\n",
       "      <td>KLBN11</td>\n",
       "      <td>200.0</td>\n",
       "    </tr>\n",
       "    <tr>\n",
       "      <th>69</th>\n",
       "      <td>RAIL3</td>\n",
       "      <td>-200.0</td>\n",
       "    </tr>\n",
       "    <tr>\n",
       "      <th>75</th>\n",
       "      <td>SBSP3</td>\n",
       "      <td>-200.0</td>\n",
       "    </tr>\n",
       "  </tbody>\n",
       "</table>\n",
       "</div>"
      ],
      "text/plain": [
       "       cod  trade\n",
       "14   BRAP4  200.0\n",
       "42   FLRY3 -200.0\n",
       "52   JBSS3 -200.0\n",
       "53  KLBN11  200.0\n",
       "69   RAIL3 -200.0\n",
       "75   SBSP3 -200.0"
      ]
     },
     "execution_count": 65,
     "metadata": {},
     "output_type": "execute_result"
    }
   ],
   "source": [
    "df=get_carteira()\n",
    "ibov=consulta_ibov()\n",
    "num_contratos=pos_futuro.loc[(pos_futuro['str_estrategia']==\"CashCarry\")].iloc[0]['dbl_lote']\n",
    "pos_carteira = pos_carteira[pos_carteira['str_estrategia']=='CashCarry']\n",
    "display(num_contratos)\n",
    "redutor=ibov['reductor'].tolist()[0]\n",
    "ibov=ibov[['cod','theoricalQty']]\n",
    "\n",
    "\n",
    "pos_carteira['cod']=pos_carteira['str_serie'].apply(lambda x: x.replace(' BZ EQUITY',''))\n",
    "\n",
    "rebal=pd.merge(pos_carteira,ibov, on='cod',how='inner')\n",
    "\n",
    "rebal['ideal']= rebal.apply(lambda row: -row['theoricalQty']*num_contratos/redutor, axis=1)\n",
    "\n",
    "rebal['trade']=round((rebal['ideal']-rebal['dbl_lote'])/100,0)*100\n",
    "# rebal['trade']=round(rebal['ideal'],0)-rebal['dbl_lote']\n",
    "rebal=rebal[abs(rebal['trade'])>100]\n",
    "trade=rebal[['cod','trade']]\n",
    "# rebal\n",
    "\n",
    "# trade.to_excel('ajuste_cash.xlsx')\n",
    "# num_contratos\n",
    "trade\n",
    "# trade.to_clipboard(excel=True)\n",
    "\n",
    "\n",
    "\n"
   ]
  },
  {
   "cell_type": "code",
   "execution_count": 29,
   "id": "b2393cc1",
   "metadata": {},
   "outputs": [
    {
     "name": "stderr",
     "output_type": "stream",
     "text": [
      "C:\\Python37\\lib\\site-packages\\ipykernel_launcher.py:6: SettingWithCopyWarning: \n",
      "A value is trying to be set on a copy of a slice from a DataFrame.\n",
      "Try using .loc[row_indexer,col_indexer] = value instead\n",
      "\n",
      "See the caveats in the documentation: https://pandas.pydata.org/pandas-docs/stable/user_guide/indexing.html#returning-a-view-versus-a-copy\n",
      "  \n"
     ]
    },
    {
     "data": {
      "text/html": [
       "<div>\n",
       "<style scoped>\n",
       "    .dataframe tbody tr th:only-of-type {\n",
       "        vertical-align: middle;\n",
       "    }\n",
       "\n",
       "    .dataframe tbody tr th {\n",
       "        vertical-align: top;\n",
       "    }\n",
       "\n",
       "    .dataframe thead th {\n",
       "        text-align: right;\n",
       "    }\n",
       "</style>\n",
       "<table border=\"1\" class=\"dataframe\">\n",
       "  <thead>\n",
       "    <tr style=\"text-align: right;\">\n",
       "      <th></th>\n",
       "      <th></th>\n",
       "      <th></th>\n",
       "      <th>dbl_lote</th>\n",
       "      <th>dbl_lote_ind</th>\n",
       "    </tr>\n",
       "    <tr>\n",
       "      <th>str_codigo</th>\n",
       "      <th>str_serie</th>\n",
       "      <th>str_estrategia</th>\n",
       "      <th></th>\n",
       "      <th></th>\n",
       "    </tr>\n",
       "  </thead>\n",
       "  <tbody>\n",
       "    <tr>\n",
       "      <th rowspan=\"2\" valign=\"top\">IND</th>\n",
       "      <th rowspan=\"2\" valign=\"top\">V22</th>\n",
       "      <th>CashCarry</th>\n",
       "      <td>1258.0</td>\n",
       "      <td>1258.0</td>\n",
       "    </tr>\n",
       "    <tr>\n",
       "      <th>CashCarry5</th>\n",
       "      <td>-1360.0</td>\n",
       "      <td>-1360.0</td>\n",
       "    </tr>\n",
       "    <tr>\n",
       "      <th rowspan=\"2\" valign=\"top\">WIN</th>\n",
       "      <th rowspan=\"2\" valign=\"top\">V22</th>\n",
       "      <th>CashCarry</th>\n",
       "      <td>1932.0</td>\n",
       "      <td>386.4</td>\n",
       "    </tr>\n",
       "    <tr>\n",
       "      <th>CashCarry5</th>\n",
       "      <td>-3964.0</td>\n",
       "      <td>-792.8</td>\n",
       "    </tr>\n",
       "  </tbody>\n",
       "</table>\n",
       "</div>"
      ],
      "text/plain": [
       "                                     dbl_lote  dbl_lote_ind\n",
       "str_codigo str_serie str_estrategia                        \n",
       "IND        V22       CashCarry         1258.0        1258.0\n",
       "                     CashCarry5       -1360.0       -1360.0\n",
       "WIN        V22       CashCarry         1932.0         386.4\n",
       "                     CashCarry5       -3964.0        -792.8"
      ]
     },
     "execution_count": 29,
     "metadata": {},
     "output_type": "execute_result"
    }
   ],
   "source": [
    "pos_bova=df[df['str_mercado']==\"Futuro\"]\n",
    "\n",
    "# roll=pos_bova[pos_bova['str_serie']=='M22']\n",
    "# pos_bova\n",
    "# roll\n",
    "pos_bova['dbl_lote_ind']=pos_bova.apply(lambda row: (row['dbl_lote']/5) if (row['str_codigo']=='WIN') else row['dbl_lote'],axis=1)\n",
    "\n",
    "\n",
    "# roll['dbl_lote_ind']=roll.apply(lambda row: (row['dbl_lote']/5) if (row['str_codigo']=='WIN') else row['dbl_lote'],axis=1)\n",
    "\n",
    "pos_bova.groupby(['str_codigo','str_serie','str_estrategia']).sum()\n",
    "\n",
    "# roll=roll['dbl_lote_ind'].sum()\n",
    "# roll\n",
    "\n",
    "# pos_bova['dbl_lote_ind'].sum()\n",
    "\n",
    "# -950 \n",
    "\n",
    "\n",
    "# 659 \n"
   ]
  },
  {
   "cell_type": "code",
   "execution_count": 43,
   "id": "79131bd3",
   "metadata": {},
   "outputs": [
    {
     "data": {
      "text/plain": [
       "-508.39999999999986"
      ]
     },
     "execution_count": 43,
     "metadata": {},
     "output_type": "execute_result"
    }
   ],
   "source": [
    "pos_bova['dbl_lote_ind'].sum()"
   ]
  },
  {
   "cell_type": "code",
   "execution_count": 44,
   "id": "388dc304",
   "metadata": {},
   "outputs": [
    {
     "data": {
      "text/plain": [
       "1644.4"
      ]
     },
     "execution_count": 44,
     "metadata": {},
     "output_type": "execute_result"
    }
   ],
   "source": [
    "pos_bova[pos_bova['str_estrategia']=='CashCarry']['dbl_lote_ind'].sum()"
   ]
  },
  {
   "cell_type": "code",
   "execution_count": 45,
   "id": "d5271466",
   "metadata": {},
   "outputs": [],
   "source": [
    "## ZETA FIA\n",
    "\n",
    "\n",
    "    \n",
    "    \n",
    "def get_carteira_zeta(dt=dt_1):\n",
    "    db_conn_test = psycopg2.connect(host=config.DB_TESTE_HOST, dbname=config.DB_TESTE_NAME , user=config.DB_TESTE_USER, password=config.DB_TESTE_PASS)    \n",
    "    query=f\"SELECT dte_data, str_mercado, str_codigo, str_serie, dbl_lote, str_estrategia \\\n",
    "            FROM public.tbl_carteira1 where dte_data='{dt}' and str_estrategia like'%CashCarry%'  and str_fundo='KAPITALO ZETA MASTER FIA' and str_mesa='Kapitalo 11.1'\"\n",
    "\n",
    "    df =pd.read_sql(query,db_conn_test)\n",
    "    db_conn_test.close()\n",
    "    \n",
    "    return df\n"
   ]
  },
  {
   "cell_type": "code",
   "execution_count": 46,
   "id": "6bf813fc",
   "metadata": {},
   "outputs": [
    {
     "data": {
      "text/html": [
       "<div>\n",
       "<style scoped>\n",
       "    .dataframe tbody tr th:only-of-type {\n",
       "        vertical-align: middle;\n",
       "    }\n",
       "\n",
       "    .dataframe tbody tr th {\n",
       "        vertical-align: top;\n",
       "    }\n",
       "\n",
       "    .dataframe thead th {\n",
       "        text-align: right;\n",
       "    }\n",
       "</style>\n",
       "<table border=\"1\" class=\"dataframe\">\n",
       "  <thead>\n",
       "    <tr style=\"text-align: right;\">\n",
       "      <th></th>\n",
       "      <th>dte_data</th>\n",
       "      <th>str_mercado</th>\n",
       "      <th>str_codigo</th>\n",
       "      <th>str_serie</th>\n",
       "      <th>dbl_lote</th>\n",
       "      <th>str_estrategia</th>\n",
       "    </tr>\n",
       "  </thead>\n",
       "  <tbody>\n",
       "    <tr>\n",
       "      <th>0</th>\n",
       "      <td>2022-10-06</td>\n",
       "      <td>Acao</td>\n",
       "      <td>BOVA</td>\n",
       "      <td>BOVA11 BZ EQUITY</td>\n",
       "      <td>502941.0</td>\n",
       "      <td>CashCarry5</td>\n",
       "    </tr>\n",
       "  </tbody>\n",
       "</table>\n",
       "</div>"
      ],
      "text/plain": [
       "     dte_data str_mercado str_codigo         str_serie  dbl_lote  \\\n",
       "0  2022-10-06        Acao       BOVA  BOVA11 BZ EQUITY  502941.0   \n",
       "\n",
       "  str_estrategia  \n",
       "0     CashCarry5  "
      ]
     },
     "metadata": {},
     "output_type": "display_data"
    },
    {
     "name": "stderr",
     "output_type": "stream",
     "text": [
      "C:\\Python37\\lib\\site-packages\\ipykernel_launcher.py:12: SettingWithCopyWarning: \n",
      "A value is trying to be set on a copy of a slice from a DataFrame.\n",
      "Try using .loc[row_indexer,col_indexer] = value instead\n",
      "\n",
      "See the caveats in the documentation: https://pandas.pydata.org/pandas-docs/stable/user_guide/indexing.html#returning-a-view-versus-a-copy\n",
      "  if sys.path[0] == '':\n",
      "C:\\Python37\\lib\\site-packages\\ipykernel_launcher.py:13: SettingWithCopyWarning: \n",
      "A value is trying to be set on a copy of a slice from a DataFrame.\n",
      "Try using .loc[row_indexer,col_indexer] = value instead\n",
      "\n",
      "See the caveats in the documentation: https://pandas.pydata.org/pandas-docs/stable/user_guide/indexing.html#returning-a-view-versus-a-copy\n",
      "  del sys.path[0]\n"
     ]
    }
   ],
   "source": [
    "\n",
    "df=get_carteira_zeta(dt_1)\n",
    "pos_futuro= df[df['str_mercado']=='Futuro']\n",
    "\n",
    "\n",
    "pos_carteira=df[df['str_mercado']=='Acao']\n",
    "num_contratos=-pos_futuro.iloc[0]['dbl_lote']\n",
    "\n",
    "df\n",
    "display(pos_carteira)\n",
    "pos_carteira.to_clipboard(excel=True, sep=None)\n",
    "# pos_carteira.to_excel('.xlsx')\n",
    "pos_futuro['dbl_lote']=pos_futuro.apply(lambda row: row['dbl_lote']/5 if row['str_codigo']=='WIN' else row['dbl_lote'],axis=1)\n",
    "pos_futuro['str_codigo']='IND'\n",
    "pos_futuro=pos_futuro.groupby([\"str_estrategia\",'str_codigo'],as_index=False).agg({'dbl_lote':sum})\n"
   ]
  },
  {
   "cell_type": "code",
   "execution_count": 47,
   "id": "9793e9f0",
   "metadata": {},
   "outputs": [
    {
     "name": "stderr",
     "output_type": "stream",
     "text": [
      "C:\\Python37\\lib\\site-packages\\urllib3\\connectionpool.py:1050: InsecureRequestWarning: Unverified HTTPS request is being made to host 'sistemaswebb3-listados.b3.com.br'. Adding certificate verification is strongly advised. See: https://urllib3.readthedocs.io/en/1.26.x/advanced-usage.html#ssl-warnings\n",
      "  InsecureRequestWarning,\n"
     ]
    }
   ],
   "source": [
    "df=get_carteira_zeta(dt_1)\n",
    "ibov=consulta_ibov()\n",
    "num_contratos_z=pos_futuro[pos_futuro['str_estrategia']==\"CashCarry5\"].iloc[0]['dbl_lote']\n",
    "\n",
    "# redutor=ibov['reductor'].tolist()[0]\n",
    "# ibov=ibov[['cod','theoricalQty']]\n",
    "\n",
    "\n",
    "# pos_carteira['cod']=pos_carteira['str_serie'].apply(lambda x: x.replace(' BZ EQUITY',''))\n",
    "\n",
    "# rebal=pd.merge(pos_carteira,ibov, on='cod',how='inner')\n",
    "\n",
    "# rebal['ideal']= rebal.apply(lambda row: row['theoricalQty']*num_contratos/redutor, axis=1)\n",
    "\n",
    "# rebal['trade']=round((rebal['ideal']-rebal['dbl_lote'])/100,0)*100\n",
    "# rebal=rebal[abs(rebal['trade'])>0]\n",
    "# trade=rebal[['cod','trade']]\n",
    "\n",
    "# trade\n"
   ]
  },
  {
   "cell_type": "code",
   "execution_count": 48,
   "id": "e78e8e45",
   "metadata": {},
   "outputs": [
    {
     "data": {
      "text/html": [
       "<div>\n",
       "<style scoped>\n",
       "    .dataframe tbody tr th:only-of-type {\n",
       "        vertical-align: middle;\n",
       "    }\n",
       "\n",
       "    .dataframe tbody tr th {\n",
       "        vertical-align: top;\n",
       "    }\n",
       "\n",
       "    .dataframe thead th {\n",
       "        text-align: right;\n",
       "    }\n",
       "</style>\n",
       "<table border=\"1\" class=\"dataframe\">\n",
       "  <thead>\n",
       "    <tr style=\"text-align: right;\">\n",
       "      <th></th>\n",
       "      <th>dte_data</th>\n",
       "      <th>str_mercado</th>\n",
       "      <th>str_codigo</th>\n",
       "      <th>str_serie</th>\n",
       "      <th>dbl_lote</th>\n",
       "      <th>str_estrategia</th>\n",
       "    </tr>\n",
       "  </thead>\n",
       "  <tbody>\n",
       "    <tr>\n",
       "      <th>0</th>\n",
       "      <td>2022-10-06</td>\n",
       "      <td>Acao</td>\n",
       "      <td>BOVA</td>\n",
       "      <td>BOVA11 BZ EQUITY</td>\n",
       "      <td>502941.0</td>\n",
       "      <td>CashCarry5</td>\n",
       "    </tr>\n",
       "    <tr>\n",
       "      <th>1</th>\n",
       "      <td>2022-10-06</td>\n",
       "      <td>Futuro</td>\n",
       "      <td>IND</td>\n",
       "      <td>V22</td>\n",
       "      <td>-482.0</td>\n",
       "      <td>CashCarry5</td>\n",
       "    </tr>\n",
       "    <tr>\n",
       "      <th>2</th>\n",
       "      <td>2022-10-06</td>\n",
       "      <td>Futuro</td>\n",
       "      <td>WIN</td>\n",
       "      <td>V22</td>\n",
       "      <td>-2.0</td>\n",
       "      <td>CashCarry5</td>\n",
       "    </tr>\n",
       "  </tbody>\n",
       "</table>\n",
       "</div>"
      ],
      "text/plain": [
       "     dte_data str_mercado str_codigo         str_serie  dbl_lote  \\\n",
       "0  2022-10-06        Acao       BOVA  BOVA11 BZ EQUITY  502941.0   \n",
       "1  2022-10-06      Futuro        IND               V22    -482.0   \n",
       "2  2022-10-06      Futuro        WIN               V22      -2.0   \n",
       "\n",
       "  str_estrategia  \n",
       "0     CashCarry5  \n",
       "1     CashCarry5  \n",
       "2     CashCarry5  "
      ]
     },
     "execution_count": 48,
     "metadata": {},
     "output_type": "execute_result"
    }
   ],
   "source": [
    "df"
   ]
  },
  {
   "cell_type": "code",
   "execution_count": 51,
   "id": "e0fddb0a",
   "metadata": {},
   "outputs": [
    {
     "data": {
      "text/plain": [
       "-964.8"
      ]
     },
     "execution_count": 51,
     "metadata": {},
     "output_type": "execute_result"
    }
   ],
   "source": [
    "num_contratos_z+kappa"
   ]
  },
  {
   "cell_type": "code",
   "execution_count": 13,
   "id": "38a086ff",
   "metadata": {},
   "outputs": [
    {
     "data": {
      "text/html": [
       "<div>\n",
       "<style scoped>\n",
       "    .dataframe tbody tr th:only-of-type {\n",
       "        vertical-align: middle;\n",
       "    }\n",
       "\n",
       "    .dataframe tbody tr th {\n",
       "        vertical-align: top;\n",
       "    }\n",
       "\n",
       "    .dataframe thead th {\n",
       "        text-align: right;\n",
       "    }\n",
       "</style>\n",
       "<table border=\"1\" class=\"dataframe\">\n",
       "  <thead>\n",
       "    <tr style=\"text-align: right;\">\n",
       "      <th></th>\n",
       "      <th>dte_data</th>\n",
       "      <th>str_mercado</th>\n",
       "      <th>str_codigo</th>\n",
       "      <th>str_serie</th>\n",
       "      <th>dbl_lote</th>\n",
       "      <th>str_estrategia</th>\n",
       "    </tr>\n",
       "  </thead>\n",
       "  <tbody>\n",
       "    <tr>\n",
       "      <th>0</th>\n",
       "      <td>2022-09-15</td>\n",
       "      <td>Acao</td>\n",
       "      <td>BOVA</td>\n",
       "      <td>BOVA11 BZ EQUITY</td>\n",
       "      <td>502941.0</td>\n",
       "      <td>CashCarry5</td>\n",
       "    </tr>\n",
       "    <tr>\n",
       "      <th>1</th>\n",
       "      <td>2022-09-15</td>\n",
       "      <td>Futuro</td>\n",
       "      <td>IND</td>\n",
       "      <td>V22</td>\n",
       "      <td>-482.0</td>\n",
       "      <td>CashCarry5</td>\n",
       "    </tr>\n",
       "    <tr>\n",
       "      <th>2</th>\n",
       "      <td>2022-09-15</td>\n",
       "      <td>Futuro</td>\n",
       "      <td>WIN</td>\n",
       "      <td>V22</td>\n",
       "      <td>-2.0</td>\n",
       "      <td>CashCarry5</td>\n",
       "    </tr>\n",
       "  </tbody>\n",
       "</table>\n",
       "</div>"
      ],
      "text/plain": [
       "     dte_data str_mercado str_codigo         str_serie  dbl_lote  \\\n",
       "0  2022-09-15        Acao       BOVA  BOVA11 BZ EQUITY  502941.0   \n",
       "1  2022-09-15      Futuro        IND               V22    -482.0   \n",
       "2  2022-09-15      Futuro        WIN               V22      -2.0   \n",
       "\n",
       "  str_estrategia  \n",
       "0     CashCarry5  \n",
       "1     CashCarry5  \n",
       "2     CashCarry5  "
      ]
     },
     "execution_count": 13,
     "metadata": {},
     "output_type": "execute_result"
    }
   ],
   "source": [
    "df"
   ]
  },
  {
   "cell_type": "code",
   "execution_count": 14,
   "id": "0896db28",
   "metadata": {},
   "outputs": [
    {
     "ename": "IndentationError",
     "evalue": "unexpected indent (Temp/ipykernel_21468/3230369956.py, line 3)",
     "output_type": "error",
     "traceback": [
      "\u001b[1;36m  File \u001b[1;32m\"C:\\Users\\JOAO~1.RAM\\AppData\\Local\\Temp/ipykernel_21468/3230369956.py\"\u001b[1;36m, line \u001b[1;32m3\u001b[0m\n\u001b[1;33m    db_conn_test = psycopg2.connect(host=acesso.DB_TESTE_HOST, dbname=acesso.DB_TESTE_NAME , user='k_geral', password='Kapitalo@01')\u001b[0m\n\u001b[1;37m    ^\u001b[0m\n\u001b[1;31mIndentationError\u001b[0m\u001b[1;31m:\u001b[0m unexpected indent\n"
     ]
    }
   ],
   "source": [
    " query= f\"SELECT  * \\\n",
    "            FROM tbl_gerencialajustes where dte_data='{self.dt_1.strftime('%Y-%m-%d')}' and str_mesa ='Kapitalo 11.1' and str_mercado='Futuro' and str_codigo='{name}' and str_fundo='{fundo}' and str_serie='{serie}' \"\n",
    "            db_conn_test = psycopg2.connect(host=acesso.DB_TESTE_HOST, dbname=acesso.DB_TESTE_NAME , user='k_geral', password='Kapitalo@01')\n",
    "            ga=pd.read_sql(query,db_conn_test)"
   ]
  }
 ],
 "metadata": {
  "kernelspec": {
   "display_name": "Python 3 (ipykernel)",
   "language": "python",
   "name": "python3"
  },
  "language_info": {
   "codemirror_mode": {
    "name": "ipython",
    "version": 3
   },
   "file_extension": ".py",
   "mimetype": "text/x-python",
   "name": "python",
   "nbconvert_exporter": "python",
   "pygments_lexer": "ipython3",
   "version": "3.7.3"
  }
 },
 "nbformat": 4,
 "nbformat_minor": 5
}
